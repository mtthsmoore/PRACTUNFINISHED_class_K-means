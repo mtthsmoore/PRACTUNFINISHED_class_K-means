{
 "cells": [
  {
   "cell_type": "markdown",
   "metadata": {
    "papermill": {
     "duration": 0.048858,
     "end_time": "2022-02-25T17:31:07.602382",
     "exception": false,
     "start_time": "2022-02-25T17:31:07.553524",
     "status": "completed"
    },
    "tags": []
   },
   "source": [
    "# Libraries"
   ]
  },
  {
   "cell_type": "code",
   "execution_count": 1,
   "metadata": {
    "execution": {
     "iopub.execute_input": "2022-02-25T17:31:07.699227Z",
     "iopub.status.busy": "2022-02-25T17:31:07.697981Z",
     "iopub.status.idle": "2022-02-25T17:31:09.091194Z",
     "shell.execute_reply": "2022-02-25T17:31:09.090474Z",
     "shell.execute_reply.started": "2022-02-25T17:29:52.903787Z"
    },
    "papermill": {
     "duration": 1.442879,
     "end_time": "2022-02-25T17:31:09.091385",
     "exception": false,
     "start_time": "2022-02-25T17:31:07.648506",
     "status": "completed"
    },
    "tags": []
   },
   "outputs": [],
   "source": [
    "import os\n",
    "import pandas as pd\n",
    "import numpy as np\n",
    "import matplotlib.pyplot as plt\n",
    "\n",
    "from sklearn.model_selection import train_test_split, GridSearchCV\n",
    "from xgboost import XGBClassifier\n",
    "from sklearn.metrics import accuracy_score\n",
    "from sklearn.preprocessing import MinMaxScaler\n",
    "from sklearn.neighbors import KNeighborsClassifier\n",
    "from sklearn.tree import DecisionTreeClassifier\n",
    "\n",
    "import warnings\n",
    "warnings.filterwarnings(\"ignore\")"
   ]
  },
  {
   "cell_type": "markdown",
   "metadata": {
    "papermill": {
     "duration": 0.046733,
     "end_time": "2022-02-25T17:31:09.390186",
     "exception": false,
     "start_time": "2022-02-25T17:31:09.343453",
     "status": "completed"
    },
    "tags": []
   },
   "source": [
    "# Load Data"
   ]
  },
  {
   "cell_type": "code",
   "execution_count": 2,
   "metadata": {
    "execution": {
     "iopub.execute_input": "2022-02-25T17:31:09.491996Z",
     "iopub.status.busy": "2022-02-25T17:31:09.490997Z",
     "iopub.status.idle": "2022-02-25T17:31:09.590070Z",
     "shell.execute_reply": "2022-02-25T17:31:09.589519Z",
     "shell.execute_reply.started": "2022-02-25T17:29:54.454997Z"
    },
    "papermill": {
     "duration": 0.152622,
     "end_time": "2022-02-25T17:31:09.590241",
     "exception": false,
     "start_time": "2022-02-25T17:31:09.437619",
     "status": "completed"
    },
    "tags": []
   },
   "outputs": [],
   "source": [
    "train_data = pd.read_csv(\"train.csv\")\n",
    "test_data = pd.read_csv(\"test.csv\")"
   ]
  },
  {
   "cell_type": "markdown",
   "metadata": {
    "papermill": {
     "duration": 0.050703,
     "end_time": "2022-02-25T17:31:12.430941",
     "exception": false,
     "start_time": "2022-02-25T17:31:12.380238",
     "status": "completed"
    },
    "tags": []
   },
   "source": [
    "# Prepare Data"
   ]
  },
  {
   "cell_type": "markdown",
   "metadata": {
    "execution": {
     "iopub.execute_input": "2022-02-23T20:15:59.340742Z",
     "iopub.status.busy": "2022-02-23T20:15:59.340279Z",
     "iopub.status.idle": "2022-02-23T20:15:59.344567Z"
    },
    "papermill": {
     "duration": 0.052443,
     "end_time": "2022-02-25T17:31:12.534332",
     "exception": false,
     "start_time": "2022-02-25T17:31:12.481889",
     "status": "completed"
    },
    "tags": []
   },
   "source": [
    "## Handle Missing Values"
   ]
  },
  {
   "cell_type": "code",
   "execution_count": 3,
   "metadata": {
    "execution": {
     "iopub.execute_input": "2022-02-25T17:31:12.647787Z",
     "iopub.status.busy": "2022-02-25T17:31:12.642520Z",
     "iopub.status.idle": "2022-02-25T17:31:12.667559Z",
     "shell.execute_reply": "2022-02-25T17:31:12.668574Z",
     "shell.execute_reply.started": "2022-02-25T16:53:30.928599Z"
    },
    "papermill": {
     "duration": 0.080244,
     "end_time": "2022-02-25T17:31:12.668866",
     "exception": false,
     "start_time": "2022-02-25T17:31:12.588622",
     "status": "completed"
    },
    "tags": []
   },
   "outputs": [
    {
     "name": "stdout",
     "output_type": "stream",
     "text": [
      "train columns with missing data: ['HomePlanet', 'CryoSleep', 'Cabin', 'Destination', 'Age', 'VIP', 'RoomService', 'FoodCourt', 'ShoppingMall', 'Spa', 'VRDeck', 'Name']\n",
      "test columns with missing data: ['HomePlanet', 'CryoSleep', 'Cabin', 'Destination', 'Age', 'VIP', 'RoomService', 'FoodCourt', 'ShoppingMall', 'Spa', 'VRDeck', 'Name']\n"
     ]
    }
   ],
   "source": [
    "cols_with_missing_train = [col for col in train_data.columns if train_data[col].isnull().any()]\n",
    "cols_with_missing_test = [col for col in test_data.columns if test_data[col].isnull().any()]\n",
    "print('train columns with missing data:', cols_with_missing_train)\n",
    "print('test columns with missing data:', cols_with_missing_test)"
   ]
  },
  {
   "cell_type": "markdown",
   "metadata": {
    "papermill": {
     "duration": 0.052942,
     "end_time": "2022-02-25T17:31:12.774621",
     "exception": false,
     "start_time": "2022-02-25T17:31:12.721679",
     "status": "completed"
    },
    "tags": []
   },
   "source": [
    "We fill missing values with the mean for continuously values features and the mode for categorical features:"
   ]
  },
  {
   "cell_type": "code",
   "execution_count": 4,
   "metadata": {
    "execution": {
     "iopub.execute_input": "2022-02-25T17:31:12.886406Z",
     "iopub.status.busy": "2022-02-25T17:31:12.885673Z",
     "iopub.status.idle": "2022-02-25T17:31:12.929780Z",
     "shell.execute_reply": "2022-02-25T17:31:12.930357Z",
     "shell.execute_reply.started": "2022-02-25T16:53:30.957623Z"
    },
    "papermill": {
     "duration": 0.10283,
     "end_time": "2022-02-25T17:31:12.930578",
     "exception": false,
     "start_time": "2022-02-25T17:31:12.827748",
     "status": "completed"
    },
    "tags": []
   },
   "outputs": [],
   "source": [
    "for col in cols_with_missing_train:\n",
    "    if col=='Age':\n",
    "        fill = train_data[col].mean()\n",
    "    else:\n",
    "        fill = train_data[col].value_counts().index[0]\n",
    "    train_data[col] = train_data[col].fillna(fill)\n",
    "    test_data[col] = test_data[col].fillna(fill)"
   ]
  },
  {
   "cell_type": "markdown",
   "metadata": {
    "papermill": {
     "duration": 0.050975,
     "end_time": "2022-02-25T17:31:13.035154",
     "exception": false,
     "start_time": "2022-02-25T17:31:12.984179",
     "status": "completed"
    },
    "tags": []
   },
   "source": [
    "## Split Cabin\n",
    "We extract the feature deck, num and side of the cabin:\n"
   ]
  },
  {
   "cell_type": "code",
   "execution_count": 5,
   "metadata": {
    "execution": {
     "iopub.execute_input": "2022-02-25T17:31:13.142022Z",
     "iopub.status.busy": "2022-02-25T17:31:13.141322Z",
     "iopub.status.idle": "2022-02-25T17:31:13.174594Z",
     "shell.execute_reply": "2022-02-25T17:31:13.173988Z",
     "shell.execute_reply.started": "2022-02-25T16:53:31.008946Z"
    },
    "papermill": {
     "duration": 0.088048,
     "end_time": "2022-02-25T17:31:13.174778",
     "exception": false,
     "start_time": "2022-02-25T17:31:13.086730",
     "status": "completed"
    },
    "tags": []
   },
   "outputs": [],
   "source": [
    "def extract_deck(s):\n",
    "    return s.split('/')[0]\n",
    "\n",
    "def extract_num(s):\n",
    "    return s.split('/')[1]\n",
    "\n",
    "def extract_side(s):\n",
    "    return s.split('/')[2]\n",
    "\n",
    "train_data['Deck'] = train_data['Cabin'].apply(extract_deck)\n",
    "train_data['Num'] = train_data['Cabin'].apply(extract_num)\n",
    "train_data['Side'] = train_data['Cabin'].apply(extract_side)\n",
    "\n",
    "test_data['Deck'] = test_data['Cabin'].apply(extract_deck)\n",
    "test_data['Num'] = test_data['Cabin'].apply(extract_num)\n",
    "test_data['Side'] = test_data['Cabin'].apply(extract_side)"
   ]
  },
  {
   "cell_type": "markdown",
   "metadata": {
    "papermill": {
     "duration": 0.052686,
     "end_time": "2022-02-25T17:31:13.280532",
     "exception": false,
     "start_time": "2022-02-25T17:31:13.227846",
     "status": "completed"
    },
    "tags": []
   },
   "source": [
    "## One-hot encoding\n",
    "We encode the following categorical features (note that is is another way to do this compared to the acceptor site prediction notebook):"
   ]
  },
  {
   "cell_type": "code",
   "execution_count": 6,
   "metadata": {
    "execution": {
     "iopub.execute_input": "2022-02-25T17:31:13.390246Z",
     "iopub.status.busy": "2022-02-25T17:31:13.386735Z",
     "iopub.status.idle": "2022-02-25T17:31:13.431299Z",
     "shell.execute_reply": "2022-02-25T17:31:13.430658Z",
     "shell.execute_reply.started": "2022-02-25T16:53:31.045386Z"
    },
    "papermill": {
     "duration": 0.099214,
     "end_time": "2022-02-25T17:31:13.431466",
     "exception": false,
     "start_time": "2022-02-25T17:31:13.332252",
     "status": "completed"
    },
    "tags": []
   },
   "outputs": [],
   "source": [
    "data = pd.concat([train_data[test_data.columns], test_data])\n",
    "features_cat = ['HomePlanet', 'Destination', 'Deck', 'Side']\n",
    "for feature in features_cat:\n",
    "    data[pd.get_dummies(data[feature], prefix=feature).columns] = pd.get_dummies(data[feature], prefix=feature)"
   ]
  },
  {
   "cell_type": "markdown",
   "metadata": {
    "papermill": {
     "duration": 0.051962,
     "end_time": "2022-02-25T17:31:14.123784",
     "exception": false,
     "start_time": "2022-02-25T17:31:14.071822",
     "status": "completed"
    },
    "tags": []
   },
   "source": [
    "## Drop Features"
   ]
  },
  {
   "cell_type": "markdown",
   "metadata": {
    "papermill": {
     "duration": 0.052837,
     "end_time": "2022-02-25T17:31:14.229114",
     "exception": false,
     "start_time": "2022-02-25T17:31:14.176277",
     "status": "completed"
    },
    "tags": []
   },
   "source": [
    "We drop some features:"
   ]
  },
  {
   "cell_type": "code",
   "execution_count": 7,
   "metadata": {},
   "outputs": [
    {
     "data": {
      "text/plain": [
       "['HomePlanet', 'Destination', 'Deck', 'Side']"
      ]
     },
     "execution_count": 7,
     "metadata": {},
     "output_type": "execute_result"
    }
   ],
   "source": [
    "features_cat"
   ]
  },
  {
   "cell_type": "code",
   "execution_count": 8,
   "metadata": {
    "execution": {
     "iopub.execute_input": "2022-02-25T17:31:14.336706Z",
     "iopub.status.busy": "2022-02-25T17:31:14.336012Z",
     "iopub.status.idle": "2022-02-25T17:31:14.350431Z",
     "shell.execute_reply": "2022-02-25T17:31:14.351004Z",
     "shell.execute_reply.started": "2022-02-25T16:53:31.167152Z"
    },
    "papermill": {
     "duration": 0.070003,
     "end_time": "2022-02-25T17:31:14.351223",
     "exception": false,
     "start_time": "2022-02-25T17:31:14.281220",
     "status": "completed"
    },
    "tags": []
   },
   "outputs": [],
   "source": [
    "features_drop = features_cat+['Name', 'PassengerId', 'Cabin']\n",
    "train_data.drop(features_drop, axis=1, inplace=True)\n",
    "test_data.drop(features_drop, axis=1, inplace=True)"
   ]
  },
  {
   "cell_type": "markdown",
   "metadata": {
    "papermill": {
     "duration": 0.050948,
     "end_time": "2022-02-25T17:31:14.671531",
     "exception": false,
     "start_time": "2022-02-25T17:31:14.620583",
     "status": "completed"
    },
    "tags": []
   },
   "source": [
    "# Fit model and make predictions\n",
    "\n"
   ]
  },
  {
   "cell_type": "code",
   "execution_count": 9,
   "metadata": {
    "execution": {
     "iopub.execute_input": "2022-02-25T17:31:14.784445Z",
     "iopub.status.busy": "2022-02-25T17:31:14.783343Z",
     "iopub.status.idle": "2022-02-25T17:31:14.793920Z",
     "shell.execute_reply": "2022-02-25T17:31:14.794560Z",
     "shell.execute_reply.started": "2022-02-25T16:53:31.198278Z"
    },
    "papermill": {
     "duration": 0.071543,
     "end_time": "2022-02-25T17:31:14.794769",
     "exception": false,
     "start_time": "2022-02-25T17:31:14.723226",
     "status": "completed"
    },
    "tags": []
   },
   "outputs": [
    {
     "data": {
      "text/plain": [
       "LogisticRegression()"
      ]
     },
     "execution_count": 9,
     "metadata": {},
     "output_type": "execute_result"
    }
   ],
   "source": [
    "from sklearn.linear_model import LogisticRegression\n",
    "\n",
    "X = train_data\n",
    "y = X.pop('Transported')\n",
    "\n",
    "model = LogisticRegression()\n",
    "\n",
    "model.fit(X,y)"
   ]
  },
  {
   "cell_type": "code",
   "execution_count": 10,
   "metadata": {},
   "outputs": [],
   "source": [
    "predictions = model.predict(test_data)"
   ]
  },
  {
   "cell_type": "code",
   "execution_count": 11,
   "metadata": {},
   "outputs": [
    {
     "data": {
      "text/plain": [
       "array([ True, False,  True, ...,  True,  True,  True])"
      ]
     },
     "execution_count": 11,
     "metadata": {},
     "output_type": "execute_result"
    }
   ],
   "source": [
    "predictions"
   ]
  },
  {
   "cell_type": "markdown",
   "metadata": {
    "papermill": {
     "duration": 0.054519,
     "end_time": "2022-02-25T17:32:13.033360",
     "exception": false,
     "start_time": "2022-02-25T17:32:12.978841",
     "status": "completed"
    },
    "tags": []
   },
   "source": [
    "# Write submission file"
   ]
  },
  {
   "cell_type": "code",
   "execution_count": 12,
   "metadata": {
    "execution": {
     "iopub.execute_input": "2022-02-25T17:32:13.153403Z",
     "iopub.status.busy": "2022-02-25T17:32:13.152702Z",
     "iopub.status.idle": "2022-02-25T17:32:13.156718Z",
     "shell.execute_reply": "2022-02-25T17:32:13.156063Z",
     "shell.execute_reply.started": "2022-02-25T16:54:26.779943Z"
    },
    "papermill": {
     "duration": 0.068013,
     "end_time": "2022-02-25T17:32:13.156875",
     "exception": false,
     "start_time": "2022-02-25T17:32:13.088862",
     "status": "completed"
    },
    "tags": []
   },
   "outputs": [
    {
     "data": {
      "text/html": [
       "<div>\n",
       "<style scoped>\n",
       "    .dataframe tbody tr th:only-of-type {\n",
       "        vertical-align: middle;\n",
       "    }\n",
       "\n",
       "    .dataframe tbody tr th {\n",
       "        vertical-align: top;\n",
       "    }\n",
       "\n",
       "    .dataframe thead th {\n",
       "        text-align: right;\n",
       "    }\n",
       "</style>\n",
       "<table border=\"1\" class=\"dataframe\">\n",
       "  <thead>\n",
       "    <tr style=\"text-align: right;\">\n",
       "      <th></th>\n",
       "      <th>PassengerId</th>\n",
       "      <th>Transported</th>\n",
       "    </tr>\n",
       "  </thead>\n",
       "  <tbody>\n",
       "    <tr>\n",
       "      <th>0</th>\n",
       "      <td>0013_01</td>\n",
       "      <td>True</td>\n",
       "    </tr>\n",
       "    <tr>\n",
       "      <th>1</th>\n",
       "      <td>0018_01</td>\n",
       "      <td>False</td>\n",
       "    </tr>\n",
       "    <tr>\n",
       "      <th>2</th>\n",
       "      <td>0019_01</td>\n",
       "      <td>True</td>\n",
       "    </tr>\n",
       "    <tr>\n",
       "      <th>3</th>\n",
       "      <td>0021_01</td>\n",
       "      <td>True</td>\n",
       "    </tr>\n",
       "    <tr>\n",
       "      <th>4</th>\n",
       "      <td>0023_01</td>\n",
       "      <td>True</td>\n",
       "    </tr>\n",
       "    <tr>\n",
       "      <th>...</th>\n",
       "      <td>...</td>\n",
       "      <td>...</td>\n",
       "    </tr>\n",
       "    <tr>\n",
       "      <th>4272</th>\n",
       "      <td>9266_02</td>\n",
       "      <td>True</td>\n",
       "    </tr>\n",
       "    <tr>\n",
       "      <th>4273</th>\n",
       "      <td>9269_01</td>\n",
       "      <td>True</td>\n",
       "    </tr>\n",
       "    <tr>\n",
       "      <th>4274</th>\n",
       "      <td>9271_01</td>\n",
       "      <td>True</td>\n",
       "    </tr>\n",
       "    <tr>\n",
       "      <th>4275</th>\n",
       "      <td>9273_01</td>\n",
       "      <td>True</td>\n",
       "    </tr>\n",
       "    <tr>\n",
       "      <th>4276</th>\n",
       "      <td>9277_01</td>\n",
       "      <td>True</td>\n",
       "    </tr>\n",
       "  </tbody>\n",
       "</table>\n",
       "<p>4277 rows × 2 columns</p>\n",
       "</div>"
      ],
      "text/plain": [
       "     PassengerId  Transported\n",
       "0        0013_01         True\n",
       "1        0018_01        False\n",
       "2        0019_01         True\n",
       "3        0021_01         True\n",
       "4        0023_01         True\n",
       "...          ...          ...\n",
       "4272     9266_02         True\n",
       "4273     9269_01         True\n",
       "4274     9271_01         True\n",
       "4275     9273_01         True\n",
       "4276     9277_01         True\n",
       "\n",
       "[4277 rows x 2 columns]"
      ]
     },
     "execution_count": 12,
     "metadata": {},
     "output_type": "execute_result"
    }
   ],
   "source": [
    "submission = pd.read_csv(\"sample_submission.csv\")\n",
    "submission['Transported'] = predictions\n",
    "submission"
   ]
  },
  {
   "cell_type": "code",
   "execution_count": 13,
   "metadata": {
    "execution": {
     "iopub.execute_input": "2022-02-25T17:32:13.272788Z",
     "iopub.status.busy": "2022-02-25T17:32:13.271940Z",
     "iopub.status.idle": "2022-02-25T17:32:13.285688Z",
     "shell.execute_reply": "2022-02-25T17:32:13.286303Z",
     "shell.execute_reply.started": "2022-02-25T16:54:26.790139Z"
    },
    "papermill": {
     "duration": 0.075286,
     "end_time": "2022-02-25T17:32:13.286520",
     "exception": false,
     "start_time": "2022-02-25T17:32:13.211234",
     "status": "completed"
    },
    "tags": []
   },
   "outputs": [],
   "source": [
    "submission.to_csv('submission.csv', index=False)"
   ]
  }
 ],
 "metadata": {
  "kernelspec": {
   "display_name": "Python 3",
   "language": "python",
   "name": "python3"
  },
  "language_info": {
   "codemirror_mode": {
    "name": "ipython",
    "version": 3
   },
   "file_extension": ".py",
   "mimetype": "text/x-python",
   "name": "python",
   "nbconvert_exporter": "python",
   "pygments_lexer": "ipython3",
   "version": "3.8.3"
  },
  "papermill": {
   "default_parameters": {},
   "duration": 77.663814,
   "end_time": "2022-02-25T17:32:14.355989",
   "environment_variables": {},
   "exception": null,
   "input_path": "__notebook__.ipynb",
   "output_path": "__notebook__.ipynb",
   "parameters": {},
   "start_time": "2022-02-25T17:30:56.692175",
   "version": "2.3.3"
  }
 },
 "nbformat": 4,
 "nbformat_minor": 5
}
