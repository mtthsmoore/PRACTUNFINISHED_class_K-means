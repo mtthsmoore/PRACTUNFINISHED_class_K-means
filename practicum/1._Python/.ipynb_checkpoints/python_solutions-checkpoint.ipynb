{
 "cells": [
  {
   "cell_type": "code",
   "execution_count": 1,
   "metadata": {},
   "outputs": [
    {
     "data": {
      "text/html": [
       "<link href='http://fonts.googleapis.com/css?family=Alegreya+Sans:100,300,400,500,700,800,900,100italic,300italic,400italic,500italic,700italic,800italic,900italic' rel='stylesheet' type='text/css'>\n",
       "<link href='http://fonts.googleapis.com/css?family=Arvo:400,700,400italic' rel='stylesheet' type='text/css'>\n",
       "<link href='http://fonts.googleapis.com/css?family=PT+Mono' rel='stylesheet' type='text/css'>\n",
       "<link href='http://fonts.googleapis.com/css?family=Shadows+Into+Light' rel='stylesheet' type='text/css'>\n",
       "<link href='http://fonts.googleapis.com/css?family=Philosopher:400,700,400italic,700italic' rel='stylesheet' type='text/css'>\n",
       "<link href='http://fonts.googleapis.com/css?family=Open+Sans' rel='stylesheet' type='text/css'>\n",
       "\n",
       "<style>\n",
       "\n",
       "@font-face {\n",
       "    font-family: \"Computer Modern\";\n",
       "    src: url('http://mirrors.ctan.org/fonts/cm-unicode/fonts/otf/cmunss.otf');\n",
       "}\n",
       "\n",
       "\n",
       "#notebook_panel { /* main background */\n",
       "    background: #888;\n",
       "    color: #f6f6f6;\n",
       "}\n",
       "\n",
       "div.cell { /* set cell width to about 80 chars */\n",
       "}\n",
       "\n",
       "div #notebook { /* centre the content */\n",
       "    background: #fff; /* white background for content */\n",
       "    margin: auto;\n",
       "}\n",
       "\n",
       "#notebook li { /* More space between bullet points */\n",
       "margin-top:0.8em;\n",
       "}\n",
       "\n",
       "/* draw border around running cells */\n",
       "div.cell.border-box-sizing.code_cell.running {\n",
       "    border: 3px solid #111;\n",
       "}\n",
       "\n",
       "/* Put a solid color box around each cell and its output, visually linking them together */\n",
       "div.cell.code_cell {\n",
       "    /*background-color: rgba(171,165,131,0.3); /*\n",
       "    border-radius: 10px; /* rounded borders */\n",
       "    padding: 1em;\n",
       "    /*margin-top: 1em;*/\n",
       "}\n",
       "\n",
       "div.text_cell_render{\n",
       "    font-family: 'Open Sans', Helvetica;\n",
       "    line-height: 140%;\n",
       "    font-size: 105%;\n",
       "    /*margin-top:15px;*/\n",
       "    margin-bottom:8px;\n",
       "    text-align:justify;\n",
       "}\n",
       "\n",
       "/* Formatting for header cells */\n",
       ".text_cell_render h1 {\n",
       "    font-family: 'Open Sans',sans-serif;\n",
       "    font-weight: 100;\n",
       "    font-size: 30pt;\n",
       "    line-height: 100%;\n",
       "    display: block;\n",
       "}\n",
       "\n",
       ".text_cell_render h2 {\n",
       "    font-family: 'Philosopher', serif;\n",
       "    font-weight: 700;\n",
       "    font-size: 24pt;\n",
       "    line-height: 100%;\n",
       "    color: rgb(171,165,131);\n",
       "    margin-bottom: 0.1em;\n",
       "    margin-top: 0.1em;\n",
       "    display: block;\n",
       "}    \n",
       "\n",
       ".text_cell_render h3 {\n",
       "    font-family: 'Philosopher', serif;\n",
       "    margin-top:12px;\n",
       "    margin-bottom: 3px;\n",
       "    font-style: italic;\n",
       "    color: rgb(95,92,72);\n",
       "}\n",
       "\n",
       ".text_cell_render h4 {\n",
       "    font-family: 'Philosopher', serif;\n",
       "}\n",
       "\n",
       ".text_cell_render h5 {\n",
       "    font-family: 'Alegreya Sans', sans-serif;\n",
       "    font-weight: 300;\n",
       "    font-size: 16pt;\n",
       "    color: grey;\n",
       "    font-style: italic;\n",
       "    margin-bottom: .1em;\n",
       "    margin-top: 0.1em;\n",
       "    display: block;\n",
       "}\n",
       "\n",
       ".text_cell_render h6 {\n",
       "    font-family: 'PT Mono', sans-serif;\n",
       "    font-weight: 300;\n",
       "    font-size: 10pt;\n",
       "    color: grey;\n",
       "    margin-bottom: 1px;\n",
       "    margin-top: 1px;\n",
       "}\n",
       "\n",
       ".CodeMirror{\n",
       "        font-family: \"PT Mono\";\n",
       "        font-size: 100%;\n",
       "}\n",
       "\n",
       ".output_area {\n",
       "\tmargin-top:20px;\n",
       "}\n",
       "\n",
       ".output_stderr {\n",
       "\tdisplay:none;\n",
       "\t}\n",
       "\n",
       ".output_subarea {\n",
       "\tdisplay: block;\n",
       "    margin: 0 auto;\n",
       "}\n",
       "\n",
       ".output_png img {\n",
       "    display: block;\n",
       "    margin-left: auto;\n",
       "    margin-right: auto;\n",
       "}\n",
       "\n",
       ".prompt {\n",
       "\tvisible: false;\n",
       "\t}\n",
       "\n",
       "</style>\n",
       "\n"
      ],
      "text/plain": [
       "<IPython.core.display.HTML object>"
      ]
     },
     "execution_count": 1,
     "metadata": {},
     "output_type": "execute_result"
    }
   ],
   "source": [
    "import imp\n",
    "compomics_import = imp.load_source('compomics_import', '../../compomics_import.py')\n",
    "from IPython.core.display import HTML\n",
    "css_file = '../../my.css'\n",
    "HTML(open(css_file, \"r\").read())"
   ]
  },
  {
   "cell_type": "markdown",
   "metadata": {},
   "source": [
    "# Python"
   ]
  },
  {
   "cell_type": "markdown",
   "metadata": {},
   "source": [
    "Python is a modern, general-purpose programming language.\n",
    "In this session you will get a quick introduction to it, with a special focus on Python for data analysis, and topics which will be needed in the following sessions.\n",
    "\n",
    "Some key points of Python:\n",
    "\n",
    "- It has a strong position in scientific computing.\n",
    "- It counts a large community of users, easy to find help and documentation.\n",
    "- It has an extensive ecosystem of scientific libraries and environments.\n",
    "\n",
    "A typical Python Scientific Computing Environment includes many dedicated tools. The **SciPy** (Scientific Python, http://www.scipy.org) environment is an open source Python library implementing many useful resources for data exploration, visualization and analysis. We will specifically look at: \n",
    "\n",
    "  - **numpy**: http://numpy.scipy.org - Numerical Python\n",
    "  - **matplotlib**: http://www.matplotlib.org & **seaborn**: https://stanford.edu/~mwaskom/software/seaborn/ - Plotting in Python\n",
    "  - **pandas**: http://pandas.pydata.org/ - Python Data Analysis\n",
    "    \n",
    "**Note**: to resolve the exercises insert cells in the Notebook (click the \"**+**\" button on the top left)and write your code in these cells. \n",
    "\n",
    "We start the practical sessions with a short introduction to most of the basic Python commands we will need throughout this course. You are assumed to have a basic understanding of programming in Python that should allow you to understand the code of a simple guess game:"
   ]
  },
  {
   "cell_type": "code",
   "execution_count": 2,
   "metadata": {},
   "outputs": [
    {
     "name": "stdout",
     "output_type": "stream",
     "text": [
      "Enter an integer from 1 to 99: 40\n",
      "guess is low\n",
      "Enter an integer from 1 to 99: 60\n",
      "guess is low\n",
      "Enter an integer from 1 to 99: 80\n",
      "guess is low\n",
      "Enter an integer from 1 to 99: 90\n",
      "guess is low\n",
      "Enter an integer from 1 to 99: 91\n",
      "guess is low\n",
      "Enter an integer from 1 to 99: 94\n",
      "guess is low\n",
      "Enter an integer from 1 to 99: 96\n",
      "guess is high\n",
      "Enter an integer from 1 to 99: 95\n",
      "you guessed it!\n"
     ]
    }
   ],
   "source": [
    "import random\n",
    "\n",
    "def get_input(minv,maxv):\n",
    "    return int(raw_input(\"Enter an integer from %i to %i: \" % (minv,maxv)))\n",
    "\n",
    "min_value = 1\n",
    "max_value = 99\n",
    "\n",
    "secret_value = random.randint(min_value, max_value)\n",
    "\n",
    "guess = get_input(min_value, max_value)\n",
    "while secret_value != guess:\n",
    "    if guess < secret_value:\n",
    "        print \"guess is low\"\n",
    "        guess = get_input(min_value, max_value)\n",
    "    elif guess > secret_value:\n",
    "        print \"guess is high\"\n",
    "        guess = get_input(min_value, max_value)\n",
    "print \"you guessed it!\""
   ]
  },
  {
   "cell_type": "markdown",
   "metadata": {},
   "source": [
    "Please do run the game. The code contains many of the commands w'll need. Let's run over these one by one. First we imported a Python module called `random`. "
   ]
  },
  {
   "cell_type": "markdown",
   "metadata": {},
   "source": [
    "```python\n",
    "import random\n",
    "```"
   ]
  },
  {
   "cell_type": "markdown",
   "metadata": {},
   "source": [
    "You can think of a module as a collection of Python functions that perform specific tasks. The Python Standard Library is a large collection of modules that provides cross-platform implementations of common facilities such as access to the operating system, file I/O, network communication, and much more. The \"random\" module contains functions to generate random numbers. Further in the code we will use the function `randint()` of the `random` module. To see what a certain module offers you can use the `help()` command:"
   ]
  },
  {
   "cell_type": "code",
   "execution_count": 3,
   "metadata": {
    "scrolled": true
   },
   "outputs": [],
   "source": [
    "#help(random)"
   ]
  },
  {
   "cell_type": "markdown",
   "metadata": {},
   "source": [
    "What does the module `math` module offer?"
   ]
  },
  {
   "cell_type": "code",
   "execution_count": 4,
   "metadata": {},
   "outputs": [],
   "source": [
    "import math\n",
    "#help(math)"
   ]
  },
  {
   "cell_type": "markdown",
   "metadata": {},
   "source": [
    "Modules in Python are simply Python files with the .py extension, which implement a set of functions. Modules are imported from other modules using the `import` command. We can access specific modules in a package (collection of modules) by using “dotted module names”. For example, the `sklearn` package contains different modules, each for a specific task: _e.g._, the `sklearn.preprocessing` module implements functions for data scaling, centering, normalization, binarization, while the `sklearn.svm` includes Support Vector Machine algorithms. By default Python automatically loads the [Python Standard Library](https://docs.python.org/2/library/) package that offers the basic functionality.\n",
    "\n",
    "\n",
    "Import the `LinearRegression` module in the `sklearn` python package:"
   ]
  },
  {
   "cell_type": "code",
   "execution_count": 5,
   "metadata": {},
   "outputs": [],
   "source": [
    "from sklearn.linear_model import LinearRegression"
   ]
  },
  {
   "cell_type": "markdown",
   "metadata": {},
   "source": [
    "Packages include a lot of functions. In the case of packages that include a very large number of functions, we should take some care when importing them. For instance: the module `numpy` has a function `sum`, but a function with the same name already exists in the Python Standard Library. If we just\n",
    "\n",
    "```python\n",
    "from numpy import *\n",
    "```\n",
    "\n",
    "that is, import everything (`*`) from the `numpy` package, we will overwrite the standard `sum` with the one from `numpy`. Similar situations may bring out some unexpected results. A way to avoid this is by using an alias when we do the import, i.e., we \n",
    "\n",
    "```python\n",
    "import numpy as np\n",
    "```\n",
    "\n",
    "Now, if we want the `sum` function from the standard library we use:\n",
    "\n",
    "```python\n",
    "sum(...)\n",
    "```\n",
    "\n",
    "If we want the `sum` function from `numpy` we use:\n",
    "\n",
    "```python\n",
    "np.sum(...)\n",
    "```"
   ]
  },
  {
   "cell_type": "markdown",
   "metadata": {},
   "source": [
    "Next we defined a function called `get_input()`:"
   ]
  },
  {
   "cell_type": "markdown",
   "metadata": {},
   "source": [
    "```python\n",
    "def get_input(minv,maxv):\n",
    "    return int(raw_input(\"Enter an integer from %i to %i: \" % (minv,maxv)))\n",
    "```    "
   ]
  },
  {
   "cell_type": "markdown",
   "metadata": {},
   "source": [
    "This function takes two arguments `minv` and `maxv` and asks the user to input a number from `minv` to `maxv`. The type of this input will be a string that needs to be cased (converted) to a number. This number is then returned by the function.\n",
    "\n",
    "Then the guess game code declares two variables `min_value` and `max_value` by assigning them a value:"
   ]
  },
  {
   "cell_type": "markdown",
   "metadata": {},
   "source": [
    "```python\n",
    "min_value = 1\n",
    "max_value = 99\n",
    "```"
   ]
  },
  {
   "cell_type": "markdown",
   "metadata": {},
   "source": [
    "To print the value of a variable we can use the `print` command like this:"
   ]
  },
  {
   "cell_type": "code",
   "execution_count": 6,
   "metadata": {},
   "outputs": [
    {
     "name": "stdout",
     "output_type": "stream",
     "text": [
      "min_value = 1\n"
     ]
    }
   ],
   "source": [
    "min_value = 1\n",
    "print \"min_value = %i\" % min_value"
   ]
  },
  {
   "cell_type": "markdown",
   "metadata": {},
   "source": [
    "We used `%i` in the format string to tell `print` that the variable is a number, in this case an integer. There exists also a float variable and a string variable:"
   ]
  },
  {
   "cell_type": "code",
   "execution_count": 7,
   "metadata": {},
   "outputs": [
    {
     "name": "stdout",
     "output_type": "stream",
     "text": [
      "This is a decimal: 0.155000\n",
      "This is a string: hello world\n"
     ]
    }
   ],
   "source": [
    "print \"This is a decimal: %f\" % 0.155\n",
    "print \"This is a string: %s\" % \"hello world\""
   ]
  },
  {
   "cell_type": "markdown",
   "metadata": {},
   "source": [
    "It's important to make sure that the type of the variable we want to print matches what we tell the `print` statement. We may get unexpected results or errors:"
   ]
  },
  {
   "cell_type": "code",
   "execution_count": 8,
   "metadata": {},
   "outputs": [
    {
     "name": "stdout",
     "output_type": "stream",
     "text": [
      "This is NOT a decimal: 0\n"
     ]
    },
    {
     "ename": "TypeError",
     "evalue": "float argument required, not str",
     "output_type": "error",
     "traceback": [
      "\u001b[0;31m---------------------------------------------------------------------------\u001b[0m",
      "\u001b[0;31mTypeError\u001b[0m                                 Traceback (most recent call last)",
      "\u001b[0;32m<ipython-input-8-cc31f836178e>\u001b[0m in \u001b[0;36m<module>\u001b[0;34m()\u001b[0m\n\u001b[1;32m      1\u001b[0m \u001b[1;32mprint\u001b[0m \u001b[1;34m\"This is NOT a decimal: %i\"\u001b[0m \u001b[1;33m%\u001b[0m \u001b[1;36m0.155\u001b[0m\u001b[1;33m\u001b[0m\u001b[0m\n\u001b[0;32m----> 2\u001b[0;31m \u001b[1;32mprint\u001b[0m \u001b[1;34m\"This is a string: %f\"\u001b[0m \u001b[1;33m%\u001b[0m \u001b[1;34m\"hello world\"\u001b[0m\u001b[1;33m\u001b[0m\u001b[0m\n\u001b[0m",
      "\u001b[0;31mTypeError\u001b[0m: float argument required, not str"
     ]
    }
   ],
   "source": [
    "print \"This is NOT a decimal: %i\" % 0.155\n",
    "print \"This is a string: %f\" % \"hello world\""
   ]
  },
  {
   "cell_type": "markdown",
   "metadata": {},
   "source": [
    "Values of different types can be stored in a list:"
   ]
  },
  {
   "cell_type": "code",
   "execution_count": 9,
   "metadata": {},
   "outputs": [
    {
     "name": "stdout",
     "output_type": "stream",
     "text": [
      "['Hello', 1, 2.948]\n"
     ]
    }
   ],
   "source": [
    "mylist = []\n",
    "mylist.append(\"Hello\")\n",
    "mylist.append(1)\n",
    "mylist.append(2.948)\n",
    "\n",
    "print mylist"
   ]
  },
  {
   "cell_type": "markdown",
   "metadata": {},
   "source": [
    "or a dictionary:"
   ]
  },
  {
   "cell_type": "code",
   "execution_count": 10,
   "metadata": {},
   "outputs": [
    {
     "name": "stdout",
     "output_type": "stream",
     "text": [
      "{'A': 'T', 'C': 'G', 'G': 'C', 2: ['X', 'Y', 'Z'], 'T': 'A', 'X': 2}\n"
     ]
    }
   ],
   "source": [
    "mydict = {}\n",
    "mydict[\"A\"] = \"T\"\n",
    "mydict[\"T\"] = \"A\"\n",
    "mydict[\"C\"] = \"G\"\n",
    "mydict[\"G\"] = \"C\"\n",
    "mydict[\"X\"] = 2\n",
    "mydict[2] = [\"X\", \"Y\", \"Z\"]\n",
    "\n",
    "print mydict"
   ]
  },
  {
   "cell_type": "markdown",
   "metadata": {},
   "source": [
    "On a list, we can select elements or sections of the list using their indexes. Try to understand the examples below:"
   ]
  },
  {
   "cell_type": "code",
   "execution_count": 11,
   "metadata": {},
   "outputs": [
    {
     "name": "stdout",
     "output_type": "stream",
     "text": [
      "Hello\n",
      "[1, 2.948]\n",
      "2.948\n"
     ]
    }
   ],
   "source": [
    "print mylist[0]\n",
    "print mylist[1:3]\n",
    "print mylist[-1]"
   ]
  },
  {
   "cell_type": "markdown",
   "metadata": {},
   "source": [
    "There are several ways to fill a list with values:"
   ]
  },
  {
   "cell_type": "code",
   "execution_count": 12,
   "metadata": {},
   "outputs": [
    {
     "name": "stdout",
     "output_type": "stream",
     "text": [
      "[0, 0, 0, 0, 0, 0, 0, 0, 0, 0]\n",
      "[0, 3, 6, 9, 12, 15, 18]\n",
      "['gene0', 'gene1', 'gene2', 'gene3', 'gene4', 'gene5', 'gene6', 'gene7', 'gene8', 'gene9']\n",
      "['even', 'uneven', 'even', 'uneven', 'even', 'uneven', 'even']\n"
     ]
    }
   ],
   "source": [
    "mylist1 = [0]*10\n",
    "print mylist1\n",
    "mylist2 = range(0,20,3)\n",
    "print mylist2\n",
    "mylist3 = [\"gene%i\"%i for i in range(0,10)]\n",
    "print mylist3\n",
    "mylist4 = [\"even\" if (x%2)==0 else \"uneven\" for x in mylist2]\n",
    "print mylist4"
   ]
  },
  {
   "cell_type": "markdown",
   "metadata": {},
   "source": [
    "Create a new list. In this list each element should be a string `numberN` where `N` is a number between 0 and 10 _inclusive_, except if `N` is a multiple of 3. In that case, the element should be the string `boop`."
   ]
  },
  {
   "cell_type": "code",
   "execution_count": 13,
   "metadata": {},
   "outputs": [],
   "source": [
    "mylist5 = [\"boop\" if (i%3)==0 else \"number%i\"%i for i in range(0,11)]"
   ]
  },
  {
   "cell_type": "markdown",
   "metadata": {},
   "source": [
    "A dictionary has a different structure. It creates a correspondence between _keys_ and _values_. The keys and values themselves may be different types of values. Let's look with a bit more attention at the dictionary we defined above:\n",
    "\n",
    "First we _initialized_ an empty dictionary:\n",
    "```python\n",
    "mydict = {}\n",
    "```\n",
    "And then we populated it with some `key:value` pairs:\n",
    "```python\n",
    "mydict[\"A\"] = \"T\"\n",
    "```\n",
    "This means that we give the _value_ \"T\" to _key_ \"A\". In this case (and the following three), both the keys and the values are strings. But a value can be an integer:\n",
    "```python\n",
    "mydict[\"X\"] = 2\n",
    "```\n",
    "A key can also be an integer. And a key can correspond to a list of values instead of just to one:\n",
    "```python\n",
    "mydict[2] = [\"X\", \"Y\", \"Z\"]\n",
    "```\n",
    "\n",
    "We can access the values in a dictionary by their corresponding keys:"
   ]
  },
  {
   "cell_type": "code",
   "execution_count": 14,
   "metadata": {},
   "outputs": [
    {
     "name": "stdout",
     "output_type": "stream",
     "text": [
      "T\n",
      "2\n",
      "['X', 'Y', 'Z']\n"
     ]
    }
   ],
   "source": [
    "print mydict[\"A\"]\n",
    "print mydict[\"X\"]\n",
    "print mydict[2]"
   ]
  },
  {
   "cell_type": "markdown",
   "metadata": {},
   "source": [
    "To see what keys how dictionary has, we use:"
   ]
  },
  {
   "cell_type": "code",
   "execution_count": 15,
   "metadata": {},
   "outputs": [
    {
     "name": "stdout",
     "output_type": "stream",
     "text": [
      "['A', 'C', 'G', 2, 'T', 'X']\n"
     ]
    }
   ],
   "source": [
    "print mydict.keys()"
   ]
  },
  {
   "cell_type": "markdown",
   "metadata": {},
   "source": [
    "We can also check if a key is present in our dictionary:"
   ]
  },
  {
   "cell_type": "code",
   "execution_count": 16,
   "metadata": {},
   "outputs": [
    {
     "name": "stdout",
     "output_type": "stream",
     "text": [
      "True\n",
      "True\n",
      "False\n"
     ]
    }
   ],
   "source": [
    "print \"C\" in mydict\n",
    "print 2 in mydict\n",
    "print \".\" in mydict"
   ]
  },
  {
   "cell_type": "markdown",
   "metadata": {},
   "source": [
    "On the cell below you will find a dictionary that makes the correspondance certain keys and values. Check which keys are present and their respective values. Correct any error you come across."
   ]
  },
  {
   "cell_type": "code",
   "execution_count": 17,
   "metadata": {},
   "outputs": [
    {
     "name": "stdout",
     "output_type": "stream",
     "text": [
      "adenine\n"
     ]
    }
   ],
   "source": [
    "from compomics_import import dictionary\n",
    "\n",
    "print dictionary['A']\n",
    "\n",
    "dictionary.keys()\n",
    "dictionary\n",
    "dictionary['U'] = \"uracil\""
   ]
  },
  {
   "cell_type": "markdown",
   "metadata": {},
   "source": [
    "When we work with large data sets (or matrices) we will use the Python modules numpy and pandas to load and manipulate the data efficiently. Rather than storing the data in a Python list or dictionary we store the data in a multidimensional numpy array. Such an array has an equal amount of columns for each row and can only store numerical data. So if your data set contains non-numerical values these cannot be stored in a numpy array. This is how to create a 2D numpy array (notice how we renamed the imported module):"
   ]
  },
  {
   "cell_type": "code",
   "execution_count": 18,
   "metadata": {},
   "outputs": [
    {
     "name": "stdout",
     "output_type": "stream",
     "text": [
      "[[ 0.  0.  0.]\n",
      " [ 0.  0.  0.]\n",
      " [ 0.  0.  0.]]\n",
      "[[5 8 9]\n",
      " [5 0 0]\n",
      " [1 7 6]]\n"
     ]
    }
   ],
   "source": [
    "import numpy as np\n",
    "\n",
    "nparray1 = np.zeros((3,3))\n",
    "print nparray1\n",
    "np.random.seed(1)\n",
    "nparray2 = np.random.randint(0,10,size=(3,3))\n",
    "print nparray2"
   ]
  },
  {
   "cell_type": "markdown",
   "metadata": {},
   "source": [
    "For variable `nparray2` we called the `randint()` function of the `numpy.random` module. This function differs from the Python `randint()` function in the `random` module as it return numpy arrays of random numbers. We can access values in a 2D numpy array with their respective row and column indexes."
   ]
  },
  {
   "cell_type": "code",
   "execution_count": 19,
   "metadata": {},
   "outputs": [
    {
     "name": "stdout",
     "output_type": "stream",
     "text": [
      "0\n",
      "[5 0 0]\n",
      "[8 0 7]\n",
      "[8 0]\n"
     ]
    }
   ],
   "source": [
    "print nparray2[1,2] # row 1, column 2\n",
    "print nparray2[1,:] # row 1, all columns\n",
    "print nparray2[:,1] # all rows, column 1\n",
    "print nparray2[0:2,1] # rows 0 until 2 (exclusive), column 1 "
   ]
  },
  {
   "cell_type": "markdown",
   "metadata": {},
   "source": [
    "Extract the following matrix from `nparray2`:\n",
    "\n",
    "```python\n",
    "[[0 0]\n",
    " [7 6]]\n",
    " ```"
   ]
  },
  {
   "cell_type": "code",
   "execution_count": 20,
   "metadata": {},
   "outputs": [
    {
     "name": "stdout",
     "output_type": "stream",
     "text": [
      "[[0 0]\n",
      " [7 6]]\n"
     ]
    }
   ],
   "source": [
    "print nparray2[1:3,1:3]"
   ]
  },
  {
   "cell_type": "markdown",
   "metadata": {},
   "source": [
    "In many cases, our data will include non-numerical features, that is, we will have in our hands categorical data (strings). To be able to use and manipulate this types of data, we will use the python module `pandas`. Pandas extends the functionality of `numpy` as we will see later.\n",
    "\n",
    "\n",
    "Next in the guess game code we call the function `randint()` in the `random` package that will return a random integer in [`min_value`,`max_value`[. This random value is stored in the variable `secret_value`:"
   ]
  },
  {
   "cell_type": "markdown",
   "metadata": {},
   "source": [
    "```python\n",
    "secret_value = random.randint(min_value, max_value)\n",
    "```"
   ]
  },
  {
   "cell_type": "code",
   "execution_count": 21,
   "metadata": {},
   "outputs": [
    {
     "name": "stdout",
     "output_type": "stream",
     "text": [
      "Help on method randint in module random:\n",
      "\n",
      "randint(self, a, b) method of random.Random instance\n",
      "    Return random integer in range [a, b], including both end points.\n",
      "\n"
     ]
    }
   ],
   "source": [
    "import random\n",
    "help(random.randint)"
   ]
  },
  {
   "cell_type": "markdown",
   "metadata": {},
   "source": [
    "Then another variable called `guess` is set by calling the `get_input()` function that we defined above:"
   ]
  },
  {
   "cell_type": "markdown",
   "metadata": {},
   "source": [
    "```python\n",
    "guess = get_input(min_value, max_value)\n",
    "```"
   ]
  },
  {
   "cell_type": "markdown",
   "metadata": {},
   "source": [
    "Now `guess` contains the integer value that the user typed as a first guess. Next is to return feedback to the user until he or she entered the correct number. So we need a control flow statement such as `while`:"
   ]
  },
  {
   "cell_type": "markdown",
   "metadata": {},
   "source": [
    "```python\n",
    "while secret_value != guess:\n",
    "```"
   ]
  },
  {
   "cell_type": "markdown",
   "metadata": {},
   "source": [
    "If the user guessed incorrectly the code prints feedback to the screen:"
   ]
  },
  {
   "cell_type": "markdown",
   "metadata": {},
   "source": [
    "```python\n",
    "while secret_value != guess:\n",
    "    if guess < secret_value:\n",
    "        print \"guess is low\"\n",
    "        guess = get_input(min_value, max_value)\n",
    "    elif guess > secret_value:\n",
    "        print \"guess is high\"\n",
    "        guess = get_input(min_value, max_value)\n",
    "```        "
   ]
  },
  {
   "cell_type": "markdown",
   "metadata": {},
   "source": [
    "Here we made of the if-elif-else flow control statement. After providing feaadback the user is asked to provide another guess by calling the function `get_input()` again. Finally when the while-loop ends the user is provide a final feedback:"
   ]
  },
  {
   "cell_type": "markdown",
   "metadata": {},
   "source": [
    "```python\n",
    "print \"you guessed it!\"\n",
    "```"
   ]
  },
  {
   "cell_type": "markdown",
   "metadata": {},
   "source": [
    "Copy the guess game code in a the cell below. Change the code such that the user has a maximum of 5 guesses. Use the \"for\" control flow statement."
   ]
  },
  {
   "cell_type": "code",
   "execution_count": 27,
   "metadata": {},
   "outputs": [
    {
     "name": "stdout",
     "output_type": "stream",
     "text": [
      "Enter an integer from 1 to 99: 50\n",
      "guess is low\n",
      "Enter an integer from 1 to 99: 80\n",
      "you guessed it!\n",
      "1\n"
     ]
    }
   ],
   "source": [
    "import random\n",
    "\n",
    "def get_input(minv,maxv):\n",
    "    return int(raw_input(\"Enter an integer from %i to %i: \" % (minv,maxv)))\n",
    "\n",
    "min_value = 1\n",
    "max_value = 99\n",
    "\n",
    "secret_value = random.randint(min_value, max_value)\n",
    "\n",
    "guess = get_input(min_value, max_value)\n",
    "for i in range(4):\n",
    "    if guess < secret_value:\n",
    "        print \"guess is low\"\n",
    "        guess = get_input(min_value, max_value)\n",
    "    elif guess > secret_value:\n",
    "        print \"guess is high\"\n",
    "        guess = get_input(min_value, max_value)\n",
    "    else:\n",
    "        print \"you guessed it!\"\n",
    "        break\n",
    "\n",
    "if i==3:\n",
    "    print \"you loose\""
   ]
  },
  {
   "cell_type": "markdown",
   "metadata": {},
   "source": [
    "# Pandas"
   ]
  },
  {
   "cell_type": "markdown",
   "metadata": {},
   "source": [
    "Numpy is great. But it lacks a few things that are conducive to doing statisitcal analysis. By building on top of numyy, pandas provides:\n",
    "\n",
    "- labeled arrays (each column can be addressed by a real name instead of a column number)\n",
    "- heterogenous data types within a data set\n",
    "- better missing data handling\n",
    "- convenient methods such as concatenation\n",
    "- more data types such as Categorical and Datetime\n",
    "\n",
    "The core data structure in pandas that will store our data sets in the `pandas.DataFrame`. This dataframe is designed to work efficiently with columns that will hold the different features. Each column in a pandas dataframe has a name. Let's create a dataframe:"
   ]
  },
  {
   "cell_type": "code",
   "execution_count": 22,
   "metadata": {},
   "outputs": [
    {
     "data": {
      "text/html": [
       "<div>\n",
       "<table border=\"1\" class=\"dataframe\">\n",
       "  <thead>\n",
       "    <tr style=\"text-align: right;\">\n",
       "      <th></th>\n",
       "      <th>A</th>\n",
       "      <th>B</th>\n",
       "      <th>C</th>\n",
       "    </tr>\n",
       "  </thead>\n",
       "  <tbody>\n",
       "    <tr>\n",
       "      <th>0</th>\n",
       "      <td>1</td>\n",
       "      <td>True</td>\n",
       "      <td>0.257594</td>\n",
       "    </tr>\n",
       "    <tr>\n",
       "      <th>1</th>\n",
       "      <td>2</td>\n",
       "      <td>True</td>\n",
       "      <td>-1.959395</td>\n",
       "    </tr>\n",
       "    <tr>\n",
       "      <th>2</th>\n",
       "      <td>3</td>\n",
       "      <td>False</td>\n",
       "      <td>-1.507808</td>\n",
       "    </tr>\n",
       "  </tbody>\n",
       "</table>\n",
       "</div>"
      ],
      "text/plain": [
       "   A      B         C\n",
       "0  1   True  0.257594\n",
       "1  2   True -1.959395\n",
       "2  3  False -1.507808"
      ]
     },
     "execution_count": 22,
     "metadata": {},
     "output_type": "execute_result"
    }
   ],
   "source": [
    "import pandas as pd\n",
    "\n",
    "df = pd.DataFrame({'A': [1, 2, 3], 'B': [True, True, False],\n",
    "                   'C': np.random.randn(3)})\n",
    "\n",
    "df"
   ]
  },
  {
   "cell_type": "markdown",
   "metadata": {},
   "source": [
    "We have three columns (features): A, B and C. We can access columns easily:"
   ]
  },
  {
   "cell_type": "code",
   "execution_count": 23,
   "metadata": {},
   "outputs": [
    {
     "name": "stdout",
     "output_type": "stream",
     "text": [
      "0    0.257594\n",
      "1   -1.959395\n",
      "2   -1.507808\n",
      "Name: C, dtype: float64\n"
     ]
    },
    {
     "data": {
      "text/html": [
       "<div>\n",
       "<table border=\"1\" class=\"dataframe\">\n",
       "  <thead>\n",
       "    <tr style=\"text-align: right;\">\n",
       "      <th></th>\n",
       "      <th>A</th>\n",
       "      <th>B</th>\n",
       "    </tr>\n",
       "  </thead>\n",
       "  <tbody>\n",
       "    <tr>\n",
       "      <th>0</th>\n",
       "      <td>1</td>\n",
       "      <td>True</td>\n",
       "    </tr>\n",
       "    <tr>\n",
       "      <th>1</th>\n",
       "      <td>2</td>\n",
       "      <td>True</td>\n",
       "    </tr>\n",
       "    <tr>\n",
       "      <th>2</th>\n",
       "      <td>3</td>\n",
       "      <td>False</td>\n",
       "    </tr>\n",
       "  </tbody>\n",
       "</table>\n",
       "</div>"
      ],
      "text/plain": [
       "   A      B\n",
       "0  1   True\n",
       "1  2   True\n",
       "2  3  False"
      ]
     },
     "execution_count": 23,
     "metadata": {},
     "output_type": "execute_result"
    }
   ],
   "source": [
    "print df['C']\n",
    "\n",
    "cols = ['A','B']\n",
    "df[cols]"
   ]
  },
  {
   "cell_type": "markdown",
   "metadata": {},
   "source": [
    "You can acces a pandas dataframe also using row and column numbers just as with `numpy` arrays using `.iloc[]`:"
   ]
  },
  {
   "cell_type": "code",
   "execution_count": 24,
   "metadata": {},
   "outputs": [
    {
     "data": {
      "text/plain": [
       "0    True\n",
       "1    True\n",
       "Name: B, dtype: bool"
      ]
     },
     "execution_count": 24,
     "metadata": {},
     "output_type": "execute_result"
    }
   ],
   "source": [
    "df.iloc[:2,1]"
   ]
  },
  {
   "cell_type": "markdown",
   "metadata": {},
   "source": [
    "This is how we can create an empty pandas dataframe and add feature columns to it (remark that each feature column should have the same number of rows):"
   ]
  },
  {
   "cell_type": "code",
   "execution_count": 25,
   "metadata": {},
   "outputs": [
    {
     "data": {
      "text/html": [
       "<div>\n",
       "<table border=\"1\" class=\"dataframe\">\n",
       "  <thead>\n",
       "    <tr style=\"text-align: right;\">\n",
       "      <th></th>\n",
       "      <th>feature1</th>\n",
       "      <th>feature2</th>\n",
       "      <th>feature3</th>\n",
       "    </tr>\n",
       "  </thead>\n",
       "  <tbody>\n",
       "    <tr>\n",
       "      <th>0</th>\n",
       "      <td>0</td>\n",
       "      <td>1</td>\n",
       "      <td>2</td>\n",
       "    </tr>\n",
       "    <tr>\n",
       "      <th>1</th>\n",
       "      <td>0</td>\n",
       "      <td>1</td>\n",
       "      <td>2</td>\n",
       "    </tr>\n",
       "    <tr>\n",
       "      <th>2</th>\n",
       "      <td>0</td>\n",
       "      <td>1</td>\n",
       "      <td>2</td>\n",
       "    </tr>\n",
       "    <tr>\n",
       "      <th>3</th>\n",
       "      <td>0</td>\n",
       "      <td>1</td>\n",
       "      <td>2</td>\n",
       "    </tr>\n",
       "    <tr>\n",
       "      <th>4</th>\n",
       "      <td>0</td>\n",
       "      <td>1</td>\n",
       "      <td>2</td>\n",
       "    </tr>\n",
       "    <tr>\n",
       "      <th>5</th>\n",
       "      <td>0</td>\n",
       "      <td>1</td>\n",
       "      <td>2</td>\n",
       "    </tr>\n",
       "  </tbody>\n",
       "</table>\n",
       "</div>"
      ],
      "text/plain": [
       "   feature1  feature2  feature3\n",
       "0         0         1         2\n",
       "1         0         1         2\n",
       "2         0         1         2\n",
       "3         0         1         2\n",
       "4         0         1         2\n",
       "5         0         1         2"
      ]
     },
     "execution_count": 25,
     "metadata": {},
     "output_type": "execute_result"
    }
   ],
   "source": [
    "df = pd.DataFrame()\n",
    "df['feature1'] = [0]*20\n",
    "df['feature2'] = [1]*20\n",
    "df['feature3'] = [2]*20\n",
    "\n",
    "df.head(6)"
   ]
  },
  {
   "cell_type": "markdown",
   "metadata": {},
   "source": [
    "The function `head(n)` of the dataframe prints the top-n rows. To get info about a pandas dataframe we can use the following commands:"
   ]
  },
  {
   "cell_type": "code",
   "execution_count": 26,
   "metadata": {},
   "outputs": [
    {
     "data": {
      "text/plain": [
       "(20, 3)"
      ]
     },
     "execution_count": 26,
     "metadata": {},
     "output_type": "execute_result"
    }
   ],
   "source": [
    "df.shape"
   ]
  },
  {
   "cell_type": "markdown",
   "metadata": {},
   "source": [
    "What does this command do?"
   ]
  },
  {
   "cell_type": "code",
   "execution_count": 27,
   "metadata": {},
   "outputs": [
    {
     "data": {
      "text/html": [
       "<div>\n",
       "<table border=\"1\" class=\"dataframe\">\n",
       "  <thead>\n",
       "    <tr style=\"text-align: right;\">\n",
       "      <th></th>\n",
       "      <th>feature1</th>\n",
       "      <th>feature2</th>\n",
       "      <th>feature3</th>\n",
       "    </tr>\n",
       "  </thead>\n",
       "  <tbody>\n",
       "    <tr>\n",
       "      <th>count</th>\n",
       "      <td>20.0</td>\n",
       "      <td>20.0</td>\n",
       "      <td>20.0</td>\n",
       "    </tr>\n",
       "    <tr>\n",
       "      <th>mean</th>\n",
       "      <td>0.0</td>\n",
       "      <td>1.0</td>\n",
       "      <td>2.0</td>\n",
       "    </tr>\n",
       "    <tr>\n",
       "      <th>std</th>\n",
       "      <td>0.0</td>\n",
       "      <td>0.0</td>\n",
       "      <td>0.0</td>\n",
       "    </tr>\n",
       "    <tr>\n",
       "      <th>min</th>\n",
       "      <td>0.0</td>\n",
       "      <td>1.0</td>\n",
       "      <td>2.0</td>\n",
       "    </tr>\n",
       "    <tr>\n",
       "      <th>25%</th>\n",
       "      <td>0.0</td>\n",
       "      <td>1.0</td>\n",
       "      <td>2.0</td>\n",
       "    </tr>\n",
       "    <tr>\n",
       "      <th>50%</th>\n",
       "      <td>0.0</td>\n",
       "      <td>1.0</td>\n",
       "      <td>2.0</td>\n",
       "    </tr>\n",
       "    <tr>\n",
       "      <th>75%</th>\n",
       "      <td>0.0</td>\n",
       "      <td>1.0</td>\n",
       "      <td>2.0</td>\n",
       "    </tr>\n",
       "    <tr>\n",
       "      <th>max</th>\n",
       "      <td>0.0</td>\n",
       "      <td>1.0</td>\n",
       "      <td>2.0</td>\n",
       "    </tr>\n",
       "  </tbody>\n",
       "</table>\n",
       "</div>"
      ],
      "text/plain": [
       "       feature1  feature2  feature3\n",
       "count      20.0      20.0      20.0\n",
       "mean        0.0       1.0       2.0\n",
       "std         0.0       0.0       0.0\n",
       "min         0.0       1.0       2.0\n",
       "25%         0.0       1.0       2.0\n",
       "50%         0.0       1.0       2.0\n",
       "75%         0.0       1.0       2.0\n",
       "max         0.0       1.0       2.0"
      ]
     },
     "execution_count": 27,
     "metadata": {},
     "output_type": "execute_result"
    }
   ],
   "source": [
    "df.describe()"
   ]
  },
  {
   "cell_type": "markdown",
   "metadata": {},
   "source": [
    "Create a pandas dataframe with two features: a feature \"A\" that has 10 rows with values from 1 to 10 and a feature \"B\" that has 10 rows with random integers in [5,15]. "
   ]
  },
  {
   "cell_type": "code",
   "execution_count": 28,
   "metadata": {
    "collapsed": true
   },
   "outputs": [],
   "source": [
    "tmp = pd.DataFrame()\n",
    "tmp['A'] = range(1,11)\n",
    "tmp['B'] = np.random.randint(5,16)"
   ]
  },
  {
   "cell_type": "markdown",
   "metadata": {},
   "source": [
    "Typically we will create a pandas DataFrame by loading the data set from a file on disk. For this we can use pandas' `read_csv()` function. This function can take many arguments, for now will stick to one called `sep` which defines the symbol that is used to seperate the columns in the data set file. Some common separators are:\n",
    "- comma separated files, \"`,`\"\n",
    "- tab separated files, \"`\\t`\"\n",
    "\n",
    "This data set file needs to have a header line that contains the names of the columns (or features). Let's load a data set (called the melanoma data set):"
   ]
  },
  {
   "cell_type": "code",
   "execution_count": 29,
   "metadata": {},
   "outputs": [
    {
     "data": {
      "text/html": [
       "<div>\n",
       "<table border=\"1\" class=\"dataframe\">\n",
       "  <thead>\n",
       "    <tr style=\"text-align: right;\">\n",
       "      <th></th>\n",
       "      <th>Eccentricity</th>\n",
       "      <th>Solidity</th>\n",
       "      <th>label</th>\n",
       "    </tr>\n",
       "  </thead>\n",
       "  <tbody>\n",
       "    <tr>\n",
       "      <th>0</th>\n",
       "      <td>-0.598720</td>\n",
       "      <td>-2.863001</td>\n",
       "      <td>0</td>\n",
       "    </tr>\n",
       "    <tr>\n",
       "      <th>1</th>\n",
       "      <td>-0.518611</td>\n",
       "      <td>0.126108</td>\n",
       "      <td>0</td>\n",
       "    </tr>\n",
       "    <tr>\n",
       "      <th>2</th>\n",
       "      <td>-1.843886</td>\n",
       "      <td>-2.163015</td>\n",
       "      <td>0</td>\n",
       "    </tr>\n",
       "    <tr>\n",
       "      <th>3</th>\n",
       "      <td>-0.289294</td>\n",
       "      <td>-1.502928</td>\n",
       "      <td>0</td>\n",
       "    </tr>\n",
       "    <tr>\n",
       "      <th>4</th>\n",
       "      <td>-1.177039</td>\n",
       "      <td>-2.112436</td>\n",
       "      <td>0</td>\n",
       "    </tr>\n",
       "  </tbody>\n",
       "</table>\n",
       "</div>"
      ],
      "text/plain": [
       "   Eccentricity  Solidity  label\n",
       "0     -0.598720 -2.863001      0\n",
       "1     -0.518611  0.126108      0\n",
       "2     -1.843886 -2.163015      0\n",
       "3     -0.289294 -1.502928      0\n",
       "4     -1.177039 -2.112436      0"
      ]
     },
     "execution_count": 29,
     "metadata": {},
     "output_type": "execute_result"
    }
   ],
   "source": [
    "dataset = pd.read_csv(\"../../0_introduction/melanoma.csv\",sep=\"\\t\")\n",
    "\n",
    "dataset.head(5)"
   ]
  },
  {
   "cell_type": "markdown",
   "metadata": {},
   "source": [
    "Pandas allows for a very efficient manipulation of the data set:"
   ]
  },
  {
   "cell_type": "code",
   "execution_count": 30,
   "metadata": {},
   "outputs": [],
   "source": [
    "dataset['Solidity'] += 10"
   ]
  },
  {
   "cell_type": "code",
   "execution_count": 31,
   "metadata": {},
   "outputs": [
    {
     "data": {
      "text/html": [
       "<div>\n",
       "<table border=\"1\" class=\"dataframe\">\n",
       "  <thead>\n",
       "    <tr style=\"text-align: right;\">\n",
       "      <th></th>\n",
       "      <th>Eccentricity</th>\n",
       "      <th>Solidity</th>\n",
       "      <th>label</th>\n",
       "    </tr>\n",
       "  </thead>\n",
       "  <tbody>\n",
       "    <tr>\n",
       "      <th>0</th>\n",
       "      <td>-0.598720</td>\n",
       "      <td>7.136999</td>\n",
       "      <td>0</td>\n",
       "    </tr>\n",
       "    <tr>\n",
       "      <th>1</th>\n",
       "      <td>-0.518611</td>\n",
       "      <td>10.126108</td>\n",
       "      <td>0</td>\n",
       "    </tr>\n",
       "    <tr>\n",
       "      <th>2</th>\n",
       "      <td>-1.843886</td>\n",
       "      <td>7.836985</td>\n",
       "      <td>0</td>\n",
       "    </tr>\n",
       "    <tr>\n",
       "      <th>3</th>\n",
       "      <td>-0.289294</td>\n",
       "      <td>8.497072</td>\n",
       "      <td>0</td>\n",
       "    </tr>\n",
       "    <tr>\n",
       "      <th>4</th>\n",
       "      <td>-1.177039</td>\n",
       "      <td>7.887564</td>\n",
       "      <td>0</td>\n",
       "    </tr>\n",
       "  </tbody>\n",
       "</table>\n",
       "</div>"
      ],
      "text/plain": [
       "   Eccentricity   Solidity  label\n",
       "0     -0.598720   7.136999      0\n",
       "1     -0.518611  10.126108      0\n",
       "2     -1.843886   7.836985      0\n",
       "3     -0.289294   8.497072      0\n",
       "4     -1.177039   7.887564      0"
      ]
     },
     "execution_count": 31,
     "metadata": {},
     "output_type": "execute_result"
    }
   ],
   "source": [
    "dataset.head(5)"
   ]
  },
  {
   "cell_type": "markdown",
   "metadata": {},
   "source": [
    "To add features, i.e. columns to our dataframe, we have to simply define a column name and tell pandas how this new feature should be computed. If we want to add the sum of the value for eccentricity and for solidity as an additional feature to our data, we simply do the following:"
   ]
  },
  {
   "cell_type": "code",
   "execution_count": 32,
   "metadata": {},
   "outputs": [
    {
     "data": {
      "text/html": [
       "<div>\n",
       "<table border=\"1\" class=\"dataframe\">\n",
       "  <thead>\n",
       "    <tr style=\"text-align: right;\">\n",
       "      <th></th>\n",
       "      <th>Eccentricity</th>\n",
       "      <th>Solidity</th>\n",
       "      <th>label</th>\n",
       "      <th>new feature 1</th>\n",
       "    </tr>\n",
       "  </thead>\n",
       "  <tbody>\n",
       "    <tr>\n",
       "      <th>0</th>\n",
       "      <td>-0.598720</td>\n",
       "      <td>7.136999</td>\n",
       "      <td>0</td>\n",
       "      <td>-4.273068</td>\n",
       "    </tr>\n",
       "    <tr>\n",
       "      <th>1</th>\n",
       "      <td>-0.518611</td>\n",
       "      <td>10.126108</td>\n",
       "      <td>0</td>\n",
       "      <td>-5.251507</td>\n",
       "    </tr>\n",
       "    <tr>\n",
       "      <th>2</th>\n",
       "      <td>-1.843886</td>\n",
       "      <td>7.836985</td>\n",
       "      <td>0</td>\n",
       "      <td>-14.450505</td>\n",
       "    </tr>\n",
       "    <tr>\n",
       "      <th>3</th>\n",
       "      <td>-0.289294</td>\n",
       "      <td>8.497072</td>\n",
       "      <td>0</td>\n",
       "      <td>-2.458154</td>\n",
       "    </tr>\n",
       "    <tr>\n",
       "      <th>4</th>\n",
       "      <td>-1.177039</td>\n",
       "      <td>7.887564</td>\n",
       "      <td>0</td>\n",
       "      <td>-9.283974</td>\n",
       "    </tr>\n",
       "  </tbody>\n",
       "</table>\n",
       "</div>"
      ],
      "text/plain": [
       "   Eccentricity   Solidity  label  new feature 1\n",
       "0     -0.598720   7.136999      0      -4.273068\n",
       "1     -0.518611  10.126108      0      -5.251507\n",
       "2     -1.843886   7.836985      0     -14.450505\n",
       "3     -0.289294   8.497072      0      -2.458154\n",
       "4     -1.177039   7.887564      0      -9.283974"
      ]
     },
     "execution_count": 32,
     "metadata": {},
     "output_type": "execute_result"
    }
   ],
   "source": [
    "dataset[\"new feature 1\"] = dataset[\"Eccentricity\"] * dataset[\"Solidity\"]\n",
    "dataset.head(5)"
   ]
  },
  {
   "cell_type": "markdown",
   "metadata": {},
   "source": [
    "We can generate these columns in the same fashion as we generated lists previously, for instance:"
   ]
  },
  {
   "cell_type": "code",
   "execution_count": 33,
   "metadata": {},
   "outputs": [
    {
     "data": {
      "text/html": [
       "<div>\n",
       "<table border=\"1\" class=\"dataframe\">\n",
       "  <thead>\n",
       "    <tr style=\"text-align: right;\">\n",
       "      <th></th>\n",
       "      <th>Eccentricity</th>\n",
       "      <th>Solidity</th>\n",
       "      <th>label</th>\n",
       "      <th>new feature 1</th>\n",
       "      <th>new feature 2</th>\n",
       "    </tr>\n",
       "  </thead>\n",
       "  <tbody>\n",
       "    <tr>\n",
       "      <th>0</th>\n",
       "      <td>-0.598720</td>\n",
       "      <td>7.136999</td>\n",
       "      <td>0</td>\n",
       "      <td>-4.273068</td>\n",
       "      <td>observation0</td>\n",
       "    </tr>\n",
       "    <tr>\n",
       "      <th>1</th>\n",
       "      <td>-0.518611</td>\n",
       "      <td>10.126108</td>\n",
       "      <td>0</td>\n",
       "      <td>-5.251507</td>\n",
       "      <td>observation1</td>\n",
       "    </tr>\n",
       "    <tr>\n",
       "      <th>2</th>\n",
       "      <td>-1.843886</td>\n",
       "      <td>7.836985</td>\n",
       "      <td>0</td>\n",
       "      <td>-14.450505</td>\n",
       "      <td>observation2</td>\n",
       "    </tr>\n",
       "    <tr>\n",
       "      <th>3</th>\n",
       "      <td>-0.289294</td>\n",
       "      <td>8.497072</td>\n",
       "      <td>0</td>\n",
       "      <td>-2.458154</td>\n",
       "      <td>observation3</td>\n",
       "    </tr>\n",
       "    <tr>\n",
       "      <th>4</th>\n",
       "      <td>-1.177039</td>\n",
       "      <td>7.887564</td>\n",
       "      <td>0</td>\n",
       "      <td>-9.283974</td>\n",
       "      <td>observation4</td>\n",
       "    </tr>\n",
       "  </tbody>\n",
       "</table>\n",
       "</div>"
      ],
      "text/plain": [
       "   Eccentricity   Solidity  label  new feature 1 new feature 2\n",
       "0     -0.598720   7.136999      0      -4.273068  observation0\n",
       "1     -0.518611  10.126108      0      -5.251507  observation1\n",
       "2     -1.843886   7.836985      0     -14.450505  observation2\n",
       "3     -0.289294   8.497072      0      -2.458154  observation3\n",
       "4     -1.177039   7.887564      0      -9.283974  observation4"
      ]
     },
     "execution_count": 33,
     "metadata": {},
     "output_type": "execute_result"
    }
   ],
   "source": [
    "dataset[\"new feature 2\"] = [\"observation%i\"%i for i in range(len(dataset))]\n",
    "dataset.head(5)"
   ]
  },
  {
   "cell_type": "markdown",
   "metadata": {},
   "source": [
    "Add another column to this dataframe. Give it the name \"new feature 3\" and have it be 1 for even numbered rows and 0 for odd numbered rows."
   ]
  },
  {
   "cell_type": "code",
   "execution_count": 34,
   "metadata": {},
   "outputs": [
    {
     "data": {
      "text/html": [
       "<div>\n",
       "<table border=\"1\" class=\"dataframe\">\n",
       "  <thead>\n",
       "    <tr style=\"text-align: right;\">\n",
       "      <th></th>\n",
       "      <th>Eccentricity</th>\n",
       "      <th>Solidity</th>\n",
       "      <th>label</th>\n",
       "      <th>new feature 1</th>\n",
       "      <th>new feature 2</th>\n",
       "      <th>new feature 3</th>\n",
       "    </tr>\n",
       "  </thead>\n",
       "  <tbody>\n",
       "    <tr>\n",
       "      <th>0</th>\n",
       "      <td>-0.598720</td>\n",
       "      <td>7.136999</td>\n",
       "      <td>0</td>\n",
       "      <td>-4.273068</td>\n",
       "      <td>observation0</td>\n",
       "      <td>1</td>\n",
       "    </tr>\n",
       "    <tr>\n",
       "      <th>1</th>\n",
       "      <td>-0.518611</td>\n",
       "      <td>10.126108</td>\n",
       "      <td>0</td>\n",
       "      <td>-5.251507</td>\n",
       "      <td>observation1</td>\n",
       "      <td>0</td>\n",
       "    </tr>\n",
       "    <tr>\n",
       "      <th>2</th>\n",
       "      <td>-1.843886</td>\n",
       "      <td>7.836985</td>\n",
       "      <td>0</td>\n",
       "      <td>-14.450505</td>\n",
       "      <td>observation2</td>\n",
       "      <td>1</td>\n",
       "    </tr>\n",
       "    <tr>\n",
       "      <th>3</th>\n",
       "      <td>-0.289294</td>\n",
       "      <td>8.497072</td>\n",
       "      <td>0</td>\n",
       "      <td>-2.458154</td>\n",
       "      <td>observation3</td>\n",
       "      <td>0</td>\n",
       "    </tr>\n",
       "    <tr>\n",
       "      <th>4</th>\n",
       "      <td>-1.177039</td>\n",
       "      <td>7.887564</td>\n",
       "      <td>0</td>\n",
       "      <td>-9.283974</td>\n",
       "      <td>observation4</td>\n",
       "      <td>1</td>\n",
       "    </tr>\n",
       "  </tbody>\n",
       "</table>\n",
       "</div>"
      ],
      "text/plain": [
       "   Eccentricity   Solidity  label  new feature 1 new feature 2  new feature 3\n",
       "0     -0.598720   7.136999      0      -4.273068  observation0              1\n",
       "1     -0.518611  10.126108      0      -5.251507  observation1              0\n",
       "2     -1.843886   7.836985      0     -14.450505  observation2              1\n",
       "3     -0.289294   8.497072      0      -2.458154  observation3              0\n",
       "4     -1.177039   7.887564      0      -9.283974  observation4              1"
      ]
     },
     "execution_count": 34,
     "metadata": {},
     "output_type": "execute_result"
    }
   ],
   "source": [
    "dataset['new feature 3'] = [1 if (i%2)==0 else 0 for i in range(len(dataset))]\n",
    "dataset.head(5)"
   ]
  },
  {
   "cell_type": "markdown",
   "metadata": {},
   "source": [
    "In many cases we will want to select rows where a certain feature takes a certain value rather than by their indexes as we did before. For this data set, the column \"label\" is 0 for benign tumours and 1 for malignant tumours. If we are interested in looking only at the malignant cases, we can create a new dataframe that includes only these observations as follows:"
   ]
  },
  {
   "cell_type": "code",
   "execution_count": 35,
   "metadata": {},
   "outputs": [
    {
     "name": "stdout",
     "output_type": "stream",
     "text": [
      "(600, 6)\n",
      "(301, 6)\n"
     ]
    },
    {
     "data": {
      "text/html": [
       "<div>\n",
       "<table border=\"1\" class=\"dataframe\">\n",
       "  <thead>\n",
       "    <tr style=\"text-align: right;\">\n",
       "      <th></th>\n",
       "      <th>Eccentricity</th>\n",
       "      <th>Solidity</th>\n",
       "      <th>label</th>\n",
       "      <th>new feature 1</th>\n",
       "      <th>new feature 2</th>\n",
       "      <th>new feature 3</th>\n",
       "    </tr>\n",
       "  </thead>\n",
       "  <tbody>\n",
       "    <tr>\n",
       "      <th>11</th>\n",
       "      <td>-0.381721</td>\n",
       "      <td>9.586472</td>\n",
       "      <td>1</td>\n",
       "      <td>-3.659354</td>\n",
       "      <td>observation11</td>\n",
       "      <td>0</td>\n",
       "    </tr>\n",
       "    <tr>\n",
       "      <th>251</th>\n",
       "      <td>-1.133536</td>\n",
       "      <td>9.483692</td>\n",
       "      <td>1</td>\n",
       "      <td>-10.750109</td>\n",
       "      <td>observation251</td>\n",
       "      <td>0</td>\n",
       "    </tr>\n",
       "    <tr>\n",
       "      <th>295</th>\n",
       "      <td>-0.673477</td>\n",
       "      <td>10.752767</td>\n",
       "      <td>1</td>\n",
       "      <td>-7.241745</td>\n",
       "      <td>observation295</td>\n",
       "      <td>0</td>\n",
       "    </tr>\n",
       "    <tr>\n",
       "      <th>300</th>\n",
       "      <td>1.815978</td>\n",
       "      <td>7.725954</td>\n",
       "      <td>1</td>\n",
       "      <td>14.030160</td>\n",
       "      <td>observation300</td>\n",
       "      <td>1</td>\n",
       "    </tr>\n",
       "    <tr>\n",
       "      <th>301</th>\n",
       "      <td>0.365680</td>\n",
       "      <td>11.404853</td>\n",
       "      <td>1</td>\n",
       "      <td>4.170527</td>\n",
       "      <td>observation301</td>\n",
       "      <td>0</td>\n",
       "    </tr>\n",
       "  </tbody>\n",
       "</table>\n",
       "</div>"
      ],
      "text/plain": [
       "     Eccentricity   Solidity  label  new feature 1   new feature 2  \\\n",
       "11      -0.381721   9.586472      1      -3.659354   observation11   \n",
       "251     -1.133536   9.483692      1     -10.750109  observation251   \n",
       "295     -0.673477  10.752767      1      -7.241745  observation295   \n",
       "300      1.815978   7.725954      1      14.030160  observation300   \n",
       "301      0.365680  11.404853      1       4.170527  observation301   \n",
       "\n",
       "     new feature 3  \n",
       "11               0  \n",
       "251              0  \n",
       "295              0  \n",
       "300              1  \n",
       "301              0  "
      ]
     },
     "execution_count": 35,
     "metadata": {},
     "output_type": "execute_result"
    }
   ],
   "source": [
    "newdataset = dataset[dataset['label'] == 1]\n",
    "\n",
    "print dataset.shape\n",
    "print newdataset.shape\n",
    "\n",
    "newdataset.head(5)"
   ]
  },
  {
   "cell_type": "markdown",
   "metadata": {},
   "source": [
    "Above we selected a portion of our original data using the values a certain column takes. But imagine that the values you wish to use to select elements from your data are not in your dataframe, but are another python variable such as an array. For instance, we will initialize an array of random numbers sampled between 0 and 9. The array will have the same number of elements as there are rows in our dataset:"
   ]
  },
  {
   "cell_type": "code",
   "execution_count": 36,
   "metadata": {},
   "outputs": [
    {
     "name": "stdout",
     "output_type": "stream",
     "text": [
      "[4 7 7 9 1 7 0 6 9 9 7 6 9 1 0 1 8 8 3 9 8 7 3 6 5 1 9 3 4 8 1 4 0 3 9 2 0\n",
      " 4 9 2 7 7 9 8 6 9 3 7 7 4 5 9 3 6 8 0 2 7 7 9 7 3 0 8 7 7 1 1 3 0 8 6 4 5\n",
      " 6 2 5 7 8 4 4 7 7 4 9 0 2 0 7 1 7 9 8 4 0 1 9 8 2 3 1 2 7 2 6 0 9 2 6 6 2\n",
      " 7 7 0 6 5 1 4 6 0 6 5 1 2 1 5 4 0 7 8 9 5 7 0 9 3 9 1 4 4 6 8 8 9 2 7 5 5\n",
      " 4 5 8 5 8 1 1 8 7 0 3 4 2 0 3 5 1 2 4 3 0 6 0 7 2 8 3 0 8 4 2 9 0 3 8 1 4\n",
      " 3 3 6 7 3 5 3 2 4 4 0 3 3 8 3 5 6 7 5 1 7 0 2 8 2 1 4 0 4 1 7 3 1 6 6 9 6\n",
      " 9 6 0 0 2 9 6 0 6 7 0 3 9 0 3 4 7 5 3 8 8 0 6 7 9 5 4 9 5 2 5 6 6 8 7 7 7\n",
      " 2 6 0 5 2 1 8 5 9 4 9 1 2 0 4 7 0 6 2 4 3 6 7 6 3 0 6 4 7 6 2 9 5 9 9 9 8\n",
      " 6 4 2 9 4 0 0 3 4 9 3 9 1 2 5 4 0 8 2 3 9 9 4 4 8 2 1 6 3 8 9 7 0 5 2 2 8\n",
      " 5 0 5 9 8 6 6 0 4 7 3 0 1 6 0 6 1 6 4 2 5 4 6 2 9 2 7 5 0 7 8 8 8 0 7 2 0\n",
      " 7 1 1 9 5 1 5 9 6 4 9 8 7 5 1 8 0 5 3 9 0 4 8 6 2 4 3 2 0 0 4 2 5 0 0 3 8\n",
      " 5 3 1 4 7 3 2 2 2 6 6 0 1 5 6 5 8 8 5 5 7 5 9 1 3 9 3 3 3 6 1 3 0 5 0 5 2\n",
      " 7 6 4 0 2 4 8 7 6 7 7 1 7 7 3 8 3 0 6 3 0 6 5 9 6 4 6 6 2 2 4 1 2 3 9 3 6\n",
      " 7 0 3 3 6 8 6 5 1 3 2 6 3 6 7 2 8 0 1 8 6 0 0 1 2 7 7 4 4 0 1 0 8 5 6 2 5\n",
      " 4 3 0 6 2 1 9 4 4 0 9 8 7 7 6 1 7 2 4 5 6 7 2 0 5 2 7 9 9 7 1 1 4 6 5 6 4\n",
      " 1 1 5 1 2 6 2 3 3 2 3 0 0 1 5 0 5 8 8 0 0 0 9 8 5 9 3 4 0 9 8 6 3 9 9 0 8\n",
      " 1 6 6 1 3 7 3 2]\n",
      "(600L,)\n",
      "(600, 6)\n"
     ]
    }
   ],
   "source": [
    "random_numbers = np.random.randint(0,10,len(dataset))\n",
    "\n",
    "print random_numbers\n",
    "\n",
    "print random_numbers.shape\n",
    "print dataset.shape"
   ]
  },
  {
   "cell_type": "markdown",
   "metadata": {},
   "source": [
    "We want to select the rows in our dataframe whose index matches the index of elements in our random_numbers array that are equal to 3. If we do this process step by step:"
   ]
  },
  {
   "cell_type": "markdown",
   "metadata": {},
   "source": [
    "- We get an array of Boolean values that is equal to \"True\" when the condition (i.e., \"is equal to 3\") is indeed True, and False otherwise:"
   ]
  },
  {
   "cell_type": "code",
   "execution_count": 37,
   "metadata": {},
   "outputs": [
    {
     "name": "stdout",
     "output_type": "stream",
     "text": [
      "[False False False False False False False False False False False False\n",
      " False False False False False False  True False False False  True False\n",
      " False False False  True False False False False False  True False False\n",
      " False False False False False False False False False False  True False\n",
      " False False False False  True False False False False False False False\n",
      " False  True False False False False False False  True False False False\n",
      " False False False False False False False False False False False False\n",
      " False False False False False False False False False False False False\n",
      " False False False  True False False False False False False False False\n",
      " False False False False False False False False False False False False\n",
      " False False False False False False False False False False False False\n",
      " False False False  True False False False False False False False False\n",
      " False False False False False False False False False False False False\n",
      " False False  True False False False  True False False False False  True\n",
      " False False False False False False  True False False False False False\n",
      " False  True False False False  True  True False False  True False  True\n",
      " False False False False  True  True False  True False False False False\n",
      " False False False False False False False False False False False False\n",
      "  True False False False False False False False False False False False\n",
      " False False False False False  True False False  True False False False\n",
      "  True False False False False False False False False False False False\n",
      " False False False False False False False False False False False False\n",
      " False False False False False False False False False False False False\n",
      " False False False  True False False False  True False False False False\n",
      " False False False False False False False False False False False False\n",
      " False False False  True False False  True False False False False False\n",
      " False False False  True False False False False False False False False\n",
      "  True False False False False False False False False False False False\n",
      " False False False False False False False  True False False False False\n",
      " False False False False False False False False False False False False\n",
      " False False False False False False False False False False False False\n",
      " False False False False False False False False False False False False\n",
      " False False False False  True False False False False False False False\n",
      "  True False False False False False False False False  True False False\n",
      "  True False False False  True False False False False False False False\n",
      " False False False False False False False False False False False  True\n",
      " False  True  True  True False False  True False False False False False\n",
      " False False False False False False False False False False False False\n",
      " False False  True False  True False False  True False False False False\n",
      " False False False False False False False False False  True False  True\n",
      " False False False  True  True False False False False False  True False\n",
      " False  True False False False False False False False False False False\n",
      " False False False False False False False False False False False False\n",
      " False False False  True False False False False False False False False\n",
      " False False False False False False False False False False False False\n",
      " False False False False False False False False False False False False\n",
      " False False False False False False False False False False  True  True\n",
      " False  True False False False False False False False False False False\n",
      " False False False False False  True False False False False False  True\n",
      " False False False False False False False False  True False  True False]\n"
     ]
    }
   ],
   "source": [
    "is_three = random_numbers == 3 \n",
    "print is_three"
   ]
  },
  {
   "cell_type": "markdown",
   "metadata": {},
   "source": [
    "- We use this array to select rows from our dataframe. This operation will return the rows of the dataframe that correspond to \"True\" in the boolean array we saw before:"
   ]
  },
  {
   "cell_type": "code",
   "execution_count": 38,
   "metadata": {},
   "outputs": [
    {
     "name": "stdout",
     "output_type": "stream",
     "text": [
      "(60, 6)\n"
     ]
    },
    {
     "data": {
      "text/html": [
       "<div>\n",
       "<table border=\"1\" class=\"dataframe\">\n",
       "  <thead>\n",
       "    <tr style=\"text-align: right;\">\n",
       "      <th></th>\n",
       "      <th>Eccentricity</th>\n",
       "      <th>Solidity</th>\n",
       "      <th>label</th>\n",
       "      <th>new feature 1</th>\n",
       "      <th>new feature 2</th>\n",
       "      <th>new feature 3</th>\n",
       "    </tr>\n",
       "  </thead>\n",
       "  <tbody>\n",
       "    <tr>\n",
       "      <th>18</th>\n",
       "      <td>-0.971022</td>\n",
       "      <td>7.633487</td>\n",
       "      <td>0</td>\n",
       "      <td>-7.412283</td>\n",
       "      <td>observation18</td>\n",
       "      <td>1</td>\n",
       "    </tr>\n",
       "    <tr>\n",
       "      <th>22</th>\n",
       "      <td>-0.445587</td>\n",
       "      <td>9.264517</td>\n",
       "      <td>0</td>\n",
       "      <td>-4.128145</td>\n",
       "      <td>observation22</td>\n",
       "      <td>1</td>\n",
       "    </tr>\n",
       "    <tr>\n",
       "      <th>27</th>\n",
       "      <td>-0.945795</td>\n",
       "      <td>10.344879</td>\n",
       "      <td>0</td>\n",
       "      <td>-9.784133</td>\n",
       "      <td>observation27</td>\n",
       "      <td>0</td>\n",
       "    </tr>\n",
       "    <tr>\n",
       "      <th>33</th>\n",
       "      <td>-0.170521</td>\n",
       "      <td>10.277717</td>\n",
       "      <td>0</td>\n",
       "      <td>-1.752565</td>\n",
       "      <td>observation33</td>\n",
       "      <td>0</td>\n",
       "    </tr>\n",
       "    <tr>\n",
       "      <th>46</th>\n",
       "      <td>-0.450475</td>\n",
       "      <td>9.318210</td>\n",
       "      <td>0</td>\n",
       "      <td>-4.197619</td>\n",
       "      <td>observation46</td>\n",
       "      <td>1</td>\n",
       "    </tr>\n",
       "  </tbody>\n",
       "</table>\n",
       "</div>"
      ],
      "text/plain": [
       "    Eccentricity   Solidity  label  new feature 1  new feature 2  \\\n",
       "18     -0.971022   7.633487      0      -7.412283  observation18   \n",
       "22     -0.445587   9.264517      0      -4.128145  observation22   \n",
       "27     -0.945795  10.344879      0      -9.784133  observation27   \n",
       "33     -0.170521  10.277717      0      -1.752565  observation33   \n",
       "46     -0.450475   9.318210      0      -4.197619  observation46   \n",
       "\n",
       "    new feature 3  \n",
       "18              1  \n",
       "22              1  \n",
       "27              0  \n",
       "33              0  \n",
       "46              1  "
      ]
     },
     "execution_count": 38,
     "metadata": {},
     "output_type": "execute_result"
    }
   ],
   "source": [
    "newdataset = dataset[is_three]\n",
    "\n",
    "print newdataset.shape\n",
    "\n",
    "newdataset.head(5)"
   ]
  },
  {
   "cell_type": "markdown",
   "metadata": {},
   "source": [
    "Now that you know what is happening, you can do all of this in one single line:"
   ]
  },
  {
   "cell_type": "code",
   "execution_count": 39,
   "metadata": {},
   "outputs": [
    {
     "name": "stdout",
     "output_type": "stream",
     "text": [
      "(60, 6)\n"
     ]
    },
    {
     "data": {
      "text/html": [
       "<div>\n",
       "<table border=\"1\" class=\"dataframe\">\n",
       "  <thead>\n",
       "    <tr style=\"text-align: right;\">\n",
       "      <th></th>\n",
       "      <th>Eccentricity</th>\n",
       "      <th>Solidity</th>\n",
       "      <th>label</th>\n",
       "      <th>new feature 1</th>\n",
       "      <th>new feature 2</th>\n",
       "      <th>new feature 3</th>\n",
       "    </tr>\n",
       "  </thead>\n",
       "  <tbody>\n",
       "    <tr>\n",
       "      <th>18</th>\n",
       "      <td>-0.971022</td>\n",
       "      <td>7.633487</td>\n",
       "      <td>0</td>\n",
       "      <td>-7.412283</td>\n",
       "      <td>observation18</td>\n",
       "      <td>1</td>\n",
       "    </tr>\n",
       "    <tr>\n",
       "      <th>22</th>\n",
       "      <td>-0.445587</td>\n",
       "      <td>9.264517</td>\n",
       "      <td>0</td>\n",
       "      <td>-4.128145</td>\n",
       "      <td>observation22</td>\n",
       "      <td>1</td>\n",
       "    </tr>\n",
       "    <tr>\n",
       "      <th>27</th>\n",
       "      <td>-0.945795</td>\n",
       "      <td>10.344879</td>\n",
       "      <td>0</td>\n",
       "      <td>-9.784133</td>\n",
       "      <td>observation27</td>\n",
       "      <td>0</td>\n",
       "    </tr>\n",
       "    <tr>\n",
       "      <th>33</th>\n",
       "      <td>-0.170521</td>\n",
       "      <td>10.277717</td>\n",
       "      <td>0</td>\n",
       "      <td>-1.752565</td>\n",
       "      <td>observation33</td>\n",
       "      <td>0</td>\n",
       "    </tr>\n",
       "    <tr>\n",
       "      <th>46</th>\n",
       "      <td>-0.450475</td>\n",
       "      <td>9.318210</td>\n",
       "      <td>0</td>\n",
       "      <td>-4.197619</td>\n",
       "      <td>observation46</td>\n",
       "      <td>1</td>\n",
       "    </tr>\n",
       "  </tbody>\n",
       "</table>\n",
       "</div>"
      ],
      "text/plain": [
       "    Eccentricity   Solidity  label  new feature 1  new feature 2  \\\n",
       "18     -0.971022   7.633487      0      -7.412283  observation18   \n",
       "22     -0.445587   9.264517      0      -4.128145  observation22   \n",
       "27     -0.945795  10.344879      0      -9.784133  observation27   \n",
       "33     -0.170521  10.277717      0      -1.752565  observation33   \n",
       "46     -0.450475   9.318210      0      -4.197619  observation46   \n",
       "\n",
       "    new feature 3  \n",
       "18              1  \n",
       "22              1  \n",
       "27              0  \n",
       "33              0  \n",
       "46              1  "
      ]
     },
     "execution_count": 39,
     "metadata": {},
     "output_type": "execute_result"
    }
   ],
   "source": [
    "newdataset = dataset[(random_numbers == 3)]\n",
    "\n",
    "print newdataset.shape\n",
    "\n",
    "newdataset.head(5)"
   ]
  },
  {
   "cell_type": "markdown",
   "metadata": {},
   "source": [
    "As you can see, you get the exact same result. You can combine multiple statements like that using the following logic operators:\n",
    "- AND, `&`: returns `True` when both statements are `True`\n",
    "- OR, `|`: returns `True` when one of the statements is `True`\n",
    "\n",
    "These operators work as follows:"
   ]
  },
  {
   "cell_type": "code",
   "execution_count": 40,
   "metadata": {},
   "outputs": [
    {
     "data": {
      "text/plain": [
       "array([False, False, False, False, False, False, False, False, False,\n",
       "       False, False, False, False, False, False, False, False, False,\n",
       "        True, False, False, False,  True, False,  True, False, False,\n",
       "        True, False, False, False, False, False,  True, False, False,\n",
       "       False, False, False, False, False, False, False, False, False,\n",
       "       False,  True, False, False, False,  True, False,  True, False,\n",
       "       False, False, False, False, False, False, False,  True, False,\n",
       "       False, False, False, False, False,  True, False, False, False,\n",
       "       False,  True, False, False,  True, False, False, False, False,\n",
       "       False, False, False, False, False, False, False, False, False,\n",
       "       False, False, False, False, False, False, False, False, False,\n",
       "        True, False, False, False, False, False, False, False, False,\n",
       "       False, False, False, False, False, False, False,  True, False,\n",
       "       False, False, False, False,  True, False, False, False,  True,\n",
       "       False, False, False, False, False,  True, False, False, False,\n",
       "        True, False, False, False, False, False, False, False, False,\n",
       "       False, False,  True,  True, False,  True, False,  True, False,\n",
       "       False, False, False, False, False,  True, False, False, False,\n",
       "        True,  True, False, False, False,  True, False, False, False,\n",
       "       False, False, False,  True, False, False, False, False, False,\n",
       "       False,  True, False, False, False,  True,  True, False, False,\n",
       "        True,  True,  True, False, False, False, False,  True,  True,\n",
       "       False,  True,  True, False, False,  True, False, False, False,\n",
       "       False, False, False, False, False, False, False, False, False,\n",
       "        True, False, False, False, False, False, False, False, False,\n",
       "       False, False, False, False, False, False, False, False,  True,\n",
       "       False, False,  True, False, False,  True,  True, False, False,\n",
       "       False, False, False, False,  True, False, False,  True, False,\n",
       "        True, False, False, False, False, False, False, False, False,\n",
       "       False,  True, False, False, False,  True, False, False, False,\n",
       "       False, False, False, False, False, False, False, False, False,\n",
       "        True, False, False, False,  True, False, False, False, False,\n",
       "       False, False, False,  True, False, False, False, False, False,\n",
       "       False, False, False, False, False, False,  True, False, False,\n",
       "        True, False, False, False,  True, False, False, False, False,\n",
       "        True, False, False, False, False, False, False, False, False,\n",
       "        True, False, False, False, False,  True, False, False, False,\n",
       "        True, False,  True, False, False, False, False, False, False,\n",
       "       False,  True, False, False, False, False, False, False, False,\n",
       "       False, False,  True, False, False, False, False, False, False,\n",
       "        True, False, False, False, False, False, False, False, False,\n",
       "       False, False, False, False, False,  True, False,  True, False,\n",
       "       False, False, False, False, False,  True, False, False, False,\n",
       "        True,  True, False, False, False, False, False, False, False,\n",
       "        True, False, False, False, False, False,  True, False, False,\n",
       "        True, False,  True,  True, False, False, False,  True, False,\n",
       "       False, False, False, False, False, False,  True, False,  True,\n",
       "       False, False,  True,  True, False,  True, False, False,  True,\n",
       "       False,  True,  True,  True, False, False,  True, False,  True,\n",
       "       False,  True, False, False, False, False, False, False, False,\n",
       "       False, False, False, False, False, False, False, False,  True,\n",
       "       False,  True, False, False,  True, False, False,  True, False,\n",
       "       False, False, False, False, False, False, False, False, False,\n",
       "        True, False,  True, False, False, False,  True,  True, False,\n",
       "       False, False,  True, False,  True, False, False,  True, False,\n",
       "       False, False, False, False, False, False, False, False, False,\n",
       "       False, False, False, False, False, False, False, False, False,\n",
       "       False,  True, False, False,  True, False,  True, False, False,\n",
       "       False, False, False, False, False, False, False, False, False,\n",
       "       False, False, False, False, False, False,  True, False, False,\n",
       "       False, False,  True, False, False, False, False, False, False,\n",
       "       False, False, False,  True, False, False, False, False,  True,\n",
       "       False, False, False, False,  True,  True, False,  True, False,\n",
       "       False, False,  True, False,  True, False, False, False, False,\n",
       "       False, False, False,  True, False,  True, False, False, False,\n",
       "       False, False,  True, False, False, False, False, False, False,\n",
       "       False, False,  True, False,  True, False], dtype=bool)"
      ]
     },
     "execution_count": 40,
     "metadata": {},
     "output_type": "execute_result"
    }
   ],
   "source": [
    "# random_numbers is equal to 5 OR to 3:\n",
    "(random_numbers == 5) | (random_numbers == 3)"
   ]
  },
  {
   "cell_type": "markdown",
   "metadata": {},
   "source": [
    "Create a new dataframe where you select the elements where random_numbers is 4 and label is 1."
   ]
  },
  {
   "cell_type": "code",
   "execution_count": 41,
   "metadata": {},
   "outputs": [],
   "source": [
    "newdataset = dataset[(random_numbers == 3) & (dataset.label == 1)]"
   ]
  },
  {
   "cell_type": "markdown",
   "metadata": {},
   "source": [
    "To apply the machine learning techniques that we are going to learn during this course, we need to slightly change the way our data is organized. Concretely, we will want to _separate_ our features from our labels. The safest way to do so is to create a temporary copy of our dataframe, and \"pop\" out the \"label\" column. This is done as follows:"
   ]
  },
  {
   "cell_type": "code",
   "execution_count": 42,
   "metadata": {},
   "outputs": [
    {
     "name": "stdout",
     "output_type": "stream",
     "text": [
      "True\n"
     ]
    }
   ],
   "source": [
    "tmp = dataset.copy()\n",
    "print dataset.shape == tmp.shape"
   ]
  },
  {
   "cell_type": "code",
   "execution_count": 43,
   "metadata": {},
   "outputs": [
    {
     "name": "stdout",
     "output_type": "stream",
     "text": [
      "False\n",
      "\n",
      "\n",
      "0    0\n",
      "1    0\n",
      "2    0\n",
      "3    0\n",
      "4    0\n",
      "Name: label, dtype: int64\n",
      "\n",
      "\n",
      "   Eccentricity   Solidity  new feature 1 new feature 2  new feature 3\n",
      "0     -0.598720   7.136999      -4.273068  observation0              1\n",
      "1     -0.518611  10.126108      -5.251507  observation1              0\n",
      "2     -1.843886   7.836985     -14.450505  observation2              1\n",
      "3     -0.289294   8.497072      -2.458154  observation3              0\n",
      "4     -1.177039   7.887564      -9.283974  observation4              1\n",
      "\n",
      "\n",
      "   Eccentricity   Solidity  label  new feature 1 new feature 2  new feature 3\n",
      "0     -0.598720   7.136999      0      -4.273068  observation0              1\n",
      "1     -0.518611  10.126108      0      -5.251507  observation1              0\n",
      "2     -1.843886   7.836985      0     -14.450505  observation2              1\n",
      "3     -0.289294   8.497072      0      -2.458154  observation3              0\n",
      "4     -1.177039   7.887564      0      -9.283974  observation4              1\n"
     ]
    }
   ],
   "source": [
    "label = tmp.pop('label')\n",
    "\n",
    "print dataset.shape == tmp.shape\n",
    "print ('\\n') # prints an empty line, so that the output is less cluttered\n",
    "print label.head(5)\n",
    "print ('\\n')\n",
    "print tmp.head(5)\n",
    "print ('\\n') \n",
    "print dataset.head(5)"
   ]
  },
  {
   "cell_type": "markdown",
   "metadata": {},
   "source": [
    "As you can see, we have \"popped\" the label out of our `tmp` dataframe, while maintaining all the other columns. The new array `label` is exactly the same as the column \"label\" in our original dataframe."
   ]
  },
  {
   "cell_type": "code",
   "execution_count": 44,
   "metadata": {},
   "outputs": [
    {
     "name": "stdout",
     "output_type": "stream",
     "text": [
      "Value counts on the popped label array:\n",
      "1    301\n",
      "0    299\n",
      "Name: label, dtype: int64\n",
      "Value counts on the label columns of our dataset:\n",
      "1    301\n",
      "0    299\n",
      "Name: label, dtype: int64\n",
      "0      True\n",
      "1      True\n",
      "2      True\n",
      "3      True\n",
      "4      True\n",
      "5      True\n",
      "6      True\n",
      "7      True\n",
      "8      True\n",
      "9      True\n",
      "10     True\n",
      "11     True\n",
      "12     True\n",
      "13     True\n",
      "14     True\n",
      "15     True\n",
      "16     True\n",
      "17     True\n",
      "18     True\n",
      "19     True\n",
      "20     True\n",
      "21     True\n",
      "22     True\n",
      "23     True\n",
      "24     True\n",
      "25     True\n",
      "26     True\n",
      "27     True\n",
      "28     True\n",
      "29     True\n",
      "       ... \n",
      "570    True\n",
      "571    True\n",
      "572    True\n",
      "573    True\n",
      "574    True\n",
      "575    True\n",
      "576    True\n",
      "577    True\n",
      "578    True\n",
      "579    True\n",
      "580    True\n",
      "581    True\n",
      "582    True\n",
      "583    True\n",
      "584    True\n",
      "585    True\n",
      "586    True\n",
      "587    True\n",
      "588    True\n",
      "589    True\n",
      "590    True\n",
      "591    True\n",
      "592    True\n",
      "593    True\n",
      "594    True\n",
      "595    True\n",
      "596    True\n",
      "597    True\n",
      "598    True\n",
      "599    True\n",
      "Name: label, dtype: bool\n"
     ]
    }
   ],
   "source": [
    "print \"Value counts on the popped label array:\"\n",
    "print label.value_counts()\n",
    "print \"Value counts on the label columns of our dataset:\"\n",
    "print dataset['label'].value_counts()\n",
    "\n",
    "print label == dataset['label']"
   ]
  },
  {
   "cell_type": "markdown",
   "metadata": {},
   "source": [
    "# Plotting"
   ]
  },
  {
   "cell_type": "markdown",
   "metadata": {},
   "source": [
    "There are many Python modules that allow you to plot your data with ease. In this course we will mainly focus on the Python `seaborn`  module to create our graphs. However, the core Python package for plotting is `matplotlib` and most of the other plotting modules build on top of `matplotlib` so we will need to know some basics of these modules as well.\n",
    "\n",
    "But first let's import `seaborn` and plot a nice histogram of the \"Eccentricity\" feature in the melanoma data set:"
   ]
  },
  {
   "cell_type": "code",
   "execution_count": 45,
   "metadata": {
    "scrolled": true
   },
   "outputs": [
    {
     "data": {
      "image/png": "[encoded data removed]",
      "text/plain": [
       "<matplotlib.figure.Figure at 0x810ec50>"
      ]
     },
     "metadata": {},
     "output_type": "display_data"
    }
   ],
   "source": [
    "%matplotlib inline\n",
    "from matplotlib import pyplot as plt\n",
    "\n",
    "import seaborn as sns\n",
    "\n",
    "plt.figure(figsize=(6,6))\n",
    "sns.distplot(dataset['Eccentricity'], color=\"b\")\n",
    "plt.show()"
   ]
  },
  {
   "cell_type": "markdown",
   "metadata": {},
   "source": [
    "That was easy. After importing the `seaborn` module we call the function `figure()` in the `matplotlib.pyplot` module to set the size of the plot. Then we call the function `distplot()` of the `seaborn` module to create a histogram. And finally we tell matplotlib to plot the figure. Plot the same distriubtion but only for the data points where the label equals 1."
   ]
  },
  {
   "cell_type": "code",
   "execution_count": 46,
   "metadata": {},
   "outputs": [
    {
     "data": {
      "image/png": "[encoded data removed]",
      "text/plain": [
       "<matplotlib.figure.Figure at 0xc99de80>"
      ]
     },
     "metadata": {},
     "output_type": "display_data"
    }
   ],
   "source": [
    "plt.figure(figsize=(6,6))\n",
    "sns.distplot(dataset[dataset['label']==1]['Eccentricity'], color=\"b\")\n",
    "plt.show()"
   ]
  },
  {
   "cell_type": "markdown",
   "metadata": {},
   "source": [
    "The `distplot()`function allows plotting different distributions on top of each other (not all `seaborn` functions allow this). You can do this by calling the `distplot()` function multiple times before calling the `plt.show()`function. Plot a distribution of the \"Solidity\" feature, showing the data points labeled 1 as a blue distribution and the one labeled 0 as a red distribution."
   ]
  },
  {
   "cell_type": "code",
   "execution_count": 47,
   "metadata": {},
   "outputs": [
    {
     "data": {
      "image/png": "[encoded data removed]",
      "text/plain": [
       "<matplotlib.figure.Figure at 0xc6f7a20>"
      ]
     },
     "metadata": {},
     "output_type": "display_data"
    }
   ],
   "source": [
    "plt.figure(figsize=(6,6))\n",
    "sns.distplot(dataset[dataset['label']==1]['Solidity'], color=\"b\")\n",
    "sns.distplot(dataset[dataset['label']==0]['Solidity'], color=\"r\")\n",
    "plt.show()"
   ]
  },
  {
   "cell_type": "markdown",
   "metadata": {},
   "source": [
    "Make the same plot but use 50 bins for each distribution."
   ]
  },
  {
   "cell_type": "code",
   "execution_count": 48,
   "metadata": {},
   "outputs": [
    {
     "data": {
      "image/png": "[encoded data removed]",
      "text/plain": [
       "<matplotlib.figure.Figure at 0xc3fd780>"
      ]
     },
     "metadata": {},
     "output_type": "display_data"
    }
   ],
   "source": [
    "plt.figure(figsize=(6,6))\n",
    "sns.distplot(dataset[dataset['label']==1]['Solidity'], color=\"b\", bins=50)\n",
    "sns.distplot(dataset[dataset['label']==0]['Solidity'], color=\"r\", bins=50)\n",
    "plt.show()"
   ]
  },
  {
   "cell_type": "markdown",
   "metadata": {},
   "source": [
    "Most plotting functions will have many options that set how the plot will look like. For instance if we create a scatter plot using the `lmplot()` function in the `seaborn` module:"
   ]
  },
  {
   "cell_type": "code",
   "execution_count": 49,
   "metadata": {},
   "outputs": [
    {
     "data": {
      "image/png": "[encoded data removed]",
      "text/plain": [
       "<matplotlib.figure.Figure at 0xc75d4a8>"
      ]
     },
     "metadata": {},
     "output_type": "display_data"
    }
   ],
   "source": [
    "sns.lmplot(x=\"Eccentricity\", y=\"Solidity\", data=dataset, \n",
    "           fit_reg=False, size=5.5, scatter_kws={\"s\": 80})\n",
    "plt.show()"
   ]
  },
  {
   "cell_type": "markdown",
   "metadata": {},
   "source": [
    "we have set additional arguments such as `size` that defines the size of the plot and the `scatter_kws` argument that contains settings understood by the `matplotlib` module such as \"s\" that sets the size of the markers that represent the data points.\n",
    "\n",
    "Other interesting arguments of `lmplot()` are `hue`, `col` and `row`. The `hue` argument is used to color a point according to its value. Given our data, we may be interested in coloring these points according to their labels:"
   ]
  },
  {
   "cell_type": "code",
   "execution_count": 50,
   "metadata": {},
   "outputs": [
    {
     "data": {
      "image/png": "[encoded data removed]",
      "text/plain": [
       "<matplotlib.figure.Figure at 0xd8adac8>"
      ]
     },
     "metadata": {},
     "output_type": "display_data"
    }
   ],
   "source": [
    "sns.lmplot(x=\"Eccentricity\", y=\"Solidity\", data=dataset, hue=\"label\",\n",
    "           fit_reg=False, size=5.5, scatter_kws={\"s\": 80})\n",
    "plt.show()"
   ]
  },
  {
   "cell_type": "markdown",
   "metadata": {},
   "source": [
    "The \"col\" and \"row\" arguments are similar. We use them to split our plots according to a certain feature. In our dataset, if you have done all the exercises until now (specifically adding a column \"new feature 3\" to our dataset), there should be two columns that take binary values - \"label\" and \"new feature 3\". If we give these column names as arguments to \"row\" and \"col\", respectively, the resulting plot will be such that for each row we have a different value of the variable we passed on to \"row\", and on each column a different value of the variable we passed to \"column\". This way we can see the distribution of our data across subsets that we obtained by splitting our data according to these variables."
   ]
  },
  {
   "cell_type": "code",
   "execution_count": 51,
   "metadata": {},
   "outputs": [
    {
     "data": {
      "image/png": "[encoded data removed]",
      "text/plain": [
       "<matplotlib.figure.Figure at 0xdab3ac8>"
      ]
     },
     "metadata": {},
     "output_type": "display_data"
    }
   ],
   "source": [
    "sns.lmplot(x=\"Eccentricity\", y=\"Solidity\", data=dataset, row=\"label\", col=\"new feature 3\",\n",
    "           fit_reg=False, size=3.5, scatter_kws={\"s\": 20})\n",
    "plt.show()"
   ]
  },
  {
   "cell_type": "markdown",
   "metadata": {},
   "source": [
    "If you want to draw something on a plot, like a line or a point, we use the `matplotlib` functions:"
   ]
  },
  {
   "cell_type": "code",
   "execution_count": 52,
   "metadata": {},
   "outputs": [
    {
     "data": {
      "image/png": "[encoded data removed]",
      "text/plain": [
       "<matplotlib.figure.Figure at 0xe18fe10>"
      ]
     },
     "metadata": {},
     "output_type": "display_data"
    }
   ],
   "source": [
    "sns.lmplot(x=\"Eccentricity\", y=\"Solidity\", data=dataset, hue=\"label\",\n",
    "           fit_reg=False, size=5.5, scatter_kws={\"s\": 80})\n",
    "\n",
    "x = np.arange(-3,3,0.1)\n",
    "y = -2*x+4\n",
    "\n",
    "plt.plot(x, y, color='yellow',linewidth=3)\n",
    "plt.scatter(-1,8,s=173,color='red')\n",
    "plt.show()"
   ]
  },
  {
   "cell_type": "markdown",
   "metadata": {},
   "source": [
    "To get some familiarity with these plotting tools, create a scatter plot where the $x$ axis is \"Solidity\", the $y$ axis is Eccentricity, the points are colored according to \"new feature 3\" and with a pink point at coordinates (11,0)"
   ]
  },
  {
   "cell_type": "code",
   "execution_count": 53,
   "metadata": {},
   "outputs": [
    {
     "data": {
      "image/png": "[encoded data removed]",
      "text/plain": [
       "<matplotlib.figure.Figure at 0xe40b5f8>"
      ]
     },
     "metadata": {},
     "output_type": "display_data"
    }
   ],
   "source": [
    "sns.lmplot(x=\"Solidity\", y=\"Eccentricity\", data=dataset, hue=\"new feature 3\",\n",
    "           fit_reg=False, size=5.5, scatter_kws={\"s\": 80})\n",
    "\n",
    "plt.scatter(11,0,s=173,color='pink')\n",
    "plt.show()"
   ]
  },
  {
   "cell_type": "markdown",
   "metadata": {},
   "source": [
    "To plot a continuous feature against a categorical one we can use the `factorplot()` function in `seaborn`. This function expects the `x` argument to be column containing a categorical variable, while the `y`argument should be column containing a continous argument. The `factorplot()` function has arguments `hue`, `col` and `row` to split the plot by value.\n",
    "\n",
    "Let's plot the \"Eccentricity\" column as a boxplot and split it by the values in categorical column \"label\":"
   ]
  },
  {
   "cell_type": "code",
   "execution_count": 54,
   "metadata": {},
   "outputs": [
    {
     "data": {
      "image/png": "[encoded data removed]",
      "text/plain": [
       "<matplotlib.figure.Figure at 0xe19a3c8>"
      ]
     },
     "metadata": {},
     "output_type": "display_data"
    }
   ],
   "source": [
    "sns.factorplot(kind=\"box\",x=\"label\", y=\"Eccentricity\", data=dataset)\n",
    "plt.show()"
   ]
  },
  {
   "cell_type": "markdown",
   "metadata": {},
   "source": [
    "Replace the boxplot by a violinplot and split the plot in two columns according to the \"new feature 3\" column."
   ]
  },
  {
   "cell_type": "code",
   "execution_count": 55,
   "metadata": {},
   "outputs": [
    {
     "data": {
      "image/png": "[encoded data removed]",
      "text/plain": [
       "<matplotlib.figure.Figure at 0xe421748>"
      ]
     },
     "metadata": {},
     "output_type": "display_data"
    }
   ],
   "source": [
    "sns.factorplot(kind=\"violin\",x=\"label\", y=\"Eccentricity\", data=dataset, col=\"new feature 3\")\n",
    "plt.show()"
   ]
  },
  {
   "cell_type": "markdown",
   "metadata": {},
   "source": [
    "To plot different columns on the same plot it is much more easy to use the plotting functions of the pandas package as the focus of pandas is on columns. For instance if we want to plot a boxplot for all the \"Eccentricity\" and \"Solidity\" feature in the melanoma data set we can simple do:"
   ]
  },
  {
   "cell_type": "code",
   "execution_count": 56,
   "metadata": {},
   "outputs": [
    {
     "data": {
      "image/png": "[encoded data removed]",
      "text/plain": [
       "<matplotlib.figure.Figure at 0xd7363c8>"
      ]
     },
     "metadata": {},
     "output_type": "display_data"
    }
   ],
   "source": [
    "dataset[[\"Eccentricity\",\"Solidity\"]].boxplot(flierprops=dict(marker='o', markersize=5))\n",
    "plt.show()"
   ]
  },
  {
   "cell_type": "markdown",
   "metadata": {},
   "source": [
    "We have some possibilitis for customization with these plots, for instance, if you prefer the boxplots to be horizontal rather than vertical:"
   ]
  },
  {
   "cell_type": "code",
   "execution_count": 57,
   "metadata": {},
   "outputs": [
    {
     "data": {
      "image/png": "[encoded data removed]",
      "text/plain": [
       "<matplotlib.figure.Figure at 0xd73fda0>"
      ]
     },
     "metadata": {},
     "output_type": "display_data"
    }
   ],
   "source": [
    "dataset[[\"Eccentricity\",\"Solidity\"]].boxplot(vert=False,flierprops=dict(marker='o', markersize=5))\n",
    "plt.show()"
   ]
  },
  {
   "cell_type": "markdown",
   "metadata": {},
   "source": [
    "Another example is the `plot()` function of a pandas dataframe. It will plot all the columns in a dataframe as a line on a scatter plot where the y-axis represents the column values and the x-axis represents the row numbers. Here we plot the columns \"Eccentricity\" en \"Solidity\" using `plot()`:"
   ]
  },
  {
   "cell_type": "code",
   "execution_count": 58,
   "metadata": {},
   "outputs": [
    {
     "data": {
      "image/png": "[encoded data removed]",
      "text/plain": [
       "<matplotlib.figure.Figure at 0xe060d30>"
      ]
     },
     "metadata": {},
     "output_type": "display_data"
    }
   ],
   "source": [
    "dataset[[\"Eccentricity\",\"Solidity\"]].plot()\n",
    "plt.show()"
   ]
  },
  {
   "cell_type": "markdown",
   "metadata": {},
   "source": [
    "Load the data set \"heart.csv\" [1] in a variable called `heart_data`."
   ]
  },
  {
   "cell_type": "code",
   "execution_count": 59,
   "metadata": {
    "collapsed": true
   },
   "outputs": [],
   "source": [
    "heart_data = pd.read_csv(\"heart.csv\",sep=\" \")"
   ]
  },
  {
   "cell_type": "markdown",
   "metadata": {},
   "source": [
    "This data set contains 270 patients described by 13 features and annotated as '2' if the patient suffers from heart disease and '1' if not. \n",
    "\n",
    "The features are:\n",
    "\n",
    "1. age       \n",
    "2. sex       \n",
    "3. chest pain type  (4 values)       \n",
    "4. resting blood pressure  \n",
    "5. serum cholestoral in mg/dl      \n",
    "6. fasting blood sugar > 120 mg/dl       \n",
    "7. resting electrocardiographic results  (values 0,1,2) \n",
    "8. maximum heart rate achieved  \n",
    "9. exercise induced angina    \n",
    "10. oldpeak = ST depression induced by exercise relative to rest   \n",
    "11. the slope of the peak exercise ST segment     \n",
    "12. number of major vessels (0-3) colored by flourosopy        \n",
    "13.  thal: 3 = normal; 6 = fixed defect; 7 = reversable defect    "
   ]
  },
  {
   "cell_type": "markdown",
   "metadata": {},
   "source": [
    "Plot a boxplot of feature 8 and split it by label, feature 3 and feature 6."
   ]
  },
  {
   "cell_type": "code",
   "execution_count": 60,
   "metadata": {},
   "outputs": [
    {
     "data": {
      "image/png": "[encoded data removed]",
      "text/plain": [
       "<matplotlib.figure.Figure at 0xdfae048>"
      ]
     },
     "metadata": {},
     "output_type": "display_data"
    }
   ],
   "source": [
    "sns.factorplot(kind=\"box\",x=\"label\",y=\"heart_rate\",data=heart_data,col=\"blood_sugar\",row=\"chest_pain\")\n",
    "plt.show()"
   ]
  },
  {
   "cell_type": "markdown",
   "metadata": {},
   "source": [
    "Now check the relationship between features 4 and 8. Is this relationship different for different sexes?"
   ]
  },
  {
   "cell_type": "code",
   "execution_count": 61,
   "metadata": {},
   "outputs": [
    {
     "data": {
      "image/png": "[encoded data removed]",
      "text/plain": [
       "<matplotlib.figure.Figure at 0xdd198d0>"
      ]
     },
     "metadata": {},
     "output_type": "display_data"
    }
   ],
   "source": [
    "sns.lmplot(x=\"blood_pressure\", y=\"heart_rate\", data=heart_data, hue=\"label\", col='sex',\n",
    "           fit_reg=False, size=5.5, scatter_kws={\"s\": 80})\n",
    "plt.show()"
   ]
  },
  {
   "cell_type": "markdown",
   "metadata": {},
   "source": [
    "> [1] Detrano, R., Janosi, A., Steinbrunn, W., Pfisterer, M., Schmid, J., Sandhu, S., Guppy, K., Lee, S., & Froelicher, V. (1989). International application of a new probability algorithm for the diagnosis of coronary artery disease. American Journal of Cardiology, 64,304--310. "
   ]
  }
 ],
 "metadata": {
  "kernelspec": {
   "display_name": "Python 2",
   "language": "python",
   "name": "python2"
  },
  "language_info": {
   "codemirror_mode": {
    "name": "ipython",
    "version": 2
   },
   "file_extension": ".py",
   "mimetype": "text/x-python",
   "name": "python",
   "nbconvert_exporter": "python",
   "pygments_lexer": "ipython2",
   "version": "2.7.14"
  }
 },
 "nbformat": 4,
 "nbformat_minor": 1
}
