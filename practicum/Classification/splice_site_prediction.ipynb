{
  "nbformat": 4,
  "nbformat_minor": 0,
  "metadata": {
    "kernelspec": {
      "display_name": "Python 3",
      "language": "python",
      "name": "python3"
    },
    "language_info": {
      "codemirror_mode": {
        "name": "ipython",
        "version": 3
      },
      "file_extension": ".py",
      "mimetype": "text/x-python",
      "name": "python",
      "nbconvert_exporter": "python",
      "pygments_lexer": "ipython3",
      "version": "3.7.3"
    },
    "colab": {
      "name": "2.1._Classification_solutions.ipynb",
      "provenance": []
    }
  },
  "cells": [
    {
      "cell_type": "markdown",
      "metadata": {
        "id": "VO24y4Jju21u",
        "colab_type": "text"
      },
      "source": [
        "# Splice site prediction"
      ]
    },
    {
      "cell_type": "markdown",
      "metadata": {
        "id": "ZhcU9Uucu21v",
        "colab_type": "text"
      },
      "source": [
        "Most eukaryotic genes undergo intron splicing events. These happen at the level of mRNA, after transcription and before translation. Pre-mRNA consists of exons, which are the proteincoding regions, and introns, which are the intervening sections in between. As a base rule, the spliceosome cuts out introns, retaining the consecutive exons to form mature mRNA. This mature mRNA is then translated to protein.\n",
        "\n",
        "In this practical you will build a classification model for gene splice site prediction from DNA sequences. The vast majority of splice sites are characterized by the presence of specific dimers on the intronic side of the splice site: \"GT\" for donor and \"AG\" for acceptor sites. Yet, only about 0.1-1% of all \"GT\" and \"AG\" occurrences in the genome represent true splice sites. \n",
        "\n",
        "We will focus on acceptor site prediction. You are given the following data set:"
      ]
    },
    {
      "cell_type": "code",
      "metadata": {
        "id": "xrdBiQtAu21v",
        "colab_type": "code",
        "colab": {}
      },
      "source": [
        "import pandas as pd\n",
        "\n",
        "data = pd.read_csv(\"https://raw.githubusercontent.com/sdgroeve/Machine_Learning_course_UGent_D012554_data/master/practicum/Classification/acceptor_sites_dataset_train.csv\")"
      ],
      "execution_count": 0,
      "outputs": []
    },
    {
      "cell_type": "code",
      "metadata": {
        "id": "_lJt4Vopu212",
        "colab_type": "code",
        "colab": {}
      },
      "source": [
        "data.head(5)"
      ],
      "execution_count": 0,
      "outputs": []
    },
    {
      "cell_type": "markdown",
      "metadata": {
        "id": "rXgIExxtu216",
        "colab_type": "text"
      },
      "source": [
        "There are only two columns. The column \"sequence\" contains a local DNA context sequence that surrounds a candidate acceptor site (nucleotides at positions 11 and 12 in the sequence are always \"A\" and \"G\" respectively), so these positions are candidate gene acceptor sites. The column \"label\" indicates the class: 1 for \"is acceptor site\" and -1 for \"is not acceptor site\". The goal is to predict the target from the local context sequence of the candidate acceptor site. \n",
        "\n",
        "*How many sequences does the dataset contain for each class?*"
      ]
    },
    {
      "cell_type": "code",
      "metadata": {
        "id": "PYhNkKz3u217",
        "colab_type": "code",
        "colab": {}
      },
      "source": [
        "###Start code here\n",
        "\n",
        "###End code here"
      ],
      "execution_count": 0,
      "outputs": []
    },
    {
      "cell_type": "markdown",
      "metadata": {
        "id": "teweqTUhu21_",
        "colab_type": "text"
      },
      "source": [
        "Next, useful features need to be computed from the DNA sequences, a process known as **feature engineering**. \n",
        "\n",
        "The Pandas `.apply()` method allows us the process the values in a DataFrame column to create a new column. We will apply this function to compute feature vectors from the `sequence` column in the `data` DataFrame.  \n",
        "\n",
        "The \"AG\" in the middle of each context sequence is the same for both classes, i.e. it does not provide any discriminative information. So, We shouldn't compute features from the middle AG dinculeotide in the local context sequence.\n",
        "\n",
        "*Use the Pandas DataFrame `.apply()` method to remove the middle \"AG\" dinucleotides in the DNA sequences:*"
      ]
    },
    {
      "cell_type": "code",
      "metadata": {
        "id": "k8ThMz7Su22A",
        "colab_type": "code",
        "colab": {}
      },
      "source": [
        "print(data.head())\n",
        "\n",
        "###Start code here\n",
        "\n",
        "###End code here\n",
        "\n",
        "data[\"sequence\"] = data[\"sequence\"].apply(remove_AG)\n",
        "print(data.head())"
      ],
      "execution_count": 0,
      "outputs": []
    },
    {
      "cell_type": "markdown",
      "metadata": {
        "id": "SZkQumNiu22E",
        "colab_type": "text"
      },
      "source": [
        "A trivial feature vector representation would be to replace each amino acid with a number, making the Machine Learning aware about each amino acid at each position in the DNA context sequence. The following method maps a DNA sequence `x`to a Python list with a number for each amino acid:"
      ]
    },
    {
      "cell_type": "code",
      "metadata": {
        "id": "AA5jYH1su22F",
        "colab_type": "code",
        "colab": {}
      },
      "source": [
        "def DNA_int_encoding(x):\n",
        "    encoding = []\n",
        "    for nuc in x:\n",
        "        if nuc == 'A':\n",
        "            encoding.append(0)\n",
        "        elif nuc == 'C':\n",
        "            encoding.append(1)\n",
        "        elif nuc == 'G':\n",
        "            encoding.append(2)\n",
        "        elif nuc == 'T':\n",
        "            encoding.append(3)\n",
        "        else:\n",
        "            print(\"Found non-nucleotide in %s\"%x)\n",
        "    return encoding"
      ],
      "execution_count": 0,
      "outputs": []
    },
    {
      "cell_type": "markdown",
      "metadata": {
        "id": "0MJXJBj0u22I",
        "colab_type": "text"
      },
      "source": [
        "*Apply this function on the `sequence` column in the `data` DataFrame to create a Series with feature vectors (write the resulting feature vectors to a variable called `data_features_int_encoding`:*"
      ]
    },
    {
      "cell_type": "code",
      "metadata": {
        "id": "nFRdEtCeu22J",
        "colab_type": "code",
        "colab": {}
      },
      "source": [
        "###Start code here\n",
        "data_features_int_encoding = \n",
        "###End code here\n",
        "\n",
        "data_features_int_encoding.head()"
      ],
      "execution_count": 0,
      "outputs": []
    },
    {
      "cell_type": "markdown",
      "metadata": {
        "id": "HVDjAmKZu22P",
        "colab_type": "text"
      },
      "source": [
        "Next we put these feature vectors back in a Pandas DataFrame as follows:"
      ]
    },
    {
      "cell_type": "code",
      "metadata": {
        "id": "ztKXm9yYu22Q",
        "colab_type": "code",
        "colab": {}
      },
      "source": [
        "data_features_int_encoding = pd.DataFrame(data_features_int_encoding.tolist())\n",
        "\n",
        "data_features_int_encoding.head()"
      ],
      "execution_count": 0,
      "outputs": []
    },
    {
      "cell_type": "markdown",
      "metadata": {
        "id": "0573K2rRu22W",
        "colab_type": "text"
      },
      "source": [
        "Evaluate the generalization performance of a logisitc regression model with hyperparameters $C=0.1$ on the data set `data_features_int_encoding` using 10-fold cross-validation. \n",
        "\n",
        "*Apply the `cross_val_score()` function to compute an accuracy score for each fold in the CV:*"
      ]
    },
    {
      "cell_type": "code",
      "metadata": {
        "id": "jc7J8SrIu22X",
        "colab_type": "code",
        "colab": {}
      },
      "source": [
        "from sklearn.linear_model import LogisticRegression\n",
        "from sklearn.model_selection import cross_val_score\n",
        "import numpy as np\n",
        "\n",
        "###Start code here\n",
        "model = \n",
        "scores = \n",
        "###Start code here\n",
        "\n",
        "print(np.mean(scores))"
      ],
      "execution_count": 0,
      "outputs": []
    },
    {
      "cell_type": "markdown",
      "metadata": {
        "id": "0olCEtYau22e",
        "colab_type": "text"
      },
      "source": [
        "Next we load an independent test set:"
      ]
    },
    {
      "cell_type": "code",
      "metadata": {
        "id": "rv_NJz5Uu22g",
        "colab_type": "code",
        "colab": {}
      },
      "source": [
        "data_test = pd.read_csv(\"https://raw.githubusercontent.com/sdgroeve/Machine_Learning_course_UGent_D012554_data/master/practicum/Classification/acceptor_sites_dataset_test.csv\")"
      ],
      "execution_count": 0,
      "outputs": []
    },
    {
      "cell_type": "markdown",
      "metadata": {
        "id": "Dj9SshLnu22l",
        "colab_type": "text"
      },
      "source": [
        "*Compute the feature vectors for the test set:*"
      ]
    },
    {
      "cell_type": "code",
      "metadata": {
        "id": "NtuUX8K8u22m",
        "colab_type": "code",
        "colab": {}
      },
      "source": [
        "###Start code here (try to use just one line of code)\n",
        "data_test_features_int_encoding = \n",
        "###Start code here"
      ],
      "execution_count": 0,
      "outputs": []
    },
    {
      "cell_type": "markdown",
      "metadata": {
        "id": "z9SWqTScu22u",
        "colab_type": "text"
      },
      "source": [
        "*Fit a logistic regression model on the train set.*"
      ]
    },
    {
      "cell_type": "code",
      "metadata": {
        "id": "gHuDj5xsu22v",
        "colab_type": "code",
        "colab": {}
      },
      "source": [
        "###Start code here\n",
        "\n",
        "###End code here"
      ],
      "execution_count": 0,
      "outputs": []
    },
    {
      "cell_type": "markdown",
      "metadata": {
        "id": "j_gu0seZu221",
        "colab_type": "text"
      },
      "source": [
        "*Make model predictions for the test set.*"
      ]
    },
    {
      "cell_type": "code",
      "metadata": {
        "id": "BzX1UJqlu222",
        "colab_type": "code",
        "colab": {}
      },
      "source": [
        "###Start code here\n",
        "predictions = \n",
        "###End code here"
      ],
      "execution_count": 0,
      "outputs": []
    },
    {
      "cell_type": "markdown",
      "metadata": {
        "id": "mNIux5gFu227",
        "colab_type": "text"
      },
      "source": [
        "Scikit-learn offers many metrics to evaluate model predictions. These functions are contained in the `metrics` module of `sklearn`. \n",
        "\n",
        "*Can you find how to compute the accuracy of these predictions (use the `metrics`module)?*"
      ]
    },
    {
      "cell_type": "code",
      "metadata": {
        "id": "TTFGB05gu228",
        "colab_type": "code",
        "colab": {}
      },
      "source": [
        "from sklearn import metrics\n",
        "\n",
        "###Start code here\n",
        "score_acc = \n",
        "###End code here\n",
        "\n",
        "print(score_acc)"
      ],
      "execution_count": 0,
      "outputs": []
    },
    {
      "cell_type": "markdown",
      "metadata": {
        "id": "BPu8YDA2u23D",
        "colab_type": "text"
      },
      "source": [
        "An accuracy above 90% seems like a good score. But is it? Let's consider a model that predicts class \"-1\" for all test points."
      ]
    },
    {
      "cell_type": "code",
      "metadata": {
        "id": "5kV1yMLOu23E",
        "colab_type": "code",
        "colab": {}
      },
      "source": [
        "predictions_zero = [-1]*len(data_test.label)"
      ],
      "execution_count": 0,
      "outputs": []
    },
    {
      "cell_type": "markdown",
      "metadata": {
        "id": "efNP_I-Ju23I",
        "colab_type": "text"
      },
      "source": [
        "*What is the accuracy of these predictions?*"
      ]
    },
    {
      "cell_type": "code",
      "metadata": {
        "id": "fmdBsSaou23K",
        "colab_type": "code",
        "colab": {}
      },
      "source": [
        "###Start code here\n",
        "score_acc = \n",
        "###End code here\n",
        "\n",
        "print(score_acc)"
      ],
      "execution_count": 0,
      "outputs": []
    },
    {
      "cell_type": "markdown",
      "metadata": {
        "id": "0lZ3nJUPu23P",
        "colab_type": "text"
      },
      "source": [
        "So this should be a good score as well, even though we did not learn anything.\n",
        "\n",
        "For classification tasks where the classes are highly imbalanced accuracy is not a good metric to evaluate the generalization performance. In fact, if there are 0.1% \"AG\" dinucleotides in a genome that are true acceptor sites then a model that predicts class \"-1\" for each \"AG\" would have an accuracy of 99.9%.\n",
        "\n",
        "We have seen how a ROC curve plots the true positives rate against the false positives rate. Both these metrics focus on the positive class, in our case the true acceptor sites. These metrics are much more suitable to evalute the performance of models on tasks with highly imbalanced classes. To transform a ROC curve into one metric we can use the area under the curve (AUC). \n",
        "\n",
        "*What is the AUC score of the predictions computed by the linear regression model we fitted?*"
      ]
    },
    {
      "cell_type": "code",
      "metadata": {
        "id": "nTjM_o7Iu23Q",
        "colab_type": "code",
        "colab": {}
      },
      "source": [
        "###Start code here\n",
        "score_auc = \n",
        "###End code here\n",
        "\n",
        "print(score_acc)"
      ],
      "execution_count": 0,
      "outputs": []
    },
    {
      "cell_type": "markdown",
      "metadata": {
        "id": "JbuR3_0Uu23V",
        "colab_type": "text"
      },
      "source": [
        "You should see a negative value. This is because to compute the AUC we need the predictions to be scores (a continuous value) rather than class labels (discrete values). \n",
        "\n",
        "For logistic regression these scores are the class probabilities predicted by the model. We can obtain them using the `predict_proba()` function of the `LogisticRegression` module as follows:"
      ]
    },
    {
      "cell_type": "code",
      "metadata": {
        "id": "xMT2X0i7u23W",
        "colab_type": "code",
        "colab": {}
      },
      "source": [
        "predictions = model.predict_proba(data_test_features_int_encoding)\n",
        "\n",
        "print(predictions)"
      ],
      "execution_count": 0,
      "outputs": []
    },
    {
      "cell_type": "markdown",
      "metadata": {
        "id": "ecMykZJcu23h",
        "colab_type": "text"
      },
      "source": [
        "The first and second column contain the predicted probabilities for class '-1' and '1' respectively. To compute the AUC we need to use the positive class probabilities. \n",
        "\n",
        "*What is the AUC now?*"
      ]
    },
    {
      "cell_type": "code",
      "metadata": {
        "id": "k7Zj60JBu23i",
        "colab_type": "code",
        "colab": {}
      },
      "source": [
        "###Start code here\n",
        "score_auc = \n",
        "###End code here\n",
        "\n",
        "print(score_auc)"
      ],
      "execution_count": 0,
      "outputs": []
    },
    {
      "cell_type": "markdown",
      "metadata": {
        "id": "EudhUPu-u23o",
        "colab_type": "text"
      },
      "source": [
        "Is this good generalization performance?\n",
        "\n",
        "Transforming categorical features into ordered integers is maybe not a good idea as the nucleotides don't have any ordering. It is better to transform a categorical feature into one binary feature for each category (known as *one-hot* encoding). \n",
        "\n",
        "We can do this with the following function that again computes feature vectors:"
      ]
    },
    {
      "cell_type": "code",
      "metadata": {
        "id": "q62ik5Gyu23p",
        "colab_type": "code",
        "colab": {}
      },
      "source": [
        "def DNA_onehot_encoding(x):\n",
        "    encoding = []\n",
        "    for nuc in x:\n",
        "        if nuc == 'A':\n",
        "            encoding.extend([1,0,0,0])\n",
        "        elif nuc == 'C':\n",
        "            encoding.extend([0,1,0,0])\n",
        "        elif nuc == 'G':\n",
        "            encoding.extend([0,0,1,0])\n",
        "        elif nuc == 'T':\n",
        "            encoding.extend([0,0,0,1])\n",
        "        else:\n",
        "            encoding.extend([0,0,0,0])\n",
        "    return encoding"
      ],
      "execution_count": 0,
      "outputs": []
    },
    {
      "cell_type": "markdown",
      "metadata": {
        "id": "Ufn2ity1u23y",
        "colab_type": "text"
      },
      "source": [
        "*Create a Pandas DataFrame called `data_features_onehot_encoding` that contains the one-hot encoded features.*"
      ]
    },
    {
      "cell_type": "code",
      "metadata": {
        "id": "d61H88bFu23z",
        "colab_type": "code",
        "colab": {}
      },
      "source": [
        "###Start code here\n",
        "data_features_onehot_encoding = \n",
        "###End code here\n",
        "\n",
        "data_features_onehot_encoding.head()"
      ],
      "execution_count": 0,
      "outputs": []
    },
    {
      "cell_type": "markdown",
      "metadata": {
        "id": "RJgd7t3T7x2j",
        "colab_type": "text"
      },
      "source": [
        "Now let's add interpretable feature names:"
      ]
    },
    {
      "cell_type": "code",
      "metadata": {
        "id": "7Nszf4267siU",
        "colab_type": "code",
        "colab": {}
      },
      "source": [
        "columns = []\n",
        "for i in range(-10,0,1):\n",
        "    for nuc in ['A','C','G','T']:\n",
        "        columns.append(\"%i_%s\"%(i,nuc))\n",
        "for i in range(1,11,1):\n",
        "    for nuc in ['A','C','G','T']:\n",
        "        columns.append(\"%i_%s\"%(i,nuc))       \n",
        "data_features_onehot_encoding.columns = columns\n",
        "data_features_onehot_encoding.head()"
      ],
      "execution_count": 0,
      "outputs": []
    },
    {
      "cell_type": "markdown",
      "metadata": {
        "id": "vfAOG8SBu24E",
        "colab_type": "text"
      },
      "source": [
        "Evaluate the generalization performance of a logisitc regression model with hyperparameters $C=0.1$ on the data set `data_features_onehot_encoding` using 10-fold cross-validation. \n",
        "The `cross_val_score()` has a function parameter called `scoring` that allows you to set different scoring metrics.\n",
        "\n",
        "*Use the `cross_val_score()` function to compute the mean AUC of the CV-scores.* \n"
      ]
    },
    {
      "cell_type": "code",
      "metadata": {
        "id": "bq2cZVNSu24F",
        "colab_type": "code",
        "colab": {}
      },
      "source": [
        "model = LogisticRegression(C=0.1)\n",
        "\n",
        "###Start code here\n",
        "score_acc = \n",
        "###End code here\n",
        "\n",
        "print(score_auc)"
      ],
      "execution_count": 0,
      "outputs": []
    },
    {
      "cell_type": "markdown",
      "metadata": {
        "id": "Vqh-I3zuu24L",
        "colab_type": "text"
      },
      "source": [
        "*What is the AUC on `data_test`?*"
      ]
    },
    {
      "cell_type": "code",
      "metadata": {
        "id": "GeCkxuubu24M",
        "colab_type": "code",
        "colab": {}
      },
      "source": [
        "###Start code here\n",
        "\n",
        "###Start code here\n",
        "\n",
        "print(score_acc)"
      ],
      "execution_count": 0,
      "outputs": []
    },
    {
      "cell_type": "markdown",
      "metadata": {
        "id": "2w-jdU-gu24Q",
        "colab_type": "text"
      },
      "source": [
        "Is this close to what your CV is telling you?\n",
        "\n",
        "We have used hyperparameter $C=0.1$ for the logistic regression model. \n",
        "\n",
        "*Is there a better value for this regularization parameter (use `GridSearchCV`)?*"
      ]
    },
    {
      "cell_type": "code",
      "metadata": {
        "id": "B63LA0zwu24S",
        "colab_type": "code",
        "colab": {}
      },
      "source": [
        "from sklearn.model_selection import GridSearchCV\n",
        "\n",
        "search_space = [0.001,0.01,0.1,1,10,100]\n",
        "\n",
        "###Start code here\n",
        "\n",
        "params = \n",
        "grid_search = \n",
        "\n",
        "###End code here\n",
        "\n",
        "print(grid_search.best_estimator_)"
      ],
      "execution_count": 0,
      "outputs": []
    },
    {
      "cell_type": "markdown",
      "metadata": {
        "id": "SjoFP1_bu24W",
        "colab_type": "text"
      },
      "source": [
        "*What is the 10-CV AUC performance with this value for $C$?*"
      ]
    },
    {
      "cell_type": "code",
      "metadata": {
        "id": "hWxVj0hRu24X",
        "colab_type": "code",
        "colab": {}
      },
      "source": [
        "###Start code here\n",
        "\n",
        "###Start code here\n",
        "\n",
        "print(score_auc)"
      ],
      "execution_count": 0,
      "outputs": []
    },
    {
      "cell_type": "markdown",
      "metadata": {
        "id": "Ytpwmh2wu24c",
        "colab_type": "text"
      },
      "source": [
        "*What is the AUC performance on the test set for this value of $C$?*"
      ]
    },
    {
      "cell_type": "code",
      "metadata": {
        "id": "k5906bHvu24d",
        "colab_type": "code",
        "colab": {}
      },
      "source": [
        "###Start code here\n",
        "\n",
        "###End code here\n",
        "\n",
        "print(score_auc)"
      ],
      "execution_count": 0,
      "outputs": []
    },
    {
      "cell_type": "markdown",
      "metadata": {
        "collapsed": true,
        "id": "wRe1CLnUu24l",
        "colab_type": "text"
      },
      "source": [
        "Is this closer to the AUC you computed using 10-CV?\n",
        "\n",
        "Let's see how the model is making predictions (what patterns it extracted). In scikit-learn a fitted model has its modelparameters stored in `.coef_[0]`:"
      ]
    },
    {
      "cell_type": "code",
      "metadata": {
        "id": "8f-NBEUt4AjE",
        "colab_type": "code",
        "colab": {}
      },
      "source": [
        "print(model.coef_[0])"
      ],
      "execution_count": 0,
      "outputs": []
    },
    {
      "cell_type": "markdown",
      "metadata": {
        "id": "wdPAICuc4NWT",
        "colab_type": "text"
      },
      "source": [
        "For logistic regression this is one modelparameter for each feature (plus the interecept, which is not in `.coef_[0]`). \n",
        "\n",
        "Recall that for logistic regression a prediction is made by multiplying each fitted modelparameter with the corresponding feature, summing them and then squeezing this sum between 0 and 1 through the logistic function. Since all features have values 0 or 1 the modelparameter values indicate the importance of a feature during prediction.\n",
        "\n",
        "For plotting we will put the feature names and modelparameter values in a new DataFrame:"
      ]
    },
    {
      "cell_type": "code",
      "metadata": {
        "id": "1Mnte18-u242",
        "colab_type": "code",
        "colab": {}
      },
      "source": [
        "F_importances = []\n",
        "for feature_name, modelparameter in zip(data_features_onehot_encoding.columns,model.coef_[0]):\n",
        "    F_importances.append([feature_name,modelparameter])\n",
        "F_importances = pd.DataFrame(F_importances,columns=[\"feature_name\",\"importance\"])\n",
        "F_importances.head()    "
      ],
      "execution_count": 0,
      "outputs": []
    },
    {
      "cell_type": "markdown",
      "metadata": {
        "id": "8SwWB_xQ8w8g",
        "colab_type": "text"
      },
      "source": [
        "*Use the Seaborn `.barplot()` method to plot this DataFrame:*"
      ]
    },
    {
      "cell_type": "code",
      "metadata": {
        "id": "s_thWFCY894M",
        "colab_type": "code",
        "colab": {}
      },
      "source": [
        "%matplotlib inline\n",
        "import matplotlib.pyplot as plt\n",
        "import seaborn as sns\n",
        "\n",
        "plt.figure(figsize=(18,8))\n",
        "\n",
        "###Start code here\n",
        "chart = sns.\n",
        "###End code here\n",
        "\n",
        "chart.set_xticklabels(chart.get_xticklabels(), rotation=90, horizontalalignment='right')\n",
        "plt.show()"
      ],
      "execution_count": 0,
      "outputs": []
    },
    {
      "cell_type": "markdown",
      "metadata": {
        "id": "z0N9sbu79xoi",
        "colab_type": "text"
      },
      "source": [
        "*Create a plot that looks like this:*\n",
        "\n",
        "![plot](https://raw.githubusercontent.com/sdgroeve/Machine_Learning_course_UGent_D012554_data/master/practicum/Classification/AG_plot.png)"
      ]
    },
    {
      "cell_type": "code",
      "metadata": {
        "id": "sY3hRKQPS8XE",
        "colab_type": "code",
        "colab": {}
      },
      "source": [
        "###Start code here\n",
        "\n",
        "###End code here"
      ],
      "execution_count": 0,
      "outputs": []
    }
  ]
}