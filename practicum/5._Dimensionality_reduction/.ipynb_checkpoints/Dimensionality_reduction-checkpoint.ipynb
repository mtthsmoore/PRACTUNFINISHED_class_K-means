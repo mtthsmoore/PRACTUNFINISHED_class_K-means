{
 "cells": [
  {
   "cell_type": "code",
   "execution_count": null,
   "metadata": {},
   "outputs": [],
   "source": [
    "import imp\n",
    "compomics_import = imp.load_source('compomics_import', '../../compomics_import.py')\n",
    "from IPython.core.display import HTML\n",
    "css_file = '../../my.css'\n",
    "HTML(open(css_file, \"r\").read())"
   ]
  },
  {
   "cell_type": "markdown",
   "metadata": {},
   "source": [
    "# Dimensionality reduction"
   ]
  },
  {
   "cell_type": "markdown",
   "metadata": {},
   "source": [
    "Despite much progress in recent centuries, infectious disease continues to be one of humanity's most persistent problems. To understand and ultimately contain infectious diseases, it is helpful to understand how the human immune system responds to them, especially at the cellular and molecular level.\n",
    "\n",
    "In a recent study a cohort of 16 healthy human volunteers received intranasal inoculation of influenza H3N2/Wisconsin and 9 of these subjects developed mild to severe symptoms based on standardized symptom scoring [1]. In the week following inoculation, the patient's blood was drawn every 8 hours for microarray analysis. The resulting dataset contains 268 samples: 16 patients and about 17 samples from each patient. Patients were classified as \"asymptomatic\" if the Jackson score (which is a symptom score that indicates actual infection) was less than 6 over the first five days of observation and viral shedding was not documented after the first 24 hours subsequent to inoculation. The other patients were labeled \"symptomatic\".\n",
    "\n",
    "I this practical session we will analyse this data set unsupervised. We will chart the course of flu infection and try to identify genes that are involved.\n",
    "\n",
    "> [1] Huang, Yongsheng, et al. Temporal dynamics of host molecular responses differentiate symptomatic and asymptomatic influenza A infection. PLoS genetics 7.8 (2011).\n",
    "\n",
    "Let's start by loading the data."
   ]
  },
  {
   "cell_type": "code",
   "execution_count": null,
   "metadata": {},
   "outputs": [],
   "source": [
    "import pandas as pd\n",
    "\n",
    "data = pd.read_csv(\"flu.csv\")"
   ]
  },
  {
   "cell_type": "code",
   "execution_count": null,
   "metadata": {},
   "outputs": [],
   "source": [
    "data.head(5)"
   ]
  },
  {
   "cell_type": "markdown",
   "metadata": {},
   "source": [
    "The microarray used in this study measures 11959 gene expression values. There are three more columns in the data set:\n",
    "\n",
    "- 'subject': identifies the volunteer\n",
    "- 'type': the symptom annotation\n",
    "- 'time': the timepoint of the microarray measurement\n",
    "\n",
    "Plot a boxplot of the first 100 genes."
   ]
  },
  {
   "cell_type": "code",
   "execution_count": null,
   "metadata": {},
   "outputs": [],
   "source": []
  },
  {
   "cell_type": "markdown",
   "metadata": {},
   "source": [
    "We will be using PCA to analyze this data set. Should we normalize this data set?\n",
    "\n",
    "Let's plot a heatmap of some of the genes for subject 2. "
   ]
  },
  {
   "cell_type": "code",
   "execution_count": null,
   "metadata": {},
   "outputs": [],
   "source": [
    "import seaborn as sns\n",
    "\n",
    "plt.figure(figsize=(16,4))\n",
    "sns.heatmap(data[data.subject==2].iloc[:,200:500],square=False,xticklabels=False,yticklabels=range(0,128,8))\n",
    "plt.show()"
   ]
  },
  {
   "cell_type": "markdown",
   "metadata": {},
   "source": [
    "In this heatmap the genes are on the x-axis, the time (in hours) is on the y-axis. The color levels indicate the expression measurements of the genes. Do you see something interesting? Yes? Good then you understand the plot. Now make the exact same plot for subject 1."
   ]
  },
  {
   "cell_type": "code",
   "execution_count": null,
   "metadata": {},
   "outputs": [],
   "source": []
  },
  {
   "cell_type": "markdown",
   "metadata": {},
   "source": [
    "Do you see a strange measurement? Maybe an outlier?\n",
    "\n",
    "Pop the column 'subject' in a variable called `subjects`. Pop the column 'type' in a variable called`types`. Pop the column 'time' in a variable called `times`. "
   ]
  },
  {
   "cell_type": "code",
   "execution_count": null,
   "metadata": {},
   "outputs": [],
   "source": []
  },
  {
   "cell_type": "markdown",
   "metadata": {},
   "source": [
    "If we apply PCA on the data set `data` to reduce the 11959 genes (the features), how many principle components do we require to explain at least 80% of the data? Check the scikit-learn webpage for help on how to obtain the explained variance ratio in the PCA module. "
   ]
  },
  {
   "cell_type": "code",
   "execution_count": null,
   "metadata": {},
   "outputs": [],
   "source": []
  },
  {
   "cell_type": "markdown",
   "metadata": {},
   "source": [
    "Reduce the number genes to just two and store these principle components in a pandas dataframe called `data_projected`. "
   ]
  },
  {
   "cell_type": "code",
   "execution_count": null,
   "metadata": {},
   "outputs": [],
   "source": []
  },
  {
   "cell_type": "markdown",
   "metadata": {},
   "source": [
    "How much of the variance do these 2 explain?"
   ]
  },
  {
   "cell_type": "code",
   "execution_count": null,
   "metadata": {},
   "outputs": [],
   "source": []
  },
  {
   "cell_type": "markdown",
   "metadata": {},
   "source": [
    "Add the variables `subjects`, `types` and `times` as columns to dataframe `data_projected`."
   ]
  },
  {
   "cell_type": "code",
   "execution_count": null,
   "metadata": {},
   "outputs": [],
   "source": []
  },
  {
   "cell_type": "markdown",
   "metadata": {},
   "source": [
    "Use the seaborn `lmplot()` function to plot the 2 principle components."
   ]
  },
  {
   "cell_type": "code",
   "execution_count": null,
   "metadata": {},
   "outputs": [],
   "source": []
  },
  {
   "cell_type": "markdown",
   "metadata": {},
   "source": [
    "Make the same plot but split it by 'type'."
   ]
  },
  {
   "cell_type": "code",
   "execution_count": null,
   "metadata": {},
   "outputs": [],
   "source": []
  },
  {
   "cell_type": "markdown",
   "metadata": {},
   "source": [
    "What do you see?\n",
    "\n",
    "Color the microarray measurements by 'subject'."
   ]
  },
  {
   "cell_type": "code",
   "execution_count": null,
   "metadata": {},
   "outputs": [],
   "source": []
  },
  {
   "cell_type": "markdown",
   "metadata": {},
   "source": [
    "Do the volunteers cluster together? \n",
    "\n",
    "The first 2 principle components can separate many of the symptomatic subjects from the asymptomatic ones. However, not all of them. \n",
    "\n",
    "Let's take a look at what we have found. We could say that we reduced the 11959 genes to just two genes, maybe we can call them eigengenes. These 2 eigengenes explain most of the variation observed over all subjects and time points. However, they will be orthogonal to each other. This means the behavior of the 2 eigengenes should be very different.\n",
    "\n",
    "Use the seaborn function `factorplot()` to plot the data set `data_projected` as a pointplot with on the x-axis column 'time' and on the y-axis the values for the first eigengene. Color the eigengene by column 'subject' and spit the plot by column 'type'."
   ]
  },
  {
   "cell_type": "code",
   "execution_count": null,
   "metadata": {},
   "outputs": [],
   "source": []
  },
  {
   "cell_type": "markdown",
   "metadata": {},
   "source": [
    "What do you see? \n",
    "\n",
    "Do the same for the second eigengene."
   ]
  },
  {
   "cell_type": "code",
   "execution_count": null,
   "metadata": {},
   "outputs": [],
   "source": []
  },
  {
   "cell_type": "markdown",
   "metadata": {},
   "source": [
    "What do you see?\n",
    "\n",
    "Now create the same plot for the first eigengene but remove the coloring by column 'subject'.This will create a sumary plot where each point is the mean value for the first eigengene over all volunteers. The error bars estimate the variation between the volunteers."
   ]
  },
  {
   "cell_type": "code",
   "execution_count": null,
   "metadata": {},
   "outputs": [],
   "source": []
  },
  {
   "cell_type": "markdown",
   "metadata": {},
   "source": [
    "Do the same for the second eigengene."
   ]
  },
  {
   "cell_type": "code",
   "execution_count": null,
   "metadata": {},
   "outputs": [],
   "source": []
  },
  {
   "cell_type": "markdown",
   "metadata": {},
   "source": [
    "By now you should have noticed how both eigengenes show very different behavior between the symptomic and the asymptomic subjects. We can even see when after inoculation of influenza H3N2/Wisconsin gene expression starts to change for the symptopic subjects.\n",
    "\n",
    "The eigengenes of course don't have much biological meaning. However, they are a weighted linear combination of the original genes. So, by looking at the magnitude of these weights we can learn about the contribution of each gene to the eigengene. Since these eigengenes show different behavior between symptomic and asymptomic subjects the genes with very large or very small weights should do so too.\n",
    "\n",
    "Create a pandas dataframe called `pca_weights` with two columns:\n",
    "\n",
    "- 'genes' that contains the gene names\n",
    "- 'weights' that contains the weights in the first eigengene"
   ]
  },
  {
   "cell_type": "code",
   "execution_count": null,
   "metadata": {},
   "outputs": [],
   "source": []
  },
  {
   "cell_type": "markdown",
   "metadata": {},
   "source": [
    "To sort this dataframe by column 'weights' you can use the following code:"
   ]
  },
  {
   "cell_type": "code",
   "execution_count": null,
   "metadata": {},
   "outputs": [],
   "source": [
    "pca_weights.sort('weights',ascending=False).head()"
   ]
  },
  {
   "cell_type": "markdown",
   "metadata": {},
   "source": [
    "So? Did we find something interesting? How about the second eigengene? Find the 5 most interesting genes for the second eigengene."
   ]
  },
  {
   "cell_type": "code",
   "execution_count": null,
   "metadata": {},
   "outputs": [],
   "source": []
  },
  {
   "cell_type": "markdown",
   "metadata": {
    "collapsed": true
   },
   "source": [
    "And now for something completely different. Let's load a data set that has been extracted from the USDA plants database [1]. It contains all plants (species and genera) in the database and the states of USA and Canada where they occur.\n",
    "\t\n",
    "> [1] USDA, NRCS. 2016. The PLANTS Database (http://plants.usda.gov, 21 April 2016). National Plant Data Team, Greensboro, NC 27401-4901 USA."
   ]
  },
  {
   "cell_type": "code",
   "execution_count": null,
   "metadata": {},
   "outputs": [],
   "source": [
    "data_plants = pd.read_csv('plants.csv',index_col=0)"
   ]
  },
  {
   "cell_type": "code",
   "execution_count": null,
   "metadata": {},
   "outputs": [],
   "source": [
    "data_plants.head()"
   ]
  },
  {
   "cell_type": "markdown",
   "metadata": {},
   "source": [
    "How well can you recreate the map of the USA and Canada from this data? What would you need to do with this data set? If you know what to do, but not how to do it, just ask."
   ]
  },
  {
   "cell_type": "code",
   "execution_count": null,
   "metadata": {},
   "outputs": [],
   "source": []
  }
 ],
 "metadata": {
  "kernelspec": {
   "display_name": "Python 3",
   "language": "python",
   "name": "python3"
  },
  "language_info": {
   "codemirror_mode": {
    "name": "ipython",
    "version": 3
   },
   "file_extension": ".py",
   "mimetype": "text/x-python",
   "name": "python",
   "nbconvert_exporter": "python",
   "pygments_lexer": "ipython3",
   "version": "3.6.6"
  }
 },
 "nbformat": 4,
 "nbformat_minor": 1
}
