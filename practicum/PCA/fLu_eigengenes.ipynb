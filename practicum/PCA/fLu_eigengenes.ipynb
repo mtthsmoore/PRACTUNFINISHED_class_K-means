{
  "nbformat": 4,
  "nbformat_minor": 0,
  "metadata": {
    "kernelspec": {
      "display_name": "Python 3",
      "language": "python",
      "name": "python3"
    },
    "language_info": {
      "codemirror_mode": {
        "name": "ipython",
        "version": 3
      },
      "file_extension": ".py",
      "mimetype": "text/x-python",
      "name": "python",
      "nbconvert_exporter": "python",
      "pygments_lexer": "ipython3",
      "version": "3.7.3"
    },
    "colab": {
      "name": "5._Dimensionality_reduction_solutions.ipynb",
      "provenance": []
    }
  },
  "cells": [
    {
      "cell_type": "markdown",
      "metadata": {
        "id": "HpZpYtAW-14T",
        "colab_type": "text"
      },
      "source": [
        "# Eigengenes for flu progression"
      ]
    },
    {
      "cell_type": "markdown",
      "metadata": {
        "id": "FTaaUxXi-14U",
        "colab_type": "text"
      },
      "source": [
        "Despite much progress in recent centuries, infectious disease continues to be one of humanity's most persistent problems. The recent COVID-19 outbreak is of course no exception to that. To understand and ultimately contain infectious diseases, it is helpful to understand how the human immune system responds to them, especially at the cellular and molecular level.\n",
        "\n",
        "In a study published in *PLoS genetics* a cohort of 16 healthy human volunteers received intranasal inoculation of influenza H3N2/Wisconsin and 9 of these subjects developed mild to severe symptoms based on standardized symptom scoring [1]. In the week following inoculation, the patient's blood was drawn every 8 hours for microarray analysis. The resulting dataset contains 268 samples: 16 patients and about 17 samples from each patient. Patients were classified as \"asymptomatic\" if the Jackson score (which is a symptom score that indicates actual infection) was less than 6 over the first five days of observation and viral shedding was not documented after the first 24 hours subsequent to inoculation. The other patients were labeled \"symptomatic\".\n",
        "\n",
        "In this practical session you will analyse this data set using PCA. You will chart the course of flu infection and try to identify genes that are involved.\n",
        "\n",
        "> [1] Huang, Yongsheng, et al. Temporal dynamics of host molecular responses differentiate symptomatic and asymptomatic influenza A infection. PLoS genetics 7.8 (2011).\n",
        "\n",
        "Let's start by loading the data."
      ]
    },
    {
      "cell_type": "code",
      "metadata": {
        "id": "6DF2l00l-14V",
        "colab_type": "code",
        "colab": {}
      },
      "source": [
        "import pandas as pd\n",
        "\n",
        "data = pd.read_csv(\"https://raw.githubusercontent.com/sdgroeve/Machine_Learning_course_UGent_D012554_data/master/practicum/PCA/flu.csv\")"
      ],
      "execution_count": 0,
      "outputs": []
    },
    {
      "cell_type": "code",
      "metadata": {
        "id": "LNtSQdm--14Y",
        "colab_type": "code",
        "colab": {}
      },
      "source": [
        "data.head(5)"
      ],
      "execution_count": 0,
      "outputs": []
    },
    {
      "cell_type": "markdown",
      "metadata": {
        "id": "75e_7wnc-14c",
        "colab_type": "text"
      },
      "source": [
        "The microarray used in this study measures 11959 normalized gene expression values. There are three more columns in the data set:\n",
        "\n",
        "- 'subject': identifies the volunteer\n",
        "- 'type': the symptom annotation\n",
        "- 'time': the timepoint of the microarray measurement"
      ]
    },
    {
      "cell_type": "markdown",
      "metadata": {
        "id": "KCpUhz7X-14g",
        "colab_type": "text"
      },
      "source": [
        "Let's plot a heatmap of the expression values for some of the genes of subject 2:"
      ]
    },
    {
      "cell_type": "code",
      "metadata": {
        "id": "TDL3m6Ky-14h",
        "colab_type": "code",
        "colab": {}
      },
      "source": [
        "import matplotlib.pyplot as plt\n",
        "import seaborn as sns\n",
        "\n",
        "plt.figure(figsize=(22,8))\n",
        "sns.heatmap(data[data.subject==2].iloc[:,200:500],square=False,xticklabels=False,yticklabels=range(0,128,8))\n",
        "plt.show()"
      ],
      "execution_count": 0,
      "outputs": []
    },
    {
      "cell_type": "markdown",
      "metadata": {
        "id": "YFTT21Iy-14j",
        "colab_type": "text"
      },
      "source": [
        "In this heatmap the genes are on the x-axis (gene names not shown here), the time (in hours) is on the y-axis. The color levels indicate the expression measurements of the genes. \n",
        "\n",
        "*Do you see something interesting? Yes? What is it?*"
      ]
    },
    {
      "cell_type": "markdown",
      "metadata": {
        "id": "Sx8_5s32BPcq",
        "colab_type": "text"
      },
      "source": [
        "---(Answer here)\n",
        "\n",
        "---(Solution)\n"
      ]
    },
    {
      "cell_type": "markdown",
      "metadata": {
        "id": "FRA15B15BXg1",
        "colab_type": "text"
      },
      "source": [
        "*Make the same plot for subject 1.*"
      ]
    },
    {
      "cell_type": "code",
      "metadata": {
        "id": "lLGS21i7-14k",
        "colab_type": "code",
        "colab": {}
      },
      "source": [
        "plt.figure(figsize=(22,8))\n",
        "###Start code here\n",
        "\n",
        "###End code here\n",
        "plt.show()"
      ],
      "execution_count": 0,
      "outputs": []
    },
    {
      "cell_type": "markdown",
      "metadata": {
        "id": "uU6DHO9XBvBC",
        "colab_type": "text"
      },
      "source": [
        "*Do you see something strange?*"
      ]
    },
    {
      "cell_type": "markdown",
      "metadata": {
        "id": "sCr3-QSGB1R1",
        "colab_type": "text"
      },
      "source": [
        "---(Answer here)\n",
        "\n",
        "---(Solution) \n"
      ]
    },
    {
      "cell_type": "markdown",
      "metadata": {
        "id": "-XM147OO-14n",
        "colab_type": "text"
      },
      "source": [
        "*Pop the column 'subject' in a variable called `subjects`.*\n",
        "\n",
        "*Pop the column 'type' in a variable called`types`.* \n",
        "\n",
        "*Pop the column 'time' in a variable called `times`.*"
      ]
    },
    {
      "cell_type": "code",
      "metadata": {
        "id": "xAITf69T-14o",
        "colab_type": "code",
        "colab": {}
      },
      "source": [
        "###Start code here\n",
        "subjects = \n",
        "types = \n",
        "times = \n",
        "###End code here"
      ],
      "execution_count": 0,
      "outputs": []
    },
    {
      "cell_type": "markdown",
      "metadata": {
        "id": "XeLoPgv3-14r",
        "colab_type": "text"
      },
      "source": [
        "*When you apply PCA on the data set `data` to reduce the 11959 genes (the features), how many principal components do we require to explain at least 80% of the data? Check the scikit-learn webpage for help on how to obtain the explained variance ratio in the PCA module.*"
      ]
    },
    {
      "cell_type": "code",
      "metadata": {
        "id": "kkppseLN-14r",
        "colab_type": "code",
        "colab": {}
      },
      "source": [
        "import numpy as np\n",
        "from sklearn.decomposition import PCA\n",
        "\n",
        "pca = PCA(n_components=100)\n",
        "pca.fit_transform(data)\n",
        "\n",
        "###Start code here\n",
        "\n",
        "###End code here"
      ],
      "execution_count": 0,
      "outputs": []
    },
    {
      "cell_type": "markdown",
      "metadata": {
        "id": "sgCyFlJf-14x",
        "colab_type": "text"
      },
      "source": [
        "Let's reduce the number of principal components to just two and store them in a Pandas DataFrame called `data_projected`:"
      ]
    },
    {
      "cell_type": "code",
      "metadata": {
        "id": "B3TpV7Rm-14y",
        "colab_type": "code",
        "colab": {}
      },
      "source": [
        "pca = PCA(n_components=2)\n",
        "data_projected = pd.DataFrame(pca.fit_transform(data),columns=['PC1','PC2'])"
      ],
      "execution_count": 0,
      "outputs": []
    },
    {
      "cell_type": "markdown",
      "metadata": {
        "id": "esvJPxgs-142",
        "colab_type": "text"
      },
      "source": [
        "*How much of the variance do these two principal components explain?*"
      ]
    },
    {
      "cell_type": "code",
      "metadata": {
        "id": "t2CLoy4D-142",
        "colab_type": "code",
        "colab": {}
      },
      "source": [
        "###Start code here\n",
        "\n",
        "###End code here"
      ],
      "execution_count": 0,
      "outputs": []
    },
    {
      "cell_type": "markdown",
      "metadata": {
        "id": "OKT4bIic-145",
        "colab_type": "text"
      },
      "source": [
        "Let's add the variables `subjects`, `types` and `times` as columns to `data_projected`:"
      ]
    },
    {
      "cell_type": "code",
      "metadata": {
        "id": "uHWPseoR-146",
        "colab_type": "code",
        "colab": {}
      },
      "source": [
        "data_projected['subject'] = subjects\n",
        "data_projected['type'] = types\n",
        "data_projected['time'] = times"
      ],
      "execution_count": 0,
      "outputs": []
    },
    {
      "cell_type": "markdown",
      "metadata": {
        "id": "GK5uKprE-148",
        "colab_type": "text"
      },
      "source": [
        "*Use the Seaborn `.lmplot()` method to plot the projected data:*"
      ]
    },
    {
      "cell_type": "code",
      "metadata": {
        "id": "yBtUx7U4-149",
        "colab_type": "code",
        "colab": {}
      },
      "source": [
        "###Start code here\n",
        "\n",
        "###End code here\n",
        "plt.show()"
      ],
      "execution_count": 0,
      "outputs": []
    },
    {
      "cell_type": "markdown",
      "metadata": {
        "id": "0sOneaZ6-14_",
        "colab_type": "text"
      },
      "source": [
        "*Make the same plot, but color the data points by 'type' (use the 'hue' argument):*\n"
      ]
    },
    {
      "cell_type": "code",
      "metadata": {
        "id": "BP6H1K9m-15A",
        "colab_type": "code",
        "colab": {}
      },
      "source": [
        "###Start code here\n",
        "\n",
        "###End code here\n",
        "plt.show()"
      ],
      "execution_count": 0,
      "outputs": []
    },
    {
      "cell_type": "markdown",
      "metadata": {
        "id": "pEerxYkF9MWZ",
        "colab_type": "text"
      },
      "source": [
        "*What do you see?*\n",
        "\n",
        "---(Answer)\n",
        "\n",
        "---(Solution) "
      ]
    },
    {
      "cell_type": "markdown",
      "metadata": {
        "id": "lY2HnhaK-15E",
        "colab_type": "text"
      },
      "source": [
        "*Color the microarray measurements by 'subject' and split by 'type' (use the 'col' argument):* \n"
      ]
    },
    {
      "cell_type": "code",
      "metadata": {
        "id": "Y9iU21BW-15F",
        "colab_type": "code",
        "colab": {}
      },
      "source": [
        "###Start code here\n",
        "\n",
        "###End code here\n",
        "plt.show()"
      ],
      "execution_count": 0,
      "outputs": []
    },
    {
      "cell_type": "markdown",
      "metadata": {
        "id": "w5qZJnR695RT",
        "colab_type": "text"
      },
      "source": [
        "*Do the volunteers cluster together?*\n",
        "\n",
        "---(Answer)\n",
        "\n",
        "---(Solution) "
      ]
    },
    {
      "cell_type": "markdown",
      "metadata": {
        "id": "pbGTPxhT-15I",
        "colab_type": "text"
      },
      "source": [
        "The first two principal components can separate many of the symptomatic subjects from the asymptomatic ones. However, not all of them. Probably 'time' has something to do with this...\n",
        "\n",
        "Let's take a look at what we have found. We could say that we reduced the 11959 genes to just two 'eigengenes' (PC1 and PC2). These  eigengenes explain most of the variation observed over all subjects and time points. \n",
        "\n",
        "*Use the seaborn function `catplot()` to plot the data set `data_projected` as a pointplot with on the x-axis column 'time' and on the y-axis the values for the first eigengene. Color the eigengene by column 'subject' and spit the plot by column 'type':*"
      ]
    },
    {
      "cell_type": "code",
      "metadata": {
        "id": "Qf0aL71K-15I",
        "colab_type": "code",
        "colab": {}
      },
      "source": [
        "###Start code here\n",
        "\n",
        "###End code here\n",
        "\n",
        "plt.show()"
      ],
      "execution_count": 0,
      "outputs": []
    },
    {
      "cell_type": "markdown",
      "metadata": {
        "id": "b6jSeLhg-15M",
        "colab_type": "text"
      },
      "source": [
        "*What do you see?*\n",
        "\n",
        "---(Answer)\n",
        "\n",
        "---(Solution)\n",
        "\n",
        "*Do the same for the second eigengene PC2.*"
      ]
    },
    {
      "cell_type": "code",
      "metadata": {
        "id": "HUBKlbtD-15N",
        "colab_type": "code",
        "colab": {}
      },
      "source": [
        "###Start code here\n",
        "\n",
        "###End code here\n",
        "\n",
        "plt.show()"
      ],
      "execution_count": 0,
      "outputs": []
    },
    {
      "cell_type": "markdown",
      "metadata": {
        "id": "ii4Q3Met-15Q",
        "colab_type": "text"
      },
      "source": [
        "*Do we see something similar?*\n",
        "\n",
        "---(Answer)\n",
        "\n",
        "---(Solution)\n",
        "\n",
        "*Now create the same plot for the first eigengene but remove the coloring by column 'subject'.This will create a summary plot where each point is the mean value for the first eigengene over all volunteers. The error bars estimate the variation between the volunteers (95% confidence interval):*"
      ]
    },
    {
      "cell_type": "code",
      "metadata": {
        "id": "Pmex70wj-15R",
        "colab_type": "code",
        "colab": {}
      },
      "source": [
        "###Start code here\n",
        "\n",
        "###End code here\n",
        "\n",
        "plt.show()"
      ],
      "execution_count": 0,
      "outputs": []
    },
    {
      "cell_type": "markdown",
      "metadata": {
        "id": "EDVTp6YF-15U",
        "colab_type": "text"
      },
      "source": [
        "*Do the same for the second eigengene.*"
      ]
    },
    {
      "cell_type": "code",
      "metadata": {
        "id": "OI7sHOe9-15U",
        "colab_type": "code",
        "colab": {}
      },
      "source": [
        "###Start code here\n",
        "\n",
        "###End code here"
      ],
      "execution_count": 0,
      "outputs": []
    },
    {
      "cell_type": "markdown",
      "metadata": {
        "id": "kRWPvAur-15X",
        "colab_type": "text"
      },
      "source": [
        "By now you should have noticed how both eigengenes show very different behavior between the symptomic and the asymptomic subjects (on average). We can even see when after inoculation of influenza H3N2/Wisconsin gene expression starts to change for the symptopic subjects.\n",
        "\n",
        "The eigengenes of course don't have much biological meaning. They are a weighted linear combination of the original genes. So, by looking at the magnitude of these weights we can learn about the contribution of each gene to each eigengene. \n",
        "\n",
        "*Create a Pandas DataFrame called `pca_weights` with two columns:*\n",
        "\n",
        "- *'genes' that contains the gene names*\n",
        "- *'weights' that contains the absolute value of the weights in the first eigengene*"
      ]
    },
    {
      "cell_type": "code",
      "metadata": {
        "id": "d7Y1K_qG-15X",
        "colab_type": "code",
        "colab": {}
      },
      "source": [
        "###Start code here\n",
        "\n",
        "###End code here\n",
        "\n",
        "print(pca_weights)"
      ],
      "execution_count": 0,
      "outputs": []
    },
    {
      "cell_type": "markdown",
      "metadata": {
        "id": "GIhUYQ6K-15Z",
        "colab_type": "text"
      },
      "source": [
        "*Sort this DataFrame by column 'weights' in descending order*:"
      ]
    },
    {
      "cell_type": "code",
      "metadata": {
        "id": "35NaJ2fd-15a",
        "colab_type": "code",
        "colab": {}
      },
      "source": [
        "###Start code here\n",
        "\n",
        "###End code here"
      ],
      "execution_count": 0,
      "outputs": []
    },
    {
      "cell_type": "markdown",
      "metadata": {
        "id": "v88kflZs-15c",
        "colab_type": "text"
      },
      "source": [
        "*So? Did we find something interesting? How about the second eigengene? Find the 5 most interesting genes for the second eigengene.*"
      ]
    },
    {
      "cell_type": "code",
      "metadata": {
        "id": "-pU3HHoo-15c",
        "colab_type": "code",
        "colab": {}
      },
      "source": [
        "###Start code here\n",
        "\n",
        "###End code here"
      ],
      "execution_count": 0,
      "outputs": []
    }
  ]
}