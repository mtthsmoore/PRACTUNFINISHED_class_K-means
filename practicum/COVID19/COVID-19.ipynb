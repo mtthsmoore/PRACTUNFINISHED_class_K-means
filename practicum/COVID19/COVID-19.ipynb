{
  "nbformat": 4,
  "nbformat_minor": 0,
  "metadata": {
    "kernelspec": {
      "display_name": "Python 3",
      "language": "python",
      "name": "python3"
    },
    "language_info": {
      "codemirror_mode": {
        "name": "ipython",
        "version": 3
      },
      "file_extension": ".py",
      "mimetype": "text/x-python",
      "name": "python",
      "nbconvert_exporter": "python",
      "pygments_lexer": "ipython3",
      "version": "3.7.3"
    },
    "colab": {
      "name": "COVID-19.ipynb",
      "provenance": []
    }
  },
  "cells": [
    {
      "cell_type": "markdown",
      "metadata": {
        "id": "ZLta-Y0PmOFd",
        "colab_type": "text"
      },
      "source": [
        "# COVID-19 Pandas + Seaborn\n",
        "\n",
        "\n",
        "In this project you will apply your Python Pandas and Seaborn skills to obtain useful insights into the live COVID-19 data. The [dataset](https://github.com/open-covid-19/data) is a processed version of the main [COVID-19 data repository](https://github.com/CSSEGISandData/COVID-19) for the 2019 Novel Coronavirus Visual Dashboard that is operated by the Johns Hopkins University Center for Systems Science and Engineering (JHU CSSE). Also, Supported by ESRI Living Atlas Team and the Johns Hopkins University Applied Physics Lab (JHU APL).\n",
        "\n",
        "The dataset is updated on a public GitHub repository, so we can donwload the most recent verion as follows:"
      ]
    },
    {
      "cell_type": "code",
      "metadata": {
        "id": "RzmEGE3GmOFf",
        "colab_type": "code",
        "colab": {}
      },
      "source": [
        "import pandas as pd\n",
        "data_covid19 = pd.read_csv(\"https://open-covid-19.github.io/data/data.csv\",parse_dates=[\"Date\"],index_col=\"Date\")"
      ],
      "execution_count": 0,
      "outputs": []
    },
    {
      "cell_type": "markdown",
      "metadata": {
        "id": "sWas313MmOFk",
        "colab_type": "text"
      },
      "source": [
        "*How many rows and how many columns does this dataset have?*"
      ]
    },
    {
      "cell_type": "code",
      "metadata": {
        "id": "GeGGt--KmOFl",
        "colab_type": "code",
        "outputId": "8f8f5a64-6be8-46b0-9d95-57c9adb972fa",
        "colab": {
          "base_uri": "https://localhost:8080/",
          "height": 35
        }
      },
      "source": [
        "###Start code here\n",
        "data_covid19.shape\n",
        "###End code here"
      ],
      "execution_count": 2,
      "outputs": [
        {
          "output_type": "execute_result",
          "data": {
            "text/plain": [
              "(31956, 10)"
            ]
          },
          "metadata": {
            "tags": []
          },
          "execution_count": 2
        }
      ]
    },
    {
      "cell_type": "markdown",
      "metadata": {
        "id": "N_E6PaDCmOFt",
        "colab_type": "text"
      },
      "source": [
        "*Print the first 20 rows in the dataset.*"
      ]
    },
    {
      "cell_type": "code",
      "metadata": {
        "id": "CQcEo-gVmOFv",
        "colab_type": "code",
        "outputId": "b434e6c4-a6ea-46bd-8af5-49fa4161c6ca",
        "colab": {
          "base_uri": "https://localhost:8080/",
          "height": 693
        }
      },
      "source": [
        "###Start code here\n",
        "data_covid19.head(20)\n",
        "###End code here"
      ],
      "execution_count": 3,
      "outputs": [
        {
          "output_type": "execute_result",
          "data": {
            "text/html": [
              "<div>\n",
              "<style scoped>\n",
              "    .dataframe tbody tr th:only-of-type {\n",
              "        vertical-align: middle;\n",
              "    }\n",
              "\n",
              "    .dataframe tbody tr th {\n",
              "        vertical-align: top;\n",
              "    }\n",
              "\n",
              "    .dataframe thead th {\n",
              "        text-align: right;\n",
              "    }\n",
              "</style>\n",
              "<table border=\"1\" class=\"dataframe\">\n",
              "  <thead>\n",
              "    <tr style=\"text-align: right;\">\n",
              "      <th></th>\n",
              "      <th>Key</th>\n",
              "      <th>CountryCode</th>\n",
              "      <th>CountryName</th>\n",
              "      <th>RegionCode</th>\n",
              "      <th>RegionName</th>\n",
              "      <th>Confirmed</th>\n",
              "      <th>Deaths</th>\n",
              "      <th>Latitude</th>\n",
              "      <th>Longitude</th>\n",
              "      <th>Population</th>\n",
              "    </tr>\n",
              "    <tr>\n",
              "      <th>Date</th>\n",
              "      <th></th>\n",
              "      <th></th>\n",
              "      <th></th>\n",
              "      <th></th>\n",
              "      <th></th>\n",
              "      <th></th>\n",
              "      <th></th>\n",
              "      <th></th>\n",
              "      <th></th>\n",
              "      <th></th>\n",
              "    </tr>\n",
              "  </thead>\n",
              "  <tbody>\n",
              "    <tr>\n",
              "      <th>2019-12-31</th>\n",
              "      <td>AE</td>\n",
              "      <td>AE</td>\n",
              "      <td>United Arab Emirates</td>\n",
              "      <td>NaN</td>\n",
              "      <td>NaN</td>\n",
              "      <td>0.0</td>\n",
              "      <td>0.0</td>\n",
              "      <td>23.424076</td>\n",
              "      <td>53.847818</td>\n",
              "      <td>9.770529e+06</td>\n",
              "    </tr>\n",
              "    <tr>\n",
              "      <th>2019-12-31</th>\n",
              "      <td>AF</td>\n",
              "      <td>AF</td>\n",
              "      <td>Afghanistan</td>\n",
              "      <td>NaN</td>\n",
              "      <td>NaN</td>\n",
              "      <td>0.0</td>\n",
              "      <td>0.0</td>\n",
              "      <td>33.939110</td>\n",
              "      <td>67.709953</td>\n",
              "      <td>3.804175e+07</td>\n",
              "    </tr>\n",
              "    <tr>\n",
              "      <th>2019-12-31</th>\n",
              "      <td>AM</td>\n",
              "      <td>AM</td>\n",
              "      <td>Armenia</td>\n",
              "      <td>NaN</td>\n",
              "      <td>NaN</td>\n",
              "      <td>0.0</td>\n",
              "      <td>0.0</td>\n",
              "      <td>40.069099</td>\n",
              "      <td>45.038189</td>\n",
              "      <td>2.957731e+06</td>\n",
              "    </tr>\n",
              "    <tr>\n",
              "      <th>2019-12-31</th>\n",
              "      <td>AT</td>\n",
              "      <td>AT</td>\n",
              "      <td>Austria</td>\n",
              "      <td>NaN</td>\n",
              "      <td>NaN</td>\n",
              "      <td>0.0</td>\n",
              "      <td>0.0</td>\n",
              "      <td>47.516231</td>\n",
              "      <td>14.550072</td>\n",
              "      <td>8.955102e+06</td>\n",
              "    </tr>\n",
              "    <tr>\n",
              "      <th>2019-12-31</th>\n",
              "      <td>AU</td>\n",
              "      <td>AU</td>\n",
              "      <td>Australia</td>\n",
              "      <td>NaN</td>\n",
              "      <td>NaN</td>\n",
              "      <td>0.0</td>\n",
              "      <td>0.0</td>\n",
              "      <td>-25.274398</td>\n",
              "      <td>133.775136</td>\n",
              "      <td>2.520320e+07</td>\n",
              "    </tr>\n",
              "    <tr>\n",
              "      <th>2019-12-31</th>\n",
              "      <td>AZ</td>\n",
              "      <td>AZ</td>\n",
              "      <td>Azerbaijan</td>\n",
              "      <td>NaN</td>\n",
              "      <td>NaN</td>\n",
              "      <td>0.0</td>\n",
              "      <td>0.0</td>\n",
              "      <td>40.143105</td>\n",
              "      <td>47.576927</td>\n",
              "      <td>1.004772e+07</td>\n",
              "    </tr>\n",
              "    <tr>\n",
              "      <th>2019-12-31</th>\n",
              "      <td>BE</td>\n",
              "      <td>BE</td>\n",
              "      <td>Belgium</td>\n",
              "      <td>NaN</td>\n",
              "      <td>NaN</td>\n",
              "      <td>0.0</td>\n",
              "      <td>0.0</td>\n",
              "      <td>50.503887</td>\n",
              "      <td>4.469936</td>\n",
              "      <td>1.153933e+07</td>\n",
              "    </tr>\n",
              "    <tr>\n",
              "      <th>2019-12-31</th>\n",
              "      <td>BH</td>\n",
              "      <td>BH</td>\n",
              "      <td>Bahrain</td>\n",
              "      <td>NaN</td>\n",
              "      <td>NaN</td>\n",
              "      <td>0.0</td>\n",
              "      <td>0.0</td>\n",
              "      <td>25.930414</td>\n",
              "      <td>50.637772</td>\n",
              "      <td>1.641172e+06</td>\n",
              "    </tr>\n",
              "    <tr>\n",
              "      <th>2019-12-31</th>\n",
              "      <td>BR</td>\n",
              "      <td>BR</td>\n",
              "      <td>Brazil</td>\n",
              "      <td>NaN</td>\n",
              "      <td>NaN</td>\n",
              "      <td>0.0</td>\n",
              "      <td>0.0</td>\n",
              "      <td>-14.235004</td>\n",
              "      <td>-51.925280</td>\n",
              "      <td>2.110495e+08</td>\n",
              "    </tr>\n",
              "    <tr>\n",
              "      <th>2019-12-31</th>\n",
              "      <td>BY</td>\n",
              "      <td>BY</td>\n",
              "      <td>Belarus</td>\n",
              "      <td>NaN</td>\n",
              "      <td>NaN</td>\n",
              "      <td>0.0</td>\n",
              "      <td>0.0</td>\n",
              "      <td>53.709807</td>\n",
              "      <td>27.953389</td>\n",
              "      <td>9.452411e+06</td>\n",
              "    </tr>\n",
              "    <tr>\n",
              "      <th>2019-12-31</th>\n",
              "      <td>CA</td>\n",
              "      <td>CA</td>\n",
              "      <td>Canada</td>\n",
              "      <td>NaN</td>\n",
              "      <td>NaN</td>\n",
              "      <td>0.0</td>\n",
              "      <td>0.0</td>\n",
              "      <td>56.130366</td>\n",
              "      <td>-106.346771</td>\n",
              "      <td>3.741105e+07</td>\n",
              "    </tr>\n",
              "    <tr>\n",
              "      <th>2019-12-31</th>\n",
              "      <td>CH</td>\n",
              "      <td>CH</td>\n",
              "      <td>Switzerland</td>\n",
              "      <td>NaN</td>\n",
              "      <td>NaN</td>\n",
              "      <td>0.0</td>\n",
              "      <td>0.0</td>\n",
              "      <td>46.818188</td>\n",
              "      <td>8.227512</td>\n",
              "      <td>8.591365e+06</td>\n",
              "    </tr>\n",
              "    <tr>\n",
              "      <th>2019-12-31</th>\n",
              "      <td>CN</td>\n",
              "      <td>CN</td>\n",
              "      <td>China</td>\n",
              "      <td>NaN</td>\n",
              "      <td>NaN</td>\n",
              "      <td>27.0</td>\n",
              "      <td>0.0</td>\n",
              "      <td>35.861660</td>\n",
              "      <td>104.195397</td>\n",
              "      <td>1.433784e+09</td>\n",
              "    </tr>\n",
              "    <tr>\n",
              "      <th>2019-12-31</th>\n",
              "      <td>CZ</td>\n",
              "      <td>CZ</td>\n",
              "      <td>Czech Republic</td>\n",
              "      <td>NaN</td>\n",
              "      <td>NaN</td>\n",
              "      <td>0.0</td>\n",
              "      <td>0.0</td>\n",
              "      <td>49.817492</td>\n",
              "      <td>15.472962</td>\n",
              "      <td>1.068921e+07</td>\n",
              "    </tr>\n",
              "    <tr>\n",
              "      <th>2019-12-31</th>\n",
              "      <td>DE</td>\n",
              "      <td>DE</td>\n",
              "      <td>Germany</td>\n",
              "      <td>NaN</td>\n",
              "      <td>NaN</td>\n",
              "      <td>0.0</td>\n",
              "      <td>0.0</td>\n",
              "      <td>51.165691</td>\n",
              "      <td>10.451526</td>\n",
              "      <td>8.351704e+07</td>\n",
              "    </tr>\n",
              "    <tr>\n",
              "      <th>2019-12-31</th>\n",
              "      <td>DK</td>\n",
              "      <td>DK</td>\n",
              "      <td>Denmark</td>\n",
              "      <td>NaN</td>\n",
              "      <td>NaN</td>\n",
              "      <td>0.0</td>\n",
              "      <td>0.0</td>\n",
              "      <td>56.263920</td>\n",
              "      <td>9.501785</td>\n",
              "      <td>5.771876e+06</td>\n",
              "    </tr>\n",
              "    <tr>\n",
              "      <th>2019-12-31</th>\n",
              "      <td>DO</td>\n",
              "      <td>DO</td>\n",
              "      <td>Dominican Republic</td>\n",
              "      <td>NaN</td>\n",
              "      <td>NaN</td>\n",
              "      <td>0.0</td>\n",
              "      <td>0.0</td>\n",
              "      <td>18.735693</td>\n",
              "      <td>-70.162651</td>\n",
              "      <td>1.073896e+07</td>\n",
              "    </tr>\n",
              "    <tr>\n",
              "      <th>2019-12-31</th>\n",
              "      <td>DZ</td>\n",
              "      <td>DZ</td>\n",
              "      <td>Algeria</td>\n",
              "      <td>NaN</td>\n",
              "      <td>NaN</td>\n",
              "      <td>0.0</td>\n",
              "      <td>0.0</td>\n",
              "      <td>28.033886</td>\n",
              "      <td>1.659626</td>\n",
              "      <td>4.305305e+07</td>\n",
              "    </tr>\n",
              "    <tr>\n",
              "      <th>2019-12-31</th>\n",
              "      <td>EC</td>\n",
              "      <td>EC</td>\n",
              "      <td>Ecuador</td>\n",
              "      <td>NaN</td>\n",
              "      <td>NaN</td>\n",
              "      <td>0.0</td>\n",
              "      <td>0.0</td>\n",
              "      <td>-1.831239</td>\n",
              "      <td>-78.183406</td>\n",
              "      <td>1.737366e+07</td>\n",
              "    </tr>\n",
              "    <tr>\n",
              "      <th>2019-12-31</th>\n",
              "      <td>EE</td>\n",
              "      <td>EE</td>\n",
              "      <td>Estonia</td>\n",
              "      <td>NaN</td>\n",
              "      <td>NaN</td>\n",
              "      <td>0.0</td>\n",
              "      <td>0.0</td>\n",
              "      <td>58.595272</td>\n",
              "      <td>25.013607</td>\n",
              "      <td>1.325648e+06</td>\n",
              "    </tr>\n",
              "  </tbody>\n",
              "</table>\n",
              "</div>"
            ],
            "text/plain": [
              "           Key CountryCode  ...   Longitude    Population\n",
              "Date                        ...                          \n",
              "2019-12-31  AE          AE  ...   53.847818  9.770529e+06\n",
              "2019-12-31  AF          AF  ...   67.709953  3.804175e+07\n",
              "2019-12-31  AM          AM  ...   45.038189  2.957731e+06\n",
              "2019-12-31  AT          AT  ...   14.550072  8.955102e+06\n",
              "2019-12-31  AU          AU  ...  133.775136  2.520320e+07\n",
              "2019-12-31  AZ          AZ  ...   47.576927  1.004772e+07\n",
              "2019-12-31  BE          BE  ...    4.469936  1.153933e+07\n",
              "2019-12-31  BH          BH  ...   50.637772  1.641172e+06\n",
              "2019-12-31  BR          BR  ...  -51.925280  2.110495e+08\n",
              "2019-12-31  BY          BY  ...   27.953389  9.452411e+06\n",
              "2019-12-31  CA          CA  ... -106.346771  3.741105e+07\n",
              "2019-12-31  CH          CH  ...    8.227512  8.591365e+06\n",
              "2019-12-31  CN          CN  ...  104.195397  1.433784e+09\n",
              "2019-12-31  CZ          CZ  ...   15.472962  1.068921e+07\n",
              "2019-12-31  DE          DE  ...   10.451526  8.351704e+07\n",
              "2019-12-31  DK          DK  ...    9.501785  5.771876e+06\n",
              "2019-12-31  DO          DO  ...  -70.162651  1.073896e+07\n",
              "2019-12-31  DZ          DZ  ...    1.659626  4.305305e+07\n",
              "2019-12-31  EC          EC  ...  -78.183406  1.737366e+07\n",
              "2019-12-31  EE          EE  ...   25.013607  1.325648e+06\n",
              "\n",
              "[20 rows x 10 columns]"
            ]
          },
          "metadata": {
            "tags": []
          },
          "execution_count": 3
        }
      ]
    },
    {
      "cell_type": "markdown",
      "metadata": {
        "id": "Ntai-SM2mOF2",
        "colab_type": "text"
      },
      "source": [
        "The columns of\n",
        "[data_covid19](https://open-covid-19.github.io/data/data.csv) are:\n",
        "\n",
        "| Name | Description | Example |\n",
        "| ---- | ----------- | ------- |\n",
        "| **Date**\\* | ISO 8601 date (YYYY-MM-DD) of the datapoint | 2020-03-21 |\n",
        "| **Key** | `CountryCode` if country-level data, otherwise `${CountryCode}_${RegionCode}` | CN_HB |\n",
        "| **CountryCode** | ISO 3166-1 code of the country | CN |\n",
        "| **CountryName** | American English name of the country, subject to change | China |\n",
        "| **RegionCode** | (Optional) ISO 3166-2 or NUTS 2 code of the region | HB |\n",
        "| **RegionName** | (Optional) American English name of the region, subject to change | Hubei |\n",
        "| **Confirmed**\\*\\* | Total number of cases confirmed after positive test | 67800 |\n",
        "| **Deaths**\\*\\* | Total number of deaths from a positive COVID-19 case | 3139 |\n",
        "| **Latitude** | Floating point representing the geographic coordinate | 30.9756 |\n",
        "| **Longitude** | Floating point representing the geographic coordinate | 112.2707 |\n",
        "| **Population** | Total count of humans living in the region | 1.153933e+07 |\n",
        "\n",
        "\\*Date used is **reporting** date, which generally lags a day from the actual\n",
        "date and is subject to timezone adjustments. Whenever possible, dates\n",
        "consistent with the ECDC daily reports are used.\n",
        "\n",
        "\\*\\*Missing values will be represented as nulls, whereas zeroes are used when\n",
        "a true value of zero is reported. For example, US states where deaths are not\n",
        "being reported have null values.\n",
        "\n",
        "For countries where both country-level and region-level data is available, the\n",
        "entry which has a null value for the `RegionCode` and `RegionName` columns\n",
        "indicates country-level aggregation. Please note that, sometimes, the\n",
        "country-level data and the region-level data come from different sources so\n",
        "adding up all region-level values may not equal exactly to the reported\n",
        "country-level value. See the [data loading tutorial][7] for more information.\n",
        "\n",
        "The `CountryName` and `RegionName` values are subject to change. You may use\n",
        "them for labels in your application, but you should not assume that they will\n",
        "remain the same in future updates. Instead, use `CountryCode` and `RegionCode`\n",
        "to perform joins with other data sources or for filtering within your\n",
        "application."
      ]
    },
    {
      "cell_type": "markdown",
      "metadata": {
        "id": "lX3q1bmFmOF3",
        "colab_type": "text"
      },
      "source": [
        "For this analysis we will look at only a few countries. We can use the `Key` column to select these countries:"
      ]
    },
    {
      "cell_type": "code",
      "metadata": {
        "id": "IQsD8i8GmOF4",
        "colab_type": "code",
        "colab": {}
      },
      "source": [
        "countries = [\"FR\",\"BE\",\"SE\",\"CH\",\"AU\",\"NL\",\"CN\",\"JP\",\"GB\",\"ES\",\"IT\",\"US\"]\n",
        "\n",
        "data_covid19 = data_covid19[data_covid19[\"Key\"].isin(countries)]"
      ],
      "execution_count": 0,
      "outputs": []
    },
    {
      "cell_type": "markdown",
      "metadata": {
        "id": "d6PKhHUymOF-",
        "colab_type": "text"
      },
      "source": [
        "*Print the last 10 rows in the dataset where `Key` is BE*."
      ]
    },
    {
      "cell_type": "code",
      "metadata": {
        "id": "AqIdut0RmOGA",
        "colab_type": "code",
        "outputId": "2395a9f2-388b-41aa-df62-47b7bc9fcca5",
        "colab": {
          "base_uri": "https://localhost:8080/",
          "height": 386
        }
      },
      "source": [
        "###Start code here\n",
        "data_covid19[data_covid19[\"Key\"]==\"BE\"].tail(10)\n",
        "###End code here"
      ],
      "execution_count": 5,
      "outputs": [
        {
          "output_type": "execute_result",
          "data": {
            "text/html": [
              "<div>\n",
              "<style scoped>\n",
              "    .dataframe tbody tr th:only-of-type {\n",
              "        vertical-align: middle;\n",
              "    }\n",
              "\n",
              "    .dataframe tbody tr th {\n",
              "        vertical-align: top;\n",
              "    }\n",
              "\n",
              "    .dataframe thead th {\n",
              "        text-align: right;\n",
              "    }\n",
              "</style>\n",
              "<table border=\"1\" class=\"dataframe\">\n",
              "  <thead>\n",
              "    <tr style=\"text-align: right;\">\n",
              "      <th></th>\n",
              "      <th>Key</th>\n",
              "      <th>CountryCode</th>\n",
              "      <th>CountryName</th>\n",
              "      <th>RegionCode</th>\n",
              "      <th>RegionName</th>\n",
              "      <th>Confirmed</th>\n",
              "      <th>Deaths</th>\n",
              "      <th>Latitude</th>\n",
              "      <th>Longitude</th>\n",
              "      <th>Population</th>\n",
              "    </tr>\n",
              "    <tr>\n",
              "      <th>Date</th>\n",
              "      <th></th>\n",
              "      <th></th>\n",
              "      <th></th>\n",
              "      <th></th>\n",
              "      <th></th>\n",
              "      <th></th>\n",
              "      <th></th>\n",
              "      <th></th>\n",
              "      <th></th>\n",
              "      <th></th>\n",
              "    </tr>\n",
              "  </thead>\n",
              "  <tbody>\n",
              "    <tr>\n",
              "      <th>2020-04-04</th>\n",
              "      <td>BE</td>\n",
              "      <td>BE</td>\n",
              "      <td>Belgium</td>\n",
              "      <td>NaN</td>\n",
              "      <td>NaN</td>\n",
              "      <td>16770.0</td>\n",
              "      <td>1143.0</td>\n",
              "      <td>50.503887</td>\n",
              "      <td>4.469936</td>\n",
              "      <td>11539328.0</td>\n",
              "    </tr>\n",
              "    <tr>\n",
              "      <th>2020-04-05</th>\n",
              "      <td>BE</td>\n",
              "      <td>BE</td>\n",
              "      <td>Belgium</td>\n",
              "      <td>NaN</td>\n",
              "      <td>NaN</td>\n",
              "      <td>18431.0</td>\n",
              "      <td>1283.0</td>\n",
              "      <td>50.503887</td>\n",
              "      <td>4.469936</td>\n",
              "      <td>11539328.0</td>\n",
              "    </tr>\n",
              "    <tr>\n",
              "      <th>2020-04-06</th>\n",
              "      <td>BE</td>\n",
              "      <td>BE</td>\n",
              "      <td>Belgium</td>\n",
              "      <td>NaN</td>\n",
              "      <td>NaN</td>\n",
              "      <td>19691.0</td>\n",
              "      <td>1447.0</td>\n",
              "      <td>50.503887</td>\n",
              "      <td>4.469936</td>\n",
              "      <td>11539328.0</td>\n",
              "    </tr>\n",
              "    <tr>\n",
              "      <th>2020-04-07</th>\n",
              "      <td>BE</td>\n",
              "      <td>BE</td>\n",
              "      <td>Belgium</td>\n",
              "      <td>NaN</td>\n",
              "      <td>NaN</td>\n",
              "      <td>20814.0</td>\n",
              "      <td>1632.0</td>\n",
              "      <td>50.503887</td>\n",
              "      <td>4.469936</td>\n",
              "      <td>11539328.0</td>\n",
              "    </tr>\n",
              "    <tr>\n",
              "      <th>2020-04-08</th>\n",
              "      <td>BE</td>\n",
              "      <td>BE</td>\n",
              "      <td>Belgium</td>\n",
              "      <td>NaN</td>\n",
              "      <td>NaN</td>\n",
              "      <td>22194.0</td>\n",
              "      <td>2035.0</td>\n",
              "      <td>50.503887</td>\n",
              "      <td>4.469936</td>\n",
              "      <td>11539328.0</td>\n",
              "    </tr>\n",
              "    <tr>\n",
              "      <th>2020-04-09</th>\n",
              "      <td>BE</td>\n",
              "      <td>BE</td>\n",
              "      <td>Belgium</td>\n",
              "      <td>NaN</td>\n",
              "      <td>NaN</td>\n",
              "      <td>23403.0</td>\n",
              "      <td>2240.0</td>\n",
              "      <td>50.503887</td>\n",
              "      <td>4.469936</td>\n",
              "      <td>11539328.0</td>\n",
              "    </tr>\n",
              "    <tr>\n",
              "      <th>2020-04-10</th>\n",
              "      <td>BE</td>\n",
              "      <td>BE</td>\n",
              "      <td>Belgium</td>\n",
              "      <td>NaN</td>\n",
              "      <td>NaN</td>\n",
              "      <td>24983.0</td>\n",
              "      <td>2523.0</td>\n",
              "      <td>50.503887</td>\n",
              "      <td>4.469936</td>\n",
              "      <td>11539328.0</td>\n",
              "    </tr>\n",
              "    <tr>\n",
              "      <th>2020-04-11</th>\n",
              "      <td>BE</td>\n",
              "      <td>BE</td>\n",
              "      <td>Belgium</td>\n",
              "      <td>NaN</td>\n",
              "      <td>NaN</td>\n",
              "      <td>26667.0</td>\n",
              "      <td>3019.0</td>\n",
              "      <td>50.503887</td>\n",
              "      <td>4.469936</td>\n",
              "      <td>11539328.0</td>\n",
              "    </tr>\n",
              "    <tr>\n",
              "      <th>2020-04-12</th>\n",
              "      <td>BE</td>\n",
              "      <td>BE</td>\n",
              "      <td>Belgium</td>\n",
              "      <td>NaN</td>\n",
              "      <td>NaN</td>\n",
              "      <td>28018.0</td>\n",
              "      <td>3346.0</td>\n",
              "      <td>50.503887</td>\n",
              "      <td>4.469936</td>\n",
              "      <td>11539328.0</td>\n",
              "    </tr>\n",
              "    <tr>\n",
              "      <th>2020-04-13</th>\n",
              "      <td>BE</td>\n",
              "      <td>BE</td>\n",
              "      <td>Belgium</td>\n",
              "      <td>NaN</td>\n",
              "      <td>NaN</td>\n",
              "      <td>29647.0</td>\n",
              "      <td>3600.0</td>\n",
              "      <td>50.503887</td>\n",
              "      <td>4.469936</td>\n",
              "      <td>11539328.0</td>\n",
              "    </tr>\n",
              "  </tbody>\n",
              "</table>\n",
              "</div>"
            ],
            "text/plain": [
              "           Key CountryCode CountryName  ...   Latitude Longitude  Population\n",
              "Date                                    ...                                 \n",
              "2020-04-04  BE          BE     Belgium  ...  50.503887  4.469936  11539328.0\n",
              "2020-04-05  BE          BE     Belgium  ...  50.503887  4.469936  11539328.0\n",
              "2020-04-06  BE          BE     Belgium  ...  50.503887  4.469936  11539328.0\n",
              "2020-04-07  BE          BE     Belgium  ...  50.503887  4.469936  11539328.0\n",
              "2020-04-08  BE          BE     Belgium  ...  50.503887  4.469936  11539328.0\n",
              "2020-04-09  BE          BE     Belgium  ...  50.503887  4.469936  11539328.0\n",
              "2020-04-10  BE          BE     Belgium  ...  50.503887  4.469936  11539328.0\n",
              "2020-04-11  BE          BE     Belgium  ...  50.503887  4.469936  11539328.0\n",
              "2020-04-12  BE          BE     Belgium  ...  50.503887  4.469936  11539328.0\n",
              "2020-04-13  BE          BE     Belgium  ...  50.503887  4.469936  11539328.0\n",
              "\n",
              "[10 rows x 10 columns]"
            ]
          },
          "metadata": {
            "tags": []
          },
          "execution_count": 5
        }
      ]
    },
    {
      "cell_type": "markdown",
      "metadata": {
        "id": "mCTUUks9mOGM",
        "colab_type": "text"
      },
      "source": [
        "*Use the Pandas DataFrame `.describe()` method to print statistics about the confirmed cases for Belgium.*"
      ]
    },
    {
      "cell_type": "code",
      "metadata": {
        "id": "VwXftvsRmOGN",
        "colab_type": "code",
        "outputId": "bf8bb52c-5fc6-4e58-cacf-4a055e79a098",
        "colab": {
          "base_uri": "https://localhost:8080/",
          "height": 173
        }
      },
      "source": [
        "###Start code here\n",
        "data_covid19[data_covid19[\"Key\"]==\"BE\"][\"Confirmed\"].describe()\n",
        "###End code here"
      ],
      "execution_count": 6,
      "outputs": [
        {
          "output_type": "execute_result",
          "data": {
            "text/plain": [
              "count      105.000000\n",
              "mean      3324.552381\n",
              "std       7232.658867\n",
              "min          0.000000\n",
              "25%          0.000000\n",
              "50%          1.000000\n",
              "75%       1243.000000\n",
              "max      29647.000000\n",
              "Name: Confirmed, dtype: float64"
            ]
          },
          "metadata": {
            "tags": []
          },
          "execution_count": 6
        }
      ]
    },
    {
      "cell_type": "markdown",
      "metadata": {
        "id": "j_FV0ViKmOGS",
        "colab_type": "text"
      },
      "source": [
        "Each row in the dataset represents a day and contains the number of confirmed cases in a region (country) for that day. You will plot the number of confirmed cases for each country up until today. To do so you will first create a new DataFrame that contains the data to plot. \n",
        "\n",
        "In Pandas the `.groupby` method can group rows by the values in a certain column \"A\" such that the values in another column \"B\" can be aggegated. \n",
        "\n",
        "*Use these methods to print the total number confirmed cases for each country by assigning the correct columns to variables \"A\" and \"B\":*"
      ]
    },
    {
      "cell_type": "code",
      "metadata": {
        "id": "FP_iA6VSmOGT",
        "colab_type": "code",
        "outputId": "9938fd28-8c1a-4978-eace-603b90f0b12c",
        "colab": {
          "base_uri": "https://localhost:8080/",
          "height": 260
        }
      },
      "source": [
        "###Start code here\n",
        "A = \"Key\"\n",
        "B = \"Confirmed\"\n",
        "###End code here\n",
        "\n",
        "total_confirmed = data_covid19.groupby(A)[B].sum()\n",
        "print(total_confirmed)"
      ],
      "execution_count": 7,
      "outputs": [
        {
          "output_type": "stream",
          "text": [
            "Key\n",
            "AU     108763.0\n",
            "BE     349078.0\n",
            "CH     405963.0\n",
            "CN    5225087.0\n",
            "ES    2538408.0\n",
            "FR    1327962.0\n",
            "GB     821913.0\n",
            "IT    2979781.0\n",
            "JP      81080.0\n",
            "NL     333977.0\n",
            "SE     136186.0\n",
            "US    5760607.0\n",
            "Name: Confirmed, dtype: float64\n"
          ],
          "name": "stdout"
        }
      ]
    },
    {
      "cell_type": "markdown",
      "metadata": {
        "id": "NaEz503-mOGY",
        "colab_type": "text"
      },
      "source": [
        "To plot the result of the aggregagtion we need to transform the result into a DataFrame as follows:"
      ]
    },
    {
      "cell_type": "code",
      "metadata": {
        "id": "J5iBX_ltmOGZ",
        "colab_type": "code",
        "outputId": "78cb2ef3-3aef-436b-ae05-e4e6c9dba946",
        "colab": {
          "base_uri": "https://localhost:8080/",
          "height": 243
        }
      },
      "source": [
        "total_confirmed = total_confirmed.reset_index(name = \"Confirmed\")\n",
        "print(total_confirmed)"
      ],
      "execution_count": 8,
      "outputs": [
        {
          "output_type": "stream",
          "text": [
            "   Key  Confirmed\n",
            "0   AU   108763.0\n",
            "1   BE   349078.0\n",
            "2   CH   405963.0\n",
            "3   CN  5225087.0\n",
            "4   ES  2538408.0\n",
            "5   FR  1327962.0\n",
            "6   GB   821913.0\n",
            "7   IT  2979781.0\n",
            "8   JP    81080.0\n",
            "9   NL   333977.0\n",
            "10  SE   136186.0\n",
            "11  US  5760607.0\n"
          ],
          "name": "stdout"
        }
      ]
    },
    {
      "cell_type": "markdown",
      "metadata": {
        "id": "vD6ktDSYmOGf",
        "colab_type": "text"
      },
      "source": [
        "*Sort the countries in `total_confirmed` by confirmed cases in descending order.*"
      ]
    },
    {
      "cell_type": "code",
      "metadata": {
        "id": "a7eCUUTemOGg",
        "colab_type": "code",
        "outputId": "2ad10e10-6b68-4373-f5f1-0176ca04a35b",
        "colab": {
          "base_uri": "https://localhost:8080/",
          "height": 243
        }
      },
      "source": [
        "###Start code here\n",
        "total_confirmed = total_confirmed.sort_values(\"Confirmed\",ascending=False)\n",
        "###End code here\n",
        "\n",
        "print(total_confirmed)"
      ],
      "execution_count": 9,
      "outputs": [
        {
          "output_type": "stream",
          "text": [
            "   Key  Confirmed\n",
            "11  US  5760607.0\n",
            "3   CN  5225087.0\n",
            "7   IT  2979781.0\n",
            "4   ES  2538408.0\n",
            "5   FR  1327962.0\n",
            "6   GB   821913.0\n",
            "2   CH   405963.0\n",
            "1   BE   349078.0\n",
            "9   NL   333977.0\n",
            "10  SE   136186.0\n",
            "0   AU   108763.0\n",
            "8   JP    81080.0\n"
          ],
          "name": "stdout"
        }
      ]
    },
    {
      "cell_type": "markdown",
      "metadata": {
        "id": "f0BGpXTcmOGm",
        "colab_type": "text"
      },
      "source": [
        "We are now ready to make a nice looking barplot using the Seaborn module.\n",
        "\n",
        "*Assign the correct data to the x and y-axis to plot this barplot:*"
      ]
    },
    {
      "cell_type": "code",
      "metadata": {
        "id": "S3uiDpJImOGn",
        "colab_type": "code",
        "outputId": "aca8026d-ccbd-4e29-9997-fd397a133f2e",
        "colab": {
          "base_uri": "https://localhost:8080/",
          "height": 568
        }
      },
      "source": [
        "%matplotlib inline\n",
        "import matplotlib.pyplot as plt\n",
        "import seaborn as sns\n",
        "sns.set_style(\"white\")\n",
        "\n",
        "###Start code here\n",
        "x = total_confirmed[\"Key\"]\n",
        "y = total_confirmed[\"Confirmed\"]\n",
        "###End code here\n",
        "\n",
        "plt.figure(figsize=(12,8))\n",
        "plt.title(\"#confirmed cases/country\")\n",
        "sns.barplot(x=x,y=y,palette=\"Paired\")\n",
        "plt.xlabel(\"Country\")\n",
        "plt.show()"
      ],
      "execution_count": 10,
      "outputs": [
        {
          "output_type": "stream",
          "text": [
            "/usr/local/lib/python3.6/dist-packages/statsmodels/tools/_testing.py:19: FutureWarning: pandas.util.testing is deprecated. Use the functions in the public API at pandas.testing instead.\n",
            "  import pandas.util.testing as tm\n"
          ],
          "name": "stderr"
        },
        {
          "output_type": "display_data",
          "data": {
            "image/png": "[encoded data removed]",
            "text/plain": [
              "<Figure size 864x576 with 1 Axes>"
            ]
          },
          "metadata": {
            "tags": []
          }
        }
      ]
    },
    {
      "cell_type": "markdown",
      "metadata": {
        "id": "_qs8l_htmOGs",
        "colab_type": "text"
      },
      "source": [
        "The `Confirmed` column in the `data_covid19` dataset contains the number of confirmed cases for each day. We will add a new column `Confirmed_total` to the dataset that contains the number of confirmed cases up until that day:"
      ]
    },
    {
      "cell_type": "code",
      "metadata": {
        "id": "aqburFdhmOGt",
        "colab_type": "code",
        "colab": {}
      },
      "source": [
        "data_covid19[\"Confirmed_total\"] = data_covid19.groupby('Key')['Confirmed'].transform(pd.Series.cumsum)"
      ],
      "execution_count": 0,
      "outputs": []
    },
    {
      "cell_type": "markdown",
      "metadata": {
        "id": "hDO3-fZOmOGy",
        "colab_type": "text"
      },
      "source": [
        "*Use the `.lineplot` method in Seaborn to plot, for each country (on the sample plot), the total number of confirmed cases (x-axis) against the confirmed cases for each day (y-axis):*"
      ]
    },
    {
      "cell_type": "code",
      "metadata": {
        "id": "JAvb7EXwmOGz",
        "colab_type": "code",
        "outputId": "65fcb668-c560-4feb-fbc5-dab4245cb60c",
        "colab": {
          "base_uri": "https://localhost:8080/",
          "height": 498
        }
      },
      "source": [
        "plt.figure(figsize=(12,8))\n",
        "\n",
        "###Start code here\n",
        "sns.lineplot(x=\"Confirmed_total\",y=\"Confirmed\",hue=\"Key\",data=data_covid19,palette=\"Paired\")\n",
        "###End code here\n",
        "\n",
        "plt.show()"
      ],
      "execution_count": 12,
      "outputs": [
        {
          "output_type": "display_data",
          "data": {
            "image/png": "[encoded data removed]",
            "text/plain": [
              "<Figure size 864x576 with 1 Axes>"
            ]
          },
          "metadata": {
            "tags": []
          }
        }
      ]
    },
    {
      "cell_type": "markdown",
      "metadata": {
        "id": "A68obAvkmOG5",
        "colab_type": "text"
      },
      "source": [
        "*Add a new column to `data_covid19` called  `Deaths_total` that contains the number of deaths up unitl that day:*"
      ]
    },
    {
      "cell_type": "code",
      "metadata": {
        "id": "NMEUKKK2mOG6",
        "colab_type": "code",
        "colab": {}
      },
      "source": [
        "###Start code here\n",
        "data_covid19[\"Deaths_total\"] = data_covid19.groupby('Key')['Deaths'].transform(pd.Series.cumsum)\n",
        "###End code here"
      ],
      "execution_count": 0,
      "outputs": []
    },
    {
      "cell_type": "markdown",
      "metadata": {
        "id": "gINrpimmmOHC",
        "colab_type": "text"
      },
      "source": [
        "*Use the `.lineplot` method to plot these two new columns with a line for each country:*"
      ]
    },
    {
      "cell_type": "code",
      "metadata": {
        "id": "B50ORqNImOHD",
        "colab_type": "code",
        "outputId": "7aabe9bb-a85f-46a4-eb35-c5d76c0c1eb4",
        "colab": {
          "base_uri": "https://localhost:8080/",
          "height": 498
        }
      },
      "source": [
        "plt.figure(figsize=(12,8))\n",
        "\n",
        "###Start code here\n",
        "sns.lineplot(x=\"Confirmed_total\",y=\"Deaths_total\",hue=\"Key\",data=data_covid19,palette=\"Paired\")\n",
        "###End code here\n",
        "\n",
        "plt.show()"
      ],
      "execution_count": 14,
      "outputs": [
        {
          "output_type": "display_data",
          "data": {
            "image/png": "[encoded data removed]",
            "text/plain": [
              "<Figure size 864x576 with 1 Axes>"
            ]
          },
          "metadata": {
            "tags": []
          }
        }
      ]
    },
    {
      "cell_type": "markdown",
      "metadata": {
        "id": "tT8bOffymOHJ",
        "colab_type": "text"
      },
      "source": [
        "*Create one more interesting plot from this dataset:*"
      ]
    },
    {
      "cell_type": "code",
      "metadata": {
        "id": "e9L_ssX3okDv",
        "colab_type": "code",
        "colab": {}
      },
      "source": [
        "###Start code here\n",
        "\n",
        "###End code here"
      ],
      "execution_count": 0,
      "outputs": []
    }
  ]
}