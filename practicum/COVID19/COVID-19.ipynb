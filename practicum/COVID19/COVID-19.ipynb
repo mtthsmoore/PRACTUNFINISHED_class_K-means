{
  "nbformat": 4,
  "nbformat_minor": 0,
  "metadata": {
    "kernelspec": {
      "display_name": "Python 3",
      "language": "python",
      "name": "python3"
    },
    "language_info": {
      "codemirror_mode": {
        "name": "ipython",
        "version": 3
      },
      "file_extension": ".py",
      "mimetype": "text/x-python",
      "name": "python",
      "nbconvert_exporter": "python",
      "pygments_lexer": "ipython3",
      "version": "3.7.3"
    },
    "colab": {
      "name": "COVID-19.ipynb",
      "provenance": []
    }
  },
  "cells": [
    {
      "cell_type": "code",
      "metadata": {
        "id": "O1cdy082mOFW",
        "colab_type": "code",
        "colab": {
          "base_uri": "https://localhost:8080/",
          "height": 72
        },
        "outputId": "b6b7d8fe-4b97-42ed-c353-dce937277a12"
      },
      "source": [
        "%matplotlib inline\n",
        "import matplotlib.pyplot as plt\n",
        "import numpy as np\n",
        "import pandas as pd\n",
        "import seaborn as sns\n",
        "sns.set_style(\"white\")"
      ],
      "execution_count": 1,
      "outputs": [
        {
          "output_type": "stream",
          "text": [
            "/usr/local/lib/python3.6/dist-packages/statsmodels/tools/_testing.py:19: FutureWarning: pandas.util.testing is deprecated. Use the functions in the public API at pandas.testing instead.\n",
            "  import pandas.util.testing as tm\n"
          ],
          "name": "stderr"
        }
      ]
    },
    {
      "cell_type": "markdown",
      "metadata": {
        "id": "ZLta-Y0PmOFd",
        "colab_type": "text"
      },
      "source": [
        "# COVID-19 Pandas + Seaborn\n",
        "\n",
        "\n",
        "In this project you will apply your Python Pandas and Seaborn skills to obtain useful insights into the live COVID-19 data. The [dataset](https://github.com/open-covid-19/data) is a processed version of the main [COVID-19 data repository](https://github.com/CSSEGISandData/COVID-19) for the 2019 Novel Coronavirus Visual Dashboard that is operated by the Johns Hopkins University Center for Systems Science and Engineering (JHU CSSE). Also, Supported by ESRI Living Atlas Team and the Johns Hopkins University Applied Physics Lab (JHU APL).\n",
        "\n",
        "The dataset is updated on a public GitHub repository, so we can donwload the most recent verion as follows:"
      ]
    },
    {
      "cell_type": "code",
      "metadata": {
        "id": "RzmEGE3GmOFf",
        "colab_type": "code",
        "colab": {}
      },
      "source": [
        "data_covid19 = pd.read_csv(\"https://open-covid-19.github.io/data/data.csv\",parse_dates=[\"Date\"],index_col=\"Date\")"
      ],
      "execution_count": 0,
      "outputs": []
    },
    {
      "cell_type": "markdown",
      "metadata": {
        "id": "sWas313MmOFk",
        "colab_type": "text"
      },
      "source": [
        "*How many rows and how many columns does this dataset have?*"
      ]
    },
    {
      "cell_type": "code",
      "metadata": {
        "id": "GeGGt--KmOFl",
        "colab_type": "code",
        "colab": {
          "base_uri": "https://localhost:8080/",
          "height": 35
        },
        "outputId": "7422ba3d-1ca3-445f-b729-a9aa3831b32e"
      },
      "source": [
        "data_covid19.shape"
      ],
      "execution_count": 3,
      "outputs": [
        {
          "output_type": "execute_result",
          "data": {
            "text/plain": [
              "(27013, 10)"
            ]
          },
          "metadata": {
            "tags": []
          },
          "execution_count": 3
        }
      ]
    },
    {
      "cell_type": "markdown",
      "metadata": {
        "id": "N_E6PaDCmOFt",
        "colab_type": "text"
      },
      "source": [
        "*Print the first 20 rows in the dataset.*"
      ]
    },
    {
      "cell_type": "code",
      "metadata": {
        "id": "CQcEo-gVmOFv",
        "colab_type": "code",
        "colab": {
          "base_uri": "https://localhost:8080/",
          "height": 693
        },
        "outputId": "42bfc14e-bad5-4eeb-9d95-a16931b38161"
      },
      "source": [
        "data_covid19.head(20)"
      ],
      "execution_count": 4,
      "outputs": [
        {
          "output_type": "execute_result",
          "data": {
            "text/html": [
              "<div>\n",
              "<style scoped>\n",
              "    .dataframe tbody tr th:only-of-type {\n",
              "        vertical-align: middle;\n",
              "    }\n",
              "\n",
              "    .dataframe tbody tr th {\n",
              "        vertical-align: top;\n",
              "    }\n",
              "\n",
              "    .dataframe thead th {\n",
              "        text-align: right;\n",
              "    }\n",
              "</style>\n",
              "<table border=\"1\" class=\"dataframe\">\n",
              "  <thead>\n",
              "    <tr style=\"text-align: right;\">\n",
              "      <th></th>\n",
              "      <th>Key</th>\n",
              "      <th>CountryCode</th>\n",
              "      <th>CountryName</th>\n",
              "      <th>RegionCode</th>\n",
              "      <th>RegionName</th>\n",
              "      <th>Confirmed</th>\n",
              "      <th>Deaths</th>\n",
              "      <th>Latitude</th>\n",
              "      <th>Longitude</th>\n",
              "      <th>Population</th>\n",
              "    </tr>\n",
              "    <tr>\n",
              "      <th>Date</th>\n",
              "      <th></th>\n",
              "      <th></th>\n",
              "      <th></th>\n",
              "      <th></th>\n",
              "      <th></th>\n",
              "      <th></th>\n",
              "      <th></th>\n",
              "      <th></th>\n",
              "      <th></th>\n",
              "      <th></th>\n",
              "    </tr>\n",
              "  </thead>\n",
              "  <tbody>\n",
              "    <tr>\n",
              "      <th>2019-12-31</th>\n",
              "      <td>AE</td>\n",
              "      <td>AE</td>\n",
              "      <td>United Arab Emirates</td>\n",
              "      <td>NaN</td>\n",
              "      <td>NaN</td>\n",
              "      <td>0.0</td>\n",
              "      <td>0.0</td>\n",
              "      <td>23.424076</td>\n",
              "      <td>53.847818</td>\n",
              "      <td>9.770529e+06</td>\n",
              "    </tr>\n",
              "    <tr>\n",
              "      <th>2019-12-31</th>\n",
              "      <td>AF</td>\n",
              "      <td>AF</td>\n",
              "      <td>Afghanistan</td>\n",
              "      <td>NaN</td>\n",
              "      <td>NaN</td>\n",
              "      <td>0.0</td>\n",
              "      <td>0.0</td>\n",
              "      <td>33.939110</td>\n",
              "      <td>67.709953</td>\n",
              "      <td>3.804175e+07</td>\n",
              "    </tr>\n",
              "    <tr>\n",
              "      <th>2019-12-31</th>\n",
              "      <td>AM</td>\n",
              "      <td>AM</td>\n",
              "      <td>Armenia</td>\n",
              "      <td>NaN</td>\n",
              "      <td>NaN</td>\n",
              "      <td>0.0</td>\n",
              "      <td>0.0</td>\n",
              "      <td>40.069099</td>\n",
              "      <td>45.038189</td>\n",
              "      <td>2.957731e+06</td>\n",
              "    </tr>\n",
              "    <tr>\n",
              "      <th>2019-12-31</th>\n",
              "      <td>AT</td>\n",
              "      <td>AT</td>\n",
              "      <td>Austria</td>\n",
              "      <td>NaN</td>\n",
              "      <td>NaN</td>\n",
              "      <td>0.0</td>\n",
              "      <td>0.0</td>\n",
              "      <td>47.516231</td>\n",
              "      <td>14.550072</td>\n",
              "      <td>8.955102e+06</td>\n",
              "    </tr>\n",
              "    <tr>\n",
              "      <th>2019-12-31</th>\n",
              "      <td>AU</td>\n",
              "      <td>AU</td>\n",
              "      <td>Australia</td>\n",
              "      <td>NaN</td>\n",
              "      <td>NaN</td>\n",
              "      <td>0.0</td>\n",
              "      <td>0.0</td>\n",
              "      <td>-25.274398</td>\n",
              "      <td>133.775136</td>\n",
              "      <td>2.520320e+07</td>\n",
              "    </tr>\n",
              "    <tr>\n",
              "      <th>2019-12-31</th>\n",
              "      <td>AZ</td>\n",
              "      <td>AZ</td>\n",
              "      <td>Azerbaijan</td>\n",
              "      <td>NaN</td>\n",
              "      <td>NaN</td>\n",
              "      <td>0.0</td>\n",
              "      <td>0.0</td>\n",
              "      <td>40.143105</td>\n",
              "      <td>47.576927</td>\n",
              "      <td>1.004772e+07</td>\n",
              "    </tr>\n",
              "    <tr>\n",
              "      <th>2019-12-31</th>\n",
              "      <td>BE</td>\n",
              "      <td>BE</td>\n",
              "      <td>Belgium</td>\n",
              "      <td>NaN</td>\n",
              "      <td>NaN</td>\n",
              "      <td>0.0</td>\n",
              "      <td>0.0</td>\n",
              "      <td>50.503887</td>\n",
              "      <td>4.469936</td>\n",
              "      <td>1.153933e+07</td>\n",
              "    </tr>\n",
              "    <tr>\n",
              "      <th>2019-12-31</th>\n",
              "      <td>BH</td>\n",
              "      <td>BH</td>\n",
              "      <td>Bahrain</td>\n",
              "      <td>NaN</td>\n",
              "      <td>NaN</td>\n",
              "      <td>0.0</td>\n",
              "      <td>0.0</td>\n",
              "      <td>25.930414</td>\n",
              "      <td>50.637772</td>\n",
              "      <td>1.641172e+06</td>\n",
              "    </tr>\n",
              "    <tr>\n",
              "      <th>2019-12-31</th>\n",
              "      <td>BR</td>\n",
              "      <td>BR</td>\n",
              "      <td>Brazil</td>\n",
              "      <td>NaN</td>\n",
              "      <td>NaN</td>\n",
              "      <td>0.0</td>\n",
              "      <td>0.0</td>\n",
              "      <td>-14.235004</td>\n",
              "      <td>-51.925280</td>\n",
              "      <td>2.110495e+08</td>\n",
              "    </tr>\n",
              "    <tr>\n",
              "      <th>2019-12-31</th>\n",
              "      <td>BY</td>\n",
              "      <td>BY</td>\n",
              "      <td>Belarus</td>\n",
              "      <td>NaN</td>\n",
              "      <td>NaN</td>\n",
              "      <td>0.0</td>\n",
              "      <td>0.0</td>\n",
              "      <td>53.709807</td>\n",
              "      <td>27.953389</td>\n",
              "      <td>9.452411e+06</td>\n",
              "    </tr>\n",
              "    <tr>\n",
              "      <th>2019-12-31</th>\n",
              "      <td>CA</td>\n",
              "      <td>CA</td>\n",
              "      <td>Canada</td>\n",
              "      <td>NaN</td>\n",
              "      <td>NaN</td>\n",
              "      <td>0.0</td>\n",
              "      <td>0.0</td>\n",
              "      <td>56.130366</td>\n",
              "      <td>-106.346771</td>\n",
              "      <td>3.741105e+07</td>\n",
              "    </tr>\n",
              "    <tr>\n",
              "      <th>2019-12-31</th>\n",
              "      <td>CH</td>\n",
              "      <td>CH</td>\n",
              "      <td>Switzerland</td>\n",
              "      <td>NaN</td>\n",
              "      <td>NaN</td>\n",
              "      <td>0.0</td>\n",
              "      <td>0.0</td>\n",
              "      <td>46.818188</td>\n",
              "      <td>8.227512</td>\n",
              "      <td>8.591365e+06</td>\n",
              "    </tr>\n",
              "    <tr>\n",
              "      <th>2019-12-31</th>\n",
              "      <td>CN</td>\n",
              "      <td>CN</td>\n",
              "      <td>China</td>\n",
              "      <td>NaN</td>\n",
              "      <td>NaN</td>\n",
              "      <td>27.0</td>\n",
              "      <td>0.0</td>\n",
              "      <td>35.861660</td>\n",
              "      <td>104.195397</td>\n",
              "      <td>1.433784e+09</td>\n",
              "    </tr>\n",
              "    <tr>\n",
              "      <th>2019-12-31</th>\n",
              "      <td>CZ</td>\n",
              "      <td>CZ</td>\n",
              "      <td>Czech Republic</td>\n",
              "      <td>NaN</td>\n",
              "      <td>NaN</td>\n",
              "      <td>0.0</td>\n",
              "      <td>0.0</td>\n",
              "      <td>49.817492</td>\n",
              "      <td>15.472962</td>\n",
              "      <td>1.068921e+07</td>\n",
              "    </tr>\n",
              "    <tr>\n",
              "      <th>2019-12-31</th>\n",
              "      <td>DE</td>\n",
              "      <td>DE</td>\n",
              "      <td>Germany</td>\n",
              "      <td>NaN</td>\n",
              "      <td>NaN</td>\n",
              "      <td>0.0</td>\n",
              "      <td>0.0</td>\n",
              "      <td>51.165691</td>\n",
              "      <td>10.451526</td>\n",
              "      <td>8.351704e+07</td>\n",
              "    </tr>\n",
              "    <tr>\n",
              "      <th>2019-12-31</th>\n",
              "      <td>DK</td>\n",
              "      <td>DK</td>\n",
              "      <td>Denmark</td>\n",
              "      <td>NaN</td>\n",
              "      <td>NaN</td>\n",
              "      <td>0.0</td>\n",
              "      <td>0.0</td>\n",
              "      <td>56.263920</td>\n",
              "      <td>9.501785</td>\n",
              "      <td>5.771876e+06</td>\n",
              "    </tr>\n",
              "    <tr>\n",
              "      <th>2019-12-31</th>\n",
              "      <td>DO</td>\n",
              "      <td>DO</td>\n",
              "      <td>Dominican Republic</td>\n",
              "      <td>NaN</td>\n",
              "      <td>NaN</td>\n",
              "      <td>0.0</td>\n",
              "      <td>0.0</td>\n",
              "      <td>18.735693</td>\n",
              "      <td>-70.162651</td>\n",
              "      <td>1.073896e+07</td>\n",
              "    </tr>\n",
              "    <tr>\n",
              "      <th>2019-12-31</th>\n",
              "      <td>DZ</td>\n",
              "      <td>DZ</td>\n",
              "      <td>Algeria</td>\n",
              "      <td>NaN</td>\n",
              "      <td>NaN</td>\n",
              "      <td>0.0</td>\n",
              "      <td>0.0</td>\n",
              "      <td>28.033886</td>\n",
              "      <td>1.659626</td>\n",
              "      <td>4.305305e+07</td>\n",
              "    </tr>\n",
              "    <tr>\n",
              "      <th>2019-12-31</th>\n",
              "      <td>EC</td>\n",
              "      <td>EC</td>\n",
              "      <td>Ecuador</td>\n",
              "      <td>NaN</td>\n",
              "      <td>NaN</td>\n",
              "      <td>0.0</td>\n",
              "      <td>0.0</td>\n",
              "      <td>-1.831239</td>\n",
              "      <td>-78.183406</td>\n",
              "      <td>1.737366e+07</td>\n",
              "    </tr>\n",
              "    <tr>\n",
              "      <th>2019-12-31</th>\n",
              "      <td>EE</td>\n",
              "      <td>EE</td>\n",
              "      <td>Estonia</td>\n",
              "      <td>NaN</td>\n",
              "      <td>NaN</td>\n",
              "      <td>0.0</td>\n",
              "      <td>0.0</td>\n",
              "      <td>58.595272</td>\n",
              "      <td>25.013607</td>\n",
              "      <td>1.325648e+06</td>\n",
              "    </tr>\n",
              "  </tbody>\n",
              "</table>\n",
              "</div>"
            ],
            "text/plain": [
              "           Key CountryCode  ...   Longitude    Population\n",
              "Date                        ...                          \n",
              "2019-12-31  AE          AE  ...   53.847818  9.770529e+06\n",
              "2019-12-31  AF          AF  ...   67.709953  3.804175e+07\n",
              "2019-12-31  AM          AM  ...   45.038189  2.957731e+06\n",
              "2019-12-31  AT          AT  ...   14.550072  8.955102e+06\n",
              "2019-12-31  AU          AU  ...  133.775136  2.520320e+07\n",
              "2019-12-31  AZ          AZ  ...   47.576927  1.004772e+07\n",
              "2019-12-31  BE          BE  ...    4.469936  1.153933e+07\n",
              "2019-12-31  BH          BH  ...   50.637772  1.641172e+06\n",
              "2019-12-31  BR          BR  ...  -51.925280  2.110495e+08\n",
              "2019-12-31  BY          BY  ...   27.953389  9.452411e+06\n",
              "2019-12-31  CA          CA  ... -106.346771  3.741105e+07\n",
              "2019-12-31  CH          CH  ...    8.227512  8.591365e+06\n",
              "2019-12-31  CN          CN  ...  104.195397  1.433784e+09\n",
              "2019-12-31  CZ          CZ  ...   15.472962  1.068921e+07\n",
              "2019-12-31  DE          DE  ...   10.451526  8.351704e+07\n",
              "2019-12-31  DK          DK  ...    9.501785  5.771876e+06\n",
              "2019-12-31  DO          DO  ...  -70.162651  1.073896e+07\n",
              "2019-12-31  DZ          DZ  ...    1.659626  4.305305e+07\n",
              "2019-12-31  EC          EC  ...  -78.183406  1.737366e+07\n",
              "2019-12-31  EE          EE  ...   25.013607  1.325648e+06\n",
              "\n",
              "[20 rows x 10 columns]"
            ]
          },
          "metadata": {
            "tags": []
          },
          "execution_count": 4
        }
      ]
    },
    {
      "cell_type": "markdown",
      "metadata": {
        "id": "Ntai-SM2mOF2",
        "colab_type": "text"
      },
      "source": [
        "The columns of\n",
        "[data_covid19](https://open-covid-19.github.io/data/data.csv) are:\n",
        "\n",
        "| Name | Description | Example |\n",
        "| ---- | ----------- | ------- |\n",
        "| **Date**\\* | ISO 8601 date (YYYY-MM-DD) of the datapoint | 2020-03-21 |\n",
        "| **Key** | `CountryCode` if country-level data, otherwise `${CountryCode}_${RegionCode}` | CN_HB |\n",
        "| **CountryCode** | ISO 3166-1 code of the country | CN |\n",
        "| **CountryName** | American English name of the country, subject to change | China |\n",
        "| **RegionCode** | (Optional) ISO 3166-2 or NUTS 2 code of the region | HB |\n",
        "| **RegionName** | (Optional) American English name of the region, subject to change | Hubei |\n",
        "| **Confirmed**\\*\\* | Total number of cases confirmed after positive test | 67800 |\n",
        "| **Deaths**\\*\\* | Total number of deaths from a positive COVID-19 case | 3139 |\n",
        "| **Latitude** | Floating point representing the geographic coordinate | 30.9756 |\n",
        "| **Longitude** | Floating point representing the geographic coordinate | 112.2707 |\n",
        "| **Population** | Total count of humans living in the region | 1.153933e+07 |\n",
        "\n",
        "\\*Date used is **reporting** date, which generally lags a day from the actual\n",
        "date and is subject to timezone adjustments. Whenever possible, dates\n",
        "consistent with the ECDC daily reports are used.\n",
        "\n",
        "\\*\\*Missing values will be represented as nulls, whereas zeroes are used when\n",
        "a true value of zero is reported. For example, US states where deaths are not\n",
        "being reported have null values.\n",
        "\n",
        "For countries where both country-level and region-level data is available, the\n",
        "entry which has a null value for the `RegionCode` and `RegionName` columns\n",
        "indicates country-level aggregation. Please note that, sometimes, the\n",
        "country-level data and the region-level data come from different sources so\n",
        "adding up all region-level values may not equal exactly to the reported\n",
        "country-level value. See the [data loading tutorial][7] for more information.\n",
        "\n",
        "The `CountryName` and `RegionName` values are subject to change. You may use\n",
        "them for labels in your application, but you should not assume that they will\n",
        "remain the same in future updates. Instead, use `CountryCode` and `RegionCode`\n",
        "to perform joins with other data sources or for filtering within your\n",
        "application."
      ]
    },
    {
      "cell_type": "markdown",
      "metadata": {
        "id": "lX3q1bmFmOF3",
        "colab_type": "text"
      },
      "source": [
        "For this analysis we will look at only a few countries. We can use the `Key` column to select these countries:"
      ]
    },
    {
      "cell_type": "code",
      "metadata": {
        "id": "IQsD8i8GmOF4",
        "colab_type": "code",
        "colab": {}
      },
      "source": [
        "countries = [\"FR\",\"BE\",\"SE\",\"CH\",\"AU\",\"NL\",\"CN\",\"JP\",\"GB\",\"ES\",\"IT\",\"US\"]\n",
        "\n",
        "data_covid19 = data_covid19[data_covid19[\"Key\"].isin(countries)]"
      ],
      "execution_count": 0,
      "outputs": []
    },
    {
      "cell_type": "markdown",
      "metadata": {
        "id": "d6PKhHUymOF-",
        "colab_type": "text"
      },
      "source": [
        "*Print the last 10 rows in the dataset where `Key` is BE*."
      ]
    },
    {
      "cell_type": "code",
      "metadata": {
        "id": "AqIdut0RmOGA",
        "colab_type": "code",
        "colab": {
          "base_uri": "https://localhost:8080/",
          "height": 386
        },
        "outputId": "0b928e5b-38a7-4589-9bef-965f4f705b5b"
      },
      "source": [
        "data_covid19[data_covid19[\"Key\"]==\"BE\"].tail(10)"
      ],
      "execution_count": 6,
      "outputs": [
        {
          "output_type": "execute_result",
          "data": {
            "text/html": [
              "<div>\n",
              "<style scoped>\n",
              "    .dataframe tbody tr th:only-of-type {\n",
              "        vertical-align: middle;\n",
              "    }\n",
              "\n",
              "    .dataframe tbody tr th {\n",
              "        vertical-align: top;\n",
              "    }\n",
              "\n",
              "    .dataframe thead th {\n",
              "        text-align: right;\n",
              "    }\n",
              "</style>\n",
              "<table border=\"1\" class=\"dataframe\">\n",
              "  <thead>\n",
              "    <tr style=\"text-align: right;\">\n",
              "      <th></th>\n",
              "      <th>Key</th>\n",
              "      <th>CountryCode</th>\n",
              "      <th>CountryName</th>\n",
              "      <th>RegionCode</th>\n",
              "      <th>RegionName</th>\n",
              "      <th>Confirmed</th>\n",
              "      <th>Deaths</th>\n",
              "      <th>Latitude</th>\n",
              "      <th>Longitude</th>\n",
              "      <th>Population</th>\n",
              "    </tr>\n",
              "    <tr>\n",
              "      <th>Date</th>\n",
              "      <th></th>\n",
              "      <th></th>\n",
              "      <th></th>\n",
              "      <th></th>\n",
              "      <th></th>\n",
              "      <th></th>\n",
              "      <th></th>\n",
              "      <th></th>\n",
              "      <th></th>\n",
              "      <th></th>\n",
              "    </tr>\n",
              "  </thead>\n",
              "  <tbody>\n",
              "    <tr>\n",
              "      <th>2020-03-28</th>\n",
              "      <td>BE</td>\n",
              "      <td>BE</td>\n",
              "      <td>Belgium</td>\n",
              "      <td>NaN</td>\n",
              "      <td>NaN</td>\n",
              "      <td>7284.0</td>\n",
              "      <td>289.0</td>\n",
              "      <td>50.503887</td>\n",
              "      <td>4.469936</td>\n",
              "      <td>11539328.0</td>\n",
              "    </tr>\n",
              "    <tr>\n",
              "      <th>2020-03-29</th>\n",
              "      <td>BE</td>\n",
              "      <td>BE</td>\n",
              "      <td>Belgium</td>\n",
              "      <td>NaN</td>\n",
              "      <td>NaN</td>\n",
              "      <td>9134.0</td>\n",
              "      <td>353.0</td>\n",
              "      <td>50.503887</td>\n",
              "      <td>4.469936</td>\n",
              "      <td>11539328.0</td>\n",
              "    </tr>\n",
              "    <tr>\n",
              "      <th>2020-03-30</th>\n",
              "      <td>BE</td>\n",
              "      <td>BE</td>\n",
              "      <td>Belgium</td>\n",
              "      <td>NaN</td>\n",
              "      <td>NaN</td>\n",
              "      <td>10836.0</td>\n",
              "      <td>431.0</td>\n",
              "      <td>50.503887</td>\n",
              "      <td>4.469936</td>\n",
              "      <td>11539328.0</td>\n",
              "    </tr>\n",
              "    <tr>\n",
              "      <th>2020-03-31</th>\n",
              "      <td>BE</td>\n",
              "      <td>BE</td>\n",
              "      <td>Belgium</td>\n",
              "      <td>NaN</td>\n",
              "      <td>NaN</td>\n",
              "      <td>11899.0</td>\n",
              "      <td>513.0</td>\n",
              "      <td>50.503887</td>\n",
              "      <td>4.469936</td>\n",
              "      <td>11539328.0</td>\n",
              "    </tr>\n",
              "    <tr>\n",
              "      <th>2020-04-01</th>\n",
              "      <td>BE</td>\n",
              "      <td>BE</td>\n",
              "      <td>Belgium</td>\n",
              "      <td>NaN</td>\n",
              "      <td>NaN</td>\n",
              "      <td>12775.0</td>\n",
              "      <td>705.0</td>\n",
              "      <td>50.503887</td>\n",
              "      <td>4.469936</td>\n",
              "      <td>11539328.0</td>\n",
              "    </tr>\n",
              "    <tr>\n",
              "      <th>2020-04-02</th>\n",
              "      <td>BE</td>\n",
              "      <td>BE</td>\n",
              "      <td>Belgium</td>\n",
              "      <td>NaN</td>\n",
              "      <td>NaN</td>\n",
              "      <td>13964.0</td>\n",
              "      <td>828.0</td>\n",
              "      <td>50.503887</td>\n",
              "      <td>4.469936</td>\n",
              "      <td>11539328.0</td>\n",
              "    </tr>\n",
              "    <tr>\n",
              "      <th>2020-04-03</th>\n",
              "      <td>BE</td>\n",
              "      <td>BE</td>\n",
              "      <td>Belgium</td>\n",
              "      <td>NaN</td>\n",
              "      <td>NaN</td>\n",
              "      <td>15348.0</td>\n",
              "      <td>1011.0</td>\n",
              "      <td>50.503887</td>\n",
              "      <td>4.469936</td>\n",
              "      <td>11539328.0</td>\n",
              "    </tr>\n",
              "    <tr>\n",
              "      <th>2020-04-04</th>\n",
              "      <td>BE</td>\n",
              "      <td>BE</td>\n",
              "      <td>Belgium</td>\n",
              "      <td>NaN</td>\n",
              "      <td>NaN</td>\n",
              "      <td>16770.0</td>\n",
              "      <td>1143.0</td>\n",
              "      <td>50.503887</td>\n",
              "      <td>4.469936</td>\n",
              "      <td>11539328.0</td>\n",
              "    </tr>\n",
              "    <tr>\n",
              "      <th>2020-04-05</th>\n",
              "      <td>BE</td>\n",
              "      <td>BE</td>\n",
              "      <td>Belgium</td>\n",
              "      <td>NaN</td>\n",
              "      <td>NaN</td>\n",
              "      <td>18431.0</td>\n",
              "      <td>1283.0</td>\n",
              "      <td>50.503887</td>\n",
              "      <td>4.469936</td>\n",
              "      <td>11539328.0</td>\n",
              "    </tr>\n",
              "    <tr>\n",
              "      <th>2020-04-06</th>\n",
              "      <td>BE</td>\n",
              "      <td>BE</td>\n",
              "      <td>Belgium</td>\n",
              "      <td>NaN</td>\n",
              "      <td>NaN</td>\n",
              "      <td>19691.0</td>\n",
              "      <td>1447.0</td>\n",
              "      <td>50.503887</td>\n",
              "      <td>4.469936</td>\n",
              "      <td>11539328.0</td>\n",
              "    </tr>\n",
              "  </tbody>\n",
              "</table>\n",
              "</div>"
            ],
            "text/plain": [
              "           Key CountryCode CountryName  ...   Latitude Longitude  Population\n",
              "Date                                    ...                                 \n",
              "2020-03-28  BE          BE     Belgium  ...  50.503887  4.469936  11539328.0\n",
              "2020-03-29  BE          BE     Belgium  ...  50.503887  4.469936  11539328.0\n",
              "2020-03-30  BE          BE     Belgium  ...  50.503887  4.469936  11539328.0\n",
              "2020-03-31  BE          BE     Belgium  ...  50.503887  4.469936  11539328.0\n",
              "2020-04-01  BE          BE     Belgium  ...  50.503887  4.469936  11539328.0\n",
              "2020-04-02  BE          BE     Belgium  ...  50.503887  4.469936  11539328.0\n",
              "2020-04-03  BE          BE     Belgium  ...  50.503887  4.469936  11539328.0\n",
              "2020-04-04  BE          BE     Belgium  ...  50.503887  4.469936  11539328.0\n",
              "2020-04-05  BE          BE     Belgium  ...  50.503887  4.469936  11539328.0\n",
              "2020-04-06  BE          BE     Belgium  ...  50.503887  4.469936  11539328.0\n",
              "\n",
              "[10 rows x 10 columns]"
            ]
          },
          "metadata": {
            "tags": []
          },
          "execution_count": 6
        }
      ]
    },
    {
      "cell_type": "markdown",
      "metadata": {
        "id": "mCTUUks9mOGM",
        "colab_type": "text"
      },
      "source": [
        "*Use the Pandas DataFrame `.describe()` method to print statistics about the confirmed cases for Belgium.*"
      ]
    },
    {
      "cell_type": "code",
      "metadata": {
        "id": "VwXftvsRmOGN",
        "colab_type": "code",
        "colab": {
          "base_uri": "https://localhost:8080/",
          "height": 173
        },
        "outputId": "d99ad603-9bce-470a-a896-03405d5139b3"
      },
      "source": [
        "data_covid19[data_covid19[\"Key\"]==\"BE\"][\"Confirmed\"].describe()"
      ],
      "execution_count": 7,
      "outputs": [
        {
          "output_type": "execute_result",
          "data": {
            "text/plain": [
              "count       98.000000\n",
              "mean      1768.897959\n",
              "std       4333.444846\n",
              "min          0.000000\n",
              "25%          0.000000\n",
              "50%          1.000000\n",
              "75%        377.750000\n",
              "max      19691.000000\n",
              "Name: Confirmed, dtype: float64"
            ]
          },
          "metadata": {
            "tags": []
          },
          "execution_count": 7
        }
      ]
    },
    {
      "cell_type": "markdown",
      "metadata": {
        "id": "j_FV0ViKmOGS",
        "colab_type": "text"
      },
      "source": [
        "Each row in the dataset represents a day and contains the number of confirmed cases in a region (country) for that day. You will plot the number of confirmed cases for each country up until today. To do so will first creaye a new DataFrame that contains the data to plot. \n",
        "\n",
        "In Pandas the `.groupby` method can group rows by the values in a certain column \"A\" such that the values in another column \"B\" can be aggegated. \n",
        "\n",
        "*Use these methods to print the total number confirmed cases for each country by assigning the correct columns to variables \"A\" and \"B\":*"
      ]
    },
    {
      "cell_type": "code",
      "metadata": {
        "id": "FP_iA6VSmOGT",
        "colab_type": "code",
        "colab": {
          "base_uri": "https://localhost:8080/",
          "height": 260
        },
        "outputId": "7a73dde2-522c-4bcd-bb9c-c5e4280aaddf"
      },
      "source": [
        "A = \"Key\"\n",
        "B = \"Confirmed\"\n",
        "\n",
        "total_confirmed = data_covid19.groupby(A)[B].sum()\n",
        "print(total_confirmed)"
      ],
      "execution_count": 8,
      "outputs": [
        {
          "output_type": "stream",
          "text": [
            "Key\n",
            "AU      65910.0\n",
            "BE     173352.0\n",
            "CH     243212.0\n",
            "CN    4644500.0\n",
            "ES    1444373.0\n",
            "FR     727154.0\n",
            "GB     355711.0\n",
            "IT    1812873.0\n",
            "JP      45083.0\n",
            "NL     162335.0\n",
            "SE      73408.0\n",
            "US    2506355.0\n",
            "Name: Confirmed, dtype: float64\n"
          ],
          "name": "stdout"
        }
      ]
    },
    {
      "cell_type": "markdown",
      "metadata": {
        "id": "NaEz503-mOGY",
        "colab_type": "text"
      },
      "source": [
        "To plot the result of the aggregagtion we need to transform the result in to a DataFrame was follows:"
      ]
    },
    {
      "cell_type": "code",
      "metadata": {
        "id": "J5iBX_ltmOGZ",
        "colab_type": "code",
        "colab": {
          "base_uri": "https://localhost:8080/",
          "height": 243
        },
        "outputId": "e5816b46-8faf-42bd-b2a6-8d66df63b029"
      },
      "source": [
        "total_confirmed = total_confirmed.reset_index(name = \"Confirmed\")\n",
        "print(total_confirmed)"
      ],
      "execution_count": 9,
      "outputs": [
        {
          "output_type": "stream",
          "text": [
            "   Key  Confirmed\n",
            "0   AU    65910.0\n",
            "1   BE   173352.0\n",
            "2   CH   243212.0\n",
            "3   CN  4644500.0\n",
            "4   ES  1444373.0\n",
            "5   FR   727154.0\n",
            "6   GB   355711.0\n",
            "7   IT  1812873.0\n",
            "8   JP    45083.0\n",
            "9   NL   162335.0\n",
            "10  SE    73408.0\n",
            "11  US  2506355.0\n"
          ],
          "name": "stdout"
        }
      ]
    },
    {
      "cell_type": "markdown",
      "metadata": {
        "id": "vD6ktDSYmOGf",
        "colab_type": "text"
      },
      "source": [
        "*Sort the countries in `total_confirmed` by confirmed cases in descending order.*"
      ]
    },
    {
      "cell_type": "code",
      "metadata": {
        "id": "a7eCUUTemOGg",
        "colab_type": "code",
        "colab": {
          "base_uri": "https://localhost:8080/",
          "height": 243
        },
        "outputId": "90d878d1-06ad-48dc-b793-62ab22d07c9e"
      },
      "source": [
        "total_confirmed = total_confirmed.sort_values(\"Confirmed\",ascending=False)\n",
        "print(total_confirmed)"
      ],
      "execution_count": 10,
      "outputs": [
        {
          "output_type": "stream",
          "text": [
            "   Key  Confirmed\n",
            "3   CN  4644500.0\n",
            "11  US  2506355.0\n",
            "7   IT  1812873.0\n",
            "4   ES  1444373.0\n",
            "5   FR   727154.0\n",
            "6   GB   355711.0\n",
            "2   CH   243212.0\n",
            "1   BE   173352.0\n",
            "9   NL   162335.0\n",
            "10  SE    73408.0\n",
            "0   AU    65910.0\n",
            "8   JP    45083.0\n"
          ],
          "name": "stdout"
        }
      ]
    },
    {
      "cell_type": "markdown",
      "metadata": {
        "id": "f0BGpXTcmOGm",
        "colab_type": "text"
      },
      "source": [
        "We are now ready to make a nice looking barplot using the Seaborn module.\n",
        "\n",
        "*Assign the correct data to the x and y-axis to plot this barplot:*"
      ]
    },
    {
      "cell_type": "code",
      "metadata": {
        "id": "S3uiDpJImOGn",
        "colab_type": "code",
        "colab": {
          "base_uri": "https://localhost:8080/",
          "height": 513
        },
        "outputId": "0d365fea-5d9b-4b04-afbf-ed36e36afd0a"
      },
      "source": [
        "x = total_confirmed[\"Key\"]\n",
        "y = total_confirmed[\"Confirmed\"]\n",
        "\n",
        "plt.figure(figsize=(12,8))\n",
        "plt.title(\"#confirmed cases/country\")\n",
        "sns.barplot(x=x,y=y,palette=\"Paired\")\n",
        "plt.xlabel(\"Country\")\n",
        "plt.show()"
      ],
      "execution_count": 11,
      "outputs": [
        {
          "output_type": "display_data",
          "data": {
            "image/png": "[encoded data removed]",
            "text/plain": [
              "<Figure size 864x576 with 1 Axes>"
            ]
          },
          "metadata": {
            "tags": []
          }
        }
      ]
    },
    {
      "cell_type": "markdown",
      "metadata": {
        "id": "_qs8l_htmOGs",
        "colab_type": "text"
      },
      "source": [
        "The `Confirmed` column in the `data_covid19` dataset contains the number of confirmed cases foreach day. We will add a new column `Confirmed_total` to the dataset that contains the number of confirmed cases up unitl that day:"
      ]
    },
    {
      "cell_type": "code",
      "metadata": {
        "id": "aqburFdhmOGt",
        "colab_type": "code",
        "colab": {}
      },
      "source": [
        "data_covid19[\"Confirmed_total\"] = data_covid19.groupby('Key')['Confirmed'].transform(pd.Series.cumsum)"
      ],
      "execution_count": 0,
      "outputs": []
    },
    {
      "cell_type": "markdown",
      "metadata": {
        "id": "hDO3-fZOmOGy",
        "colab_type": "text"
      },
      "source": [
        "*Use the `.lineplot` method in Seaborn to plot, for each country (on the sample plot), the total number of confirmed cases (x-axis) against the confirmed cases for each day (y-axis):*"
      ]
    },
    {
      "cell_type": "code",
      "metadata": {
        "id": "JAvb7EXwmOGz",
        "colab_type": "code",
        "colab": {
          "base_uri": "https://localhost:8080/",
          "height": 498
        },
        "outputId": "e1c83e28-d9da-4d29-db90-cf3090601577"
      },
      "source": [
        "plt.figure(figsize=(12,8))\n",
        "sns.lineplot(x=\"Confirmed_total\",y=\"Confirmed\",hue=\"Key\",data=data_covid19,palette=\"Paired\")\n",
        "plt.show()"
      ],
      "execution_count": 13,
      "outputs": [
        {
          "output_type": "display_data",
          "data": {
            "image/png": "[encoded data removed]",
            "text/plain": [
              "<Figure size 864x576 with 1 Axes>"
            ]
          },
          "metadata": {
            "tags": []
          }
        }
      ]
    },
    {
      "cell_type": "markdown",
      "metadata": {
        "id": "A68obAvkmOG5",
        "colab_type": "text"
      },
      "source": [
        "*Add a new column to `data_covid19` called  `Deaths_total` that contains the number of deaths up unitl that day:*"
      ]
    },
    {
      "cell_type": "code",
      "metadata": {
        "id": "NMEUKKK2mOG6",
        "colab_type": "code",
        "colab": {}
      },
      "source": [
        "data_covid19[\"Deaths_total\"] = data_covid19.groupby('Key')['Deaths'].transform(pd.Series.cumsum)"
      ],
      "execution_count": 0,
      "outputs": []
    },
    {
      "cell_type": "markdown",
      "metadata": {
        "id": "gINrpimmmOHC",
        "colab_type": "text"
      },
      "source": [
        "*Use the `.lineplot` method to plot these two new columns with a line for each country:*"
      ]
    },
    {
      "cell_type": "code",
      "metadata": {
        "id": "B50ORqNImOHD",
        "colab_type": "code",
        "colab": {
          "base_uri": "https://localhost:8080/",
          "height": 498
        },
        "outputId": "e43d12d6-0843-4a12-8717-22fbf484d02c"
      },
      "source": [
        "plt.figure(figsize=(12,8))\n",
        "sns.lineplot(x=\"Confirmed_total\",y=\"Deaths_total\",hue=\"Key\",data=data_covid19,palette=\"Paired\")\n",
        "plt.show()"
      ],
      "execution_count": 15,
      "outputs": [
        {
          "output_type": "display_data",
          "data": {
            "image/png": "[encoded data removed]",
            "text/plain": [
              "<Figure size 864x576 with 1 Axes>"
            ]
          },
          "metadata": {
            "tags": []
          }
        }
      ]
    },
    {
      "cell_type": "markdown",
      "metadata": {
        "id": "tT8bOffymOHJ",
        "colab_type": "text"
      },
      "source": [
        "Fnally, you will plot, for each country, the number of deaths against the population size usig the Seaborn `lmplot()` method. You will need the `.groupby` method wiht aggregation to create a DataFrame with three columns: `Key`, `Population` and `Deaths`. Then you will plot `Population` (y-axis) against the number of deaths (x-axis) for each country.\n",
        "\n",
        "*Make the plot (tip: you can use more than one column in the `.groupby()` method.* "
      ]
    },
    {
      "cell_type": "code",
      "metadata": {
        "id": "e9L_ssX3okDv",
        "colab_type": "code",
        "colab": {
          "base_uri": "https://localhost:8080/",
          "height": 243
        },
        "outputId": "dd719fa5-3f03-4108-dbc3-913885ae1bfd"
      },
      "source": [
        "A = [\"Key\",\"Population\"]\n",
        "B = \"Deaths\"\n",
        "\n",
        "total_deaths = data_covid19.groupby(A)[B].sum()\n",
        "total_deaths = total_deaths.reset_index(name = \"Deaths Total\")\n",
        "print(total_deaths)"
      ],
      "execution_count": 38,
      "outputs": [
        {
          "output_type": "stream",
          "text": [
            "   Key    Population  Deaths Total\n",
            "0   AU  2.520320e+07         347.0\n",
            "1   BE  1.153933e+07        8852.0\n",
            "2   CH  8.591365e+06        4970.0\n",
            "3   CN  1.433784e+09      164005.0\n",
            "4   ES  4.673678e+07      119188.0\n",
            "5   FR  6.512973e+07       52301.0\n",
            "6   GB  6.753017e+07       27459.0\n",
            "7   IT  6.055008e+07      189668.0\n",
            "8   JP  1.268603e+08        1204.0\n",
            "9   NL  1.709713e+07       11469.0\n",
            "10  SE  1.003638e+07        2526.0\n",
            "11  US  3.290649e+08       55843.0\n"
          ],
          "name": "stdout"
        }
      ]
    },
    {
      "cell_type": "markdown",
      "metadata": {
        "id": "IAZ58zOgmOHP",
        "colab_type": "text"
      },
      "source": [
        "*Now create a scatter plot with `Deaths` on the x-axis and `Population` on the y-axis:*"
      ]
    },
    {
      "cell_type": "code",
      "metadata": {
        "id": "RFdvHYG_mOHQ",
        "colab_type": "code",
        "colab": {
          "base_uri": "https://localhost:8080/",
          "height": 673
        },
        "outputId": "cb2cc9c6-3e8f-4861-9687-cceda08fb57a"
      },
      "source": [
        "sns.lmplot(x=\"Population\",y=\"Deaths Total\",hue=\"Key\",data=total_deaths,fit_reg=False,palette=\"Paired\",aspect=2.)"
      ],
      "execution_count": 39,
      "outputs": [
        {
          "output_type": "error",
          "ename": "IndexError",
          "evalue": "ignored",
          "traceback": [
            "\u001b[0;31m---------------------------------------------------------------------------\u001b[0m",
            "\u001b[0;31mIndexError\u001b[0m                                Traceback (most recent call last)",
            "\u001b[0;32m<ipython-input-39-491a9e5ea083>\u001b[0m in \u001b[0;36m<module>\u001b[0;34m()\u001b[0m\n\u001b[0;32m----> 1\u001b[0;31m \u001b[0msns\u001b[0m\u001b[0;34m.\u001b[0m\u001b[0mlmplot\u001b[0m\u001b[0;34m(\u001b[0m\u001b[0mx\u001b[0m\u001b[0;34m=\u001b[0m\u001b[0;34m\"Population\"\u001b[0m\u001b[0;34m,\u001b[0m\u001b[0my\u001b[0m\u001b[0;34m=\u001b[0m\u001b[0;34m\"Deaths Total\"\u001b[0m\u001b[0;34m,\u001b[0m\u001b[0mhue\u001b[0m\u001b[0;34m=\u001b[0m\u001b[0;34m\"Key\"\u001b[0m\u001b[0;34m,\u001b[0m\u001b[0mdata\u001b[0m\u001b[0;34m=\u001b[0m\u001b[0mtotal_deaths\u001b[0m\u001b[0;34m,\u001b[0m\u001b[0mfit_reg\u001b[0m\u001b[0;34m=\u001b[0m\u001b[0;32mFalse\u001b[0m\u001b[0;34m,\u001b[0m\u001b[0mpalette\u001b[0m\u001b[0;34m=\u001b[0m\u001b[0;34m\"Paired\"\u001b[0m\u001b[0;34m,\u001b[0m\u001b[0maspect\u001b[0m\u001b[0;34m=\u001b[0m\u001b[0;36m2.\u001b[0m\u001b[0;34m)\u001b[0m\u001b[0;34m\u001b[0m\u001b[0;34m\u001b[0m\u001b[0m\n\u001b[0m",
            "\u001b[0;32m/usr/local/lib/python3.6/dist-packages/seaborn/regression.py\u001b[0m in \u001b[0;36mlmplot\u001b[0;34m(x, y, data, hue, col, row, palette, col_wrap, height, aspect, markers, sharex, sharey, hue_order, col_order, row_order, legend, legend_out, x_estimator, x_bins, x_ci, scatter, fit_reg, ci, n_boot, units, seed, order, logistic, lowess, robust, logx, x_partial, y_partial, truncate, x_jitter, y_jitter, scatter_kws, line_kws, size)\u001b[0m\n\u001b[1;32m    615\u001b[0m         \u001b[0mscatter_kws\u001b[0m\u001b[0;34m=\u001b[0m\u001b[0mscatter_kws\u001b[0m\u001b[0;34m,\u001b[0m \u001b[0mline_kws\u001b[0m\u001b[0;34m=\u001b[0m\u001b[0mline_kws\u001b[0m\u001b[0;34m,\u001b[0m\u001b[0;34m\u001b[0m\u001b[0;34m\u001b[0m\u001b[0m\n\u001b[1;32m    616\u001b[0m         )\n\u001b[0;32m--> 617\u001b[0;31m     \u001b[0mfacets\u001b[0m\u001b[0;34m.\u001b[0m\u001b[0mmap_dataframe\u001b[0m\u001b[0;34m(\u001b[0m\u001b[0mregplot\u001b[0m\u001b[0;34m,\u001b[0m \u001b[0mx\u001b[0m\u001b[0;34m,\u001b[0m \u001b[0my\u001b[0m\u001b[0;34m,\u001b[0m \u001b[0;34m**\u001b[0m\u001b[0mregplot_kws\u001b[0m\u001b[0;34m)\u001b[0m\u001b[0;34m\u001b[0m\u001b[0;34m\u001b[0m\u001b[0m\n\u001b[0m\u001b[1;32m    618\u001b[0m \u001b[0;34m\u001b[0m\u001b[0m\n\u001b[1;32m    619\u001b[0m     \u001b[0;31m# Add a legend\u001b[0m\u001b[0;34m\u001b[0m\u001b[0;34m\u001b[0m\u001b[0;34m\u001b[0m\u001b[0m\n",
            "\u001b[0;32m/usr/local/lib/python3.6/dist-packages/seaborn/axisgrid.py\u001b[0m in \u001b[0;36mmap_dataframe\u001b[0;34m(self, func, *args, **kwargs)\u001b[0m\n\u001b[1;32m    831\u001b[0m \u001b[0;34m\u001b[0m\u001b[0m\n\u001b[1;32m    832\u001b[0m             \u001b[0;31m# Draw the plot\u001b[0m\u001b[0;34m\u001b[0m\u001b[0;34m\u001b[0m\u001b[0;34m\u001b[0m\u001b[0m\n\u001b[0;32m--> 833\u001b[0;31m             \u001b[0mself\u001b[0m\u001b[0;34m.\u001b[0m\u001b[0m_facet_plot\u001b[0m\u001b[0;34m(\u001b[0m\u001b[0mfunc\u001b[0m\u001b[0;34m,\u001b[0m \u001b[0max\u001b[0m\u001b[0;34m,\u001b[0m \u001b[0margs\u001b[0m\u001b[0;34m,\u001b[0m \u001b[0mkwargs\u001b[0m\u001b[0;34m)\u001b[0m\u001b[0;34m\u001b[0m\u001b[0;34m\u001b[0m\u001b[0m\n\u001b[0m\u001b[1;32m    834\u001b[0m \u001b[0;34m\u001b[0m\u001b[0m\n\u001b[1;32m    835\u001b[0m         \u001b[0;31m# Finalize the annotations and layout\u001b[0m\u001b[0;34m\u001b[0m\u001b[0;34m\u001b[0m\u001b[0;34m\u001b[0m\u001b[0m\n",
            "\u001b[0;32m/usr/local/lib/python3.6/dist-packages/seaborn/axisgrid.py\u001b[0m in \u001b[0;36m_facet_plot\u001b[0;34m(self, func, ax, plot_args, plot_kwargs)\u001b[0m\n\u001b[1;32m    849\u001b[0m \u001b[0;34m\u001b[0m\u001b[0m\n\u001b[1;32m    850\u001b[0m         \u001b[0;31m# Draw the plot\u001b[0m\u001b[0;34m\u001b[0m\u001b[0;34m\u001b[0m\u001b[0;34m\u001b[0m\u001b[0m\n\u001b[0;32m--> 851\u001b[0;31m         \u001b[0mfunc\u001b[0m\u001b[0;34m(\u001b[0m\u001b[0;34m*\u001b[0m\u001b[0mplot_args\u001b[0m\u001b[0;34m,\u001b[0m \u001b[0;34m**\u001b[0m\u001b[0mplot_kwargs\u001b[0m\u001b[0;34m)\u001b[0m\u001b[0;34m\u001b[0m\u001b[0;34m\u001b[0m\u001b[0m\n\u001b[0m\u001b[1;32m    852\u001b[0m \u001b[0;34m\u001b[0m\u001b[0m\n\u001b[1;32m    853\u001b[0m         \u001b[0;31m# Sort out the supporting information\u001b[0m\u001b[0;34m\u001b[0m\u001b[0;34m\u001b[0m\u001b[0;34m\u001b[0m\u001b[0m\n",
            "\u001b[0;32m/usr/local/lib/python3.6/dist-packages/seaborn/regression.py\u001b[0m in \u001b[0;36mregplot\u001b[0;34m(x, y, data, x_estimator, x_bins, x_ci, scatter, fit_reg, ci, n_boot, units, seed, order, logistic, lowess, robust, logx, x_partial, y_partial, truncate, dropna, x_jitter, y_jitter, label, color, marker, scatter_kws, line_kws, ax)\u001b[0m\n\u001b[1;32m    808\u001b[0m                                  \u001b[0morder\u001b[0m\u001b[0;34m,\u001b[0m \u001b[0mlogistic\u001b[0m\u001b[0;34m,\u001b[0m \u001b[0mlowess\u001b[0m\u001b[0;34m,\u001b[0m \u001b[0mrobust\u001b[0m\u001b[0;34m,\u001b[0m \u001b[0mlogx\u001b[0m\u001b[0;34m,\u001b[0m\u001b[0;34m\u001b[0m\u001b[0;34m\u001b[0m\u001b[0m\n\u001b[1;32m    809\u001b[0m                                  \u001b[0mx_partial\u001b[0m\u001b[0;34m,\u001b[0m \u001b[0my_partial\u001b[0m\u001b[0;34m,\u001b[0m \u001b[0mtruncate\u001b[0m\u001b[0;34m,\u001b[0m \u001b[0mdropna\u001b[0m\u001b[0;34m,\u001b[0m\u001b[0;34m\u001b[0m\u001b[0;34m\u001b[0m\u001b[0m\n\u001b[0;32m--> 810\u001b[0;31m                                  x_jitter, y_jitter, color, label)\n\u001b[0m\u001b[1;32m    811\u001b[0m \u001b[0;34m\u001b[0m\u001b[0m\n\u001b[1;32m    812\u001b[0m     \u001b[0;32mif\u001b[0m \u001b[0max\u001b[0m \u001b[0;32mis\u001b[0m \u001b[0;32mNone\u001b[0m\u001b[0;34m:\u001b[0m\u001b[0;34m\u001b[0m\u001b[0;34m\u001b[0m\u001b[0m\n",
            "\u001b[0;32m/usr/local/lib/python3.6/dist-packages/seaborn/regression.py\u001b[0m in \u001b[0;36m__init__\u001b[0;34m(self, x, y, data, x_estimator, x_bins, x_ci, scatter, fit_reg, ci, n_boot, units, seed, order, logistic, lowess, robust, logx, x_partial, y_partial, truncate, dropna, x_jitter, y_jitter, color, label)\u001b[0m\n\u001b[1;32m    112\u001b[0m         \u001b[0;31m# Drop null observations\u001b[0m\u001b[0;34m\u001b[0m\u001b[0;34m\u001b[0m\u001b[0;34m\u001b[0m\u001b[0m\n\u001b[1;32m    113\u001b[0m         \u001b[0;32mif\u001b[0m \u001b[0mdropna\u001b[0m\u001b[0;34m:\u001b[0m\u001b[0;34m\u001b[0m\u001b[0;34m\u001b[0m\u001b[0m\n\u001b[0;32m--> 114\u001b[0;31m             \u001b[0mself\u001b[0m\u001b[0;34m.\u001b[0m\u001b[0mdropna\u001b[0m\u001b[0;34m(\u001b[0m\u001b[0;34m\"x\"\u001b[0m\u001b[0;34m,\u001b[0m \u001b[0;34m\"y\"\u001b[0m\u001b[0;34m,\u001b[0m \u001b[0;34m\"units\"\u001b[0m\u001b[0;34m,\u001b[0m \u001b[0;34m\"x_partial\"\u001b[0m\u001b[0;34m,\u001b[0m \u001b[0;34m\"y_partial\"\u001b[0m\u001b[0;34m)\u001b[0m\u001b[0;34m\u001b[0m\u001b[0;34m\u001b[0m\u001b[0m\n\u001b[0m\u001b[1;32m    115\u001b[0m \u001b[0;34m\u001b[0m\u001b[0m\n\u001b[1;32m    116\u001b[0m         \u001b[0;31m# Regress nuisance variables out of the data\u001b[0m\u001b[0;34m\u001b[0m\u001b[0;34m\u001b[0m\u001b[0;34m\u001b[0m\u001b[0m\n",
            "\u001b[0;32m/usr/local/lib/python3.6/dist-packages/seaborn/regression.py\u001b[0m in \u001b[0;36mdropna\u001b[0;34m(self, *vars)\u001b[0m\n\u001b[1;32m     64\u001b[0m             \u001b[0mval\u001b[0m \u001b[0;34m=\u001b[0m \u001b[0mgetattr\u001b[0m\u001b[0;34m(\u001b[0m\u001b[0mself\u001b[0m\u001b[0;34m,\u001b[0m \u001b[0mvar\u001b[0m\u001b[0;34m)\u001b[0m\u001b[0;34m\u001b[0m\u001b[0;34m\u001b[0m\u001b[0m\n\u001b[1;32m     65\u001b[0m             \u001b[0;32mif\u001b[0m \u001b[0mval\u001b[0m \u001b[0;32mis\u001b[0m \u001b[0;32mnot\u001b[0m \u001b[0;32mNone\u001b[0m\u001b[0;34m:\u001b[0m\u001b[0;34m\u001b[0m\u001b[0;34m\u001b[0m\u001b[0m\n\u001b[0;32m---> 66\u001b[0;31m                 \u001b[0msetattr\u001b[0m\u001b[0;34m(\u001b[0m\u001b[0mself\u001b[0m\u001b[0;34m,\u001b[0m \u001b[0mvar\u001b[0m\u001b[0;34m,\u001b[0m \u001b[0mval\u001b[0m\u001b[0;34m[\u001b[0m\u001b[0mnot_na\u001b[0m\u001b[0;34m]\u001b[0m\u001b[0;34m)\u001b[0m\u001b[0;34m\u001b[0m\u001b[0;34m\u001b[0m\u001b[0m\n\u001b[0m\u001b[1;32m     67\u001b[0m \u001b[0;34m\u001b[0m\u001b[0m\n\u001b[1;32m     68\u001b[0m     \u001b[0;32mdef\u001b[0m \u001b[0mplot\u001b[0m\u001b[0;34m(\u001b[0m\u001b[0mself\u001b[0m\u001b[0;34m,\u001b[0m \u001b[0max\u001b[0m\u001b[0;34m)\u001b[0m\u001b[0;34m:\u001b[0m\u001b[0;34m\u001b[0m\u001b[0;34m\u001b[0m\u001b[0m\n",
            "\u001b[0;31mIndexError\u001b[0m: invalid index to scalar variable."
          ]
        },
        {
          "output_type": "display_data",
          "data": {
            "image/png": "[encoded data removed]",
            "text/plain": [
              "<Figure size 720x360 with 1 Axes>"
            ]
          },
          "metadata": {
            "tags": []
          }
        }
      ]
    },
    {
      "cell_type": "code",
      "metadata": {
        "id": "nJqHxC9gsGYX",
        "colab_type": "code",
        "colab": {}
      },
      "source": [
        ""
      ],
      "execution_count": 0,
      "outputs": []
    }
  ]
}