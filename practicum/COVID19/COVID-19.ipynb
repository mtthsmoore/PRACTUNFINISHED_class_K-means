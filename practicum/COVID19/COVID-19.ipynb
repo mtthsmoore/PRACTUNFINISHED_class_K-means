{
 "cells": [
  {
   "cell_type": "code",
   "execution_count": 154,
   "metadata": {},
   "outputs": [],
   "source": [
    "%matplotlib inline\n",
    "import matplotlib.pyplot as plt\n",
    "import numpy as np\n",
    "import pandas as pd\n",
    "import seaborn as sns\n",
    "sns.set_style(\"white\")"
   ]
  },
  {
   "cell_type": "markdown",
   "metadata": {},
   "source": [
    "# COVID-19 Pandas + Seaborn\n",
    "\n",
    "\n",
    "In this project you will apply your Python Pandas and Seaborn skills to obtain useful insights into the live COVID-19 data. The [dataset](https://github.com/open-covid-19/data) is a processed version of the main [COVID-19 data repository](https://github.com/CSSEGISandData/COVID-19) for the 2019 Novel Coronavirus Visual Dashboard that is operated by the Johns Hopkins University Center for Systems Science and Engineering (JHU CSSE). Also, Supported by ESRI Living Atlas Team and the Johns Hopkins University Applied Physics Lab (JHU APL).\n",
    "\n",
    "The dataset is updated on a public GitHub repository, so we can donwload the most recent verion as follows:"
   ]
  },
  {
   "cell_type": "code",
   "execution_count": 155,
   "metadata": {},
   "outputs": [],
   "source": [
    "data_covid19 = pd.read_csv(\"https://open-covid-19.github.io/data/data.csv\",parse_dates=[\"Date\"],index_col=\"Date\")"
   ]
  },
  {
   "cell_type": "markdown",
   "metadata": {},
   "source": [
    "*How many rows and how many columns does this dataset have?*"
   ]
  },
  {
   "cell_type": "code",
   "execution_count": 156,
   "metadata": {},
   "outputs": [
    {
     "data": {
      "text/plain": [
       "(27013, 10)"
      ]
     },
     "execution_count": 156,
     "metadata": {},
     "output_type": "execute_result"
    }
   ],
   "source": [
    "data_covid19.shape"
   ]
  },
  {
   "cell_type": "markdown",
   "metadata": {},
   "source": [
    "*Print the first 20 rows in the dataset.*"
   ]
  },
  {
   "cell_type": "code",
   "execution_count": 157,
   "metadata": {},
   "outputs": [
    {
     "data": {
      "text/html": [
       "<div>\n",
       "<style scoped>\n",
       "    .dataframe tbody tr th:only-of-type {\n",
       "        vertical-align: middle;\n",
       "    }\n",
       "\n",
       "    .dataframe tbody tr th {\n",
       "        vertical-align: top;\n",
       "    }\n",
       "\n",
       "    .dataframe thead th {\n",
       "        text-align: right;\n",
       "    }\n",
       "</style>\n",
       "<table border=\"1\" class=\"dataframe\">\n",
       "  <thead>\n",
       "    <tr style=\"text-align: right;\">\n",
       "      <th></th>\n",
       "      <th>Key</th>\n",
       "      <th>CountryCode</th>\n",
       "      <th>CountryName</th>\n",
       "      <th>RegionCode</th>\n",
       "      <th>RegionName</th>\n",
       "      <th>Confirmed</th>\n",
       "      <th>Deaths</th>\n",
       "      <th>Latitude</th>\n",
       "      <th>Longitude</th>\n",
       "      <th>Population</th>\n",
       "    </tr>\n",
       "    <tr>\n",
       "      <th>Date</th>\n",
       "      <th></th>\n",
       "      <th></th>\n",
       "      <th></th>\n",
       "      <th></th>\n",
       "      <th></th>\n",
       "      <th></th>\n",
       "      <th></th>\n",
       "      <th></th>\n",
       "      <th></th>\n",
       "      <th></th>\n",
       "    </tr>\n",
       "  </thead>\n",
       "  <tbody>\n",
       "    <tr>\n",
       "      <th>2019-12-31</th>\n",
       "      <td>AE</td>\n",
       "      <td>AE</td>\n",
       "      <td>United Arab Emirates</td>\n",
       "      <td>NaN</td>\n",
       "      <td>NaN</td>\n",
       "      <td>0.0</td>\n",
       "      <td>0.0</td>\n",
       "      <td>23.424076</td>\n",
       "      <td>53.847818</td>\n",
       "      <td>9.770529e+06</td>\n",
       "    </tr>\n",
       "    <tr>\n",
       "      <th>2019-12-31</th>\n",
       "      <td>AF</td>\n",
       "      <td>AF</td>\n",
       "      <td>Afghanistan</td>\n",
       "      <td>NaN</td>\n",
       "      <td>NaN</td>\n",
       "      <td>0.0</td>\n",
       "      <td>0.0</td>\n",
       "      <td>33.939110</td>\n",
       "      <td>67.709953</td>\n",
       "      <td>3.804175e+07</td>\n",
       "    </tr>\n",
       "    <tr>\n",
       "      <th>2019-12-31</th>\n",
       "      <td>AM</td>\n",
       "      <td>AM</td>\n",
       "      <td>Armenia</td>\n",
       "      <td>NaN</td>\n",
       "      <td>NaN</td>\n",
       "      <td>0.0</td>\n",
       "      <td>0.0</td>\n",
       "      <td>40.069099</td>\n",
       "      <td>45.038189</td>\n",
       "      <td>2.957731e+06</td>\n",
       "    </tr>\n",
       "    <tr>\n",
       "      <th>2019-12-31</th>\n",
       "      <td>AT</td>\n",
       "      <td>AT</td>\n",
       "      <td>Austria</td>\n",
       "      <td>NaN</td>\n",
       "      <td>NaN</td>\n",
       "      <td>0.0</td>\n",
       "      <td>0.0</td>\n",
       "      <td>47.516231</td>\n",
       "      <td>14.550072</td>\n",
       "      <td>8.955102e+06</td>\n",
       "    </tr>\n",
       "    <tr>\n",
       "      <th>2019-12-31</th>\n",
       "      <td>AU</td>\n",
       "      <td>AU</td>\n",
       "      <td>Australia</td>\n",
       "      <td>NaN</td>\n",
       "      <td>NaN</td>\n",
       "      <td>0.0</td>\n",
       "      <td>0.0</td>\n",
       "      <td>-25.274398</td>\n",
       "      <td>133.775136</td>\n",
       "      <td>2.520320e+07</td>\n",
       "    </tr>\n",
       "    <tr>\n",
       "      <th>2019-12-31</th>\n",
       "      <td>AZ</td>\n",
       "      <td>AZ</td>\n",
       "      <td>Azerbaijan</td>\n",
       "      <td>NaN</td>\n",
       "      <td>NaN</td>\n",
       "      <td>0.0</td>\n",
       "      <td>0.0</td>\n",
       "      <td>40.143105</td>\n",
       "      <td>47.576927</td>\n",
       "      <td>1.004772e+07</td>\n",
       "    </tr>\n",
       "    <tr>\n",
       "      <th>2019-12-31</th>\n",
       "      <td>BE</td>\n",
       "      <td>BE</td>\n",
       "      <td>Belgium</td>\n",
       "      <td>NaN</td>\n",
       "      <td>NaN</td>\n",
       "      <td>0.0</td>\n",
       "      <td>0.0</td>\n",
       "      <td>50.503887</td>\n",
       "      <td>4.469936</td>\n",
       "      <td>1.153933e+07</td>\n",
       "    </tr>\n",
       "    <tr>\n",
       "      <th>2019-12-31</th>\n",
       "      <td>BH</td>\n",
       "      <td>BH</td>\n",
       "      <td>Bahrain</td>\n",
       "      <td>NaN</td>\n",
       "      <td>NaN</td>\n",
       "      <td>0.0</td>\n",
       "      <td>0.0</td>\n",
       "      <td>25.930414</td>\n",
       "      <td>50.637772</td>\n",
       "      <td>1.641172e+06</td>\n",
       "    </tr>\n",
       "    <tr>\n",
       "      <th>2019-12-31</th>\n",
       "      <td>BR</td>\n",
       "      <td>BR</td>\n",
       "      <td>Brazil</td>\n",
       "      <td>NaN</td>\n",
       "      <td>NaN</td>\n",
       "      <td>0.0</td>\n",
       "      <td>0.0</td>\n",
       "      <td>-14.235004</td>\n",
       "      <td>-51.925280</td>\n",
       "      <td>2.110495e+08</td>\n",
       "    </tr>\n",
       "    <tr>\n",
       "      <th>2019-12-31</th>\n",
       "      <td>BY</td>\n",
       "      <td>BY</td>\n",
       "      <td>Belarus</td>\n",
       "      <td>NaN</td>\n",
       "      <td>NaN</td>\n",
       "      <td>0.0</td>\n",
       "      <td>0.0</td>\n",
       "      <td>53.709807</td>\n",
       "      <td>27.953389</td>\n",
       "      <td>9.452411e+06</td>\n",
       "    </tr>\n",
       "    <tr>\n",
       "      <th>2019-12-31</th>\n",
       "      <td>CA</td>\n",
       "      <td>CA</td>\n",
       "      <td>Canada</td>\n",
       "      <td>NaN</td>\n",
       "      <td>NaN</td>\n",
       "      <td>0.0</td>\n",
       "      <td>0.0</td>\n",
       "      <td>56.130366</td>\n",
       "      <td>-106.346771</td>\n",
       "      <td>3.741105e+07</td>\n",
       "    </tr>\n",
       "    <tr>\n",
       "      <th>2019-12-31</th>\n",
       "      <td>CH</td>\n",
       "      <td>CH</td>\n",
       "      <td>Switzerland</td>\n",
       "      <td>NaN</td>\n",
       "      <td>NaN</td>\n",
       "      <td>0.0</td>\n",
       "      <td>0.0</td>\n",
       "      <td>46.818188</td>\n",
       "      <td>8.227512</td>\n",
       "      <td>8.591365e+06</td>\n",
       "    </tr>\n",
       "    <tr>\n",
       "      <th>2019-12-31</th>\n",
       "      <td>CN</td>\n",
       "      <td>CN</td>\n",
       "      <td>China</td>\n",
       "      <td>NaN</td>\n",
       "      <td>NaN</td>\n",
       "      <td>27.0</td>\n",
       "      <td>0.0</td>\n",
       "      <td>35.861660</td>\n",
       "      <td>104.195397</td>\n",
       "      <td>1.433784e+09</td>\n",
       "    </tr>\n",
       "    <tr>\n",
       "      <th>2019-12-31</th>\n",
       "      <td>CZ</td>\n",
       "      <td>CZ</td>\n",
       "      <td>Czech Republic</td>\n",
       "      <td>NaN</td>\n",
       "      <td>NaN</td>\n",
       "      <td>0.0</td>\n",
       "      <td>0.0</td>\n",
       "      <td>49.817492</td>\n",
       "      <td>15.472962</td>\n",
       "      <td>1.068921e+07</td>\n",
       "    </tr>\n",
       "    <tr>\n",
       "      <th>2019-12-31</th>\n",
       "      <td>DE</td>\n",
       "      <td>DE</td>\n",
       "      <td>Germany</td>\n",
       "      <td>NaN</td>\n",
       "      <td>NaN</td>\n",
       "      <td>0.0</td>\n",
       "      <td>0.0</td>\n",
       "      <td>51.165691</td>\n",
       "      <td>10.451526</td>\n",
       "      <td>8.351704e+07</td>\n",
       "    </tr>\n",
       "    <tr>\n",
       "      <th>2019-12-31</th>\n",
       "      <td>DK</td>\n",
       "      <td>DK</td>\n",
       "      <td>Denmark</td>\n",
       "      <td>NaN</td>\n",
       "      <td>NaN</td>\n",
       "      <td>0.0</td>\n",
       "      <td>0.0</td>\n",
       "      <td>56.263920</td>\n",
       "      <td>9.501785</td>\n",
       "      <td>5.771876e+06</td>\n",
       "    </tr>\n",
       "    <tr>\n",
       "      <th>2019-12-31</th>\n",
       "      <td>DO</td>\n",
       "      <td>DO</td>\n",
       "      <td>Dominican Republic</td>\n",
       "      <td>NaN</td>\n",
       "      <td>NaN</td>\n",
       "      <td>0.0</td>\n",
       "      <td>0.0</td>\n",
       "      <td>18.735693</td>\n",
       "      <td>-70.162651</td>\n",
       "      <td>1.073896e+07</td>\n",
       "    </tr>\n",
       "    <tr>\n",
       "      <th>2019-12-31</th>\n",
       "      <td>DZ</td>\n",
       "      <td>DZ</td>\n",
       "      <td>Algeria</td>\n",
       "      <td>NaN</td>\n",
       "      <td>NaN</td>\n",
       "      <td>0.0</td>\n",
       "      <td>0.0</td>\n",
       "      <td>28.033886</td>\n",
       "      <td>1.659626</td>\n",
       "      <td>4.305305e+07</td>\n",
       "    </tr>\n",
       "    <tr>\n",
       "      <th>2019-12-31</th>\n",
       "      <td>EC</td>\n",
       "      <td>EC</td>\n",
       "      <td>Ecuador</td>\n",
       "      <td>NaN</td>\n",
       "      <td>NaN</td>\n",
       "      <td>0.0</td>\n",
       "      <td>0.0</td>\n",
       "      <td>-1.831239</td>\n",
       "      <td>-78.183406</td>\n",
       "      <td>1.737366e+07</td>\n",
       "    </tr>\n",
       "    <tr>\n",
       "      <th>2019-12-31</th>\n",
       "      <td>EE</td>\n",
       "      <td>EE</td>\n",
       "      <td>Estonia</td>\n",
       "      <td>NaN</td>\n",
       "      <td>NaN</td>\n",
       "      <td>0.0</td>\n",
       "      <td>0.0</td>\n",
       "      <td>58.595272</td>\n",
       "      <td>25.013607</td>\n",
       "      <td>1.325648e+06</td>\n",
       "    </tr>\n",
       "  </tbody>\n",
       "</table>\n",
       "</div>"
      ],
      "text/plain": [
       "           Key CountryCode           CountryName RegionCode RegionName  \\\n",
       "Date                                                                     \n",
       "2019-12-31  AE          AE  United Arab Emirates        NaN        NaN   \n",
       "2019-12-31  AF          AF           Afghanistan        NaN        NaN   \n",
       "2019-12-31  AM          AM               Armenia        NaN        NaN   \n",
       "2019-12-31  AT          AT               Austria        NaN        NaN   \n",
       "2019-12-31  AU          AU             Australia        NaN        NaN   \n",
       "2019-12-31  AZ          AZ            Azerbaijan        NaN        NaN   \n",
       "2019-12-31  BE          BE               Belgium        NaN        NaN   \n",
       "2019-12-31  BH          BH               Bahrain        NaN        NaN   \n",
       "2019-12-31  BR          BR                Brazil        NaN        NaN   \n",
       "2019-12-31  BY          BY               Belarus        NaN        NaN   \n",
       "2019-12-31  CA          CA                Canada        NaN        NaN   \n",
       "2019-12-31  CH          CH           Switzerland        NaN        NaN   \n",
       "2019-12-31  CN          CN                 China        NaN        NaN   \n",
       "2019-12-31  CZ          CZ        Czech Republic        NaN        NaN   \n",
       "2019-12-31  DE          DE               Germany        NaN        NaN   \n",
       "2019-12-31  DK          DK               Denmark        NaN        NaN   \n",
       "2019-12-31  DO          DO    Dominican Republic        NaN        NaN   \n",
       "2019-12-31  DZ          DZ               Algeria        NaN        NaN   \n",
       "2019-12-31  EC          EC               Ecuador        NaN        NaN   \n",
       "2019-12-31  EE          EE               Estonia        NaN        NaN   \n",
       "\n",
       "            Confirmed  Deaths   Latitude   Longitude    Population  \n",
       "Date                                                                \n",
       "2019-12-31        0.0     0.0  23.424076   53.847818  9.770529e+06  \n",
       "2019-12-31        0.0     0.0  33.939110   67.709953  3.804175e+07  \n",
       "2019-12-31        0.0     0.0  40.069099   45.038189  2.957731e+06  \n",
       "2019-12-31        0.0     0.0  47.516231   14.550072  8.955102e+06  \n",
       "2019-12-31        0.0     0.0 -25.274398  133.775136  2.520320e+07  \n",
       "2019-12-31        0.0     0.0  40.143105   47.576927  1.004772e+07  \n",
       "2019-12-31        0.0     0.0  50.503887    4.469936  1.153933e+07  \n",
       "2019-12-31        0.0     0.0  25.930414   50.637772  1.641172e+06  \n",
       "2019-12-31        0.0     0.0 -14.235004  -51.925280  2.110495e+08  \n",
       "2019-12-31        0.0     0.0  53.709807   27.953389  9.452411e+06  \n",
       "2019-12-31        0.0     0.0  56.130366 -106.346771  3.741105e+07  \n",
       "2019-12-31        0.0     0.0  46.818188    8.227512  8.591365e+06  \n",
       "2019-12-31       27.0     0.0  35.861660  104.195397  1.433784e+09  \n",
       "2019-12-31        0.0     0.0  49.817492   15.472962  1.068921e+07  \n",
       "2019-12-31        0.0     0.0  51.165691   10.451526  8.351704e+07  \n",
       "2019-12-31        0.0     0.0  56.263920    9.501785  5.771876e+06  \n",
       "2019-12-31        0.0     0.0  18.735693  -70.162651  1.073896e+07  \n",
       "2019-12-31        0.0     0.0  28.033886    1.659626  4.305305e+07  \n",
       "2019-12-31        0.0     0.0  -1.831239  -78.183406  1.737366e+07  \n",
       "2019-12-31        0.0     0.0  58.595272   25.013607  1.325648e+06  "
      ]
     },
     "execution_count": 157,
     "metadata": {},
     "output_type": "execute_result"
    }
   ],
   "source": [
    "data_covid19.head(20)"
   ]
  },
  {
   "cell_type": "markdown",
   "metadata": {},
   "source": [
    "The columns of\n",
    "[data_covid19](https://open-covid-19.github.io/data/data.csv) are:\n",
    "\n",
    "| Name | Description | Example |\n",
    "| ---- | ----------- | ------- |\n",
    "| **Date**\\* | ISO 8601 date (YYYY-MM-DD) of the datapoint | 2020-03-21 |\n",
    "| **Key** | `CountryCode` if country-level data, otherwise `${CountryCode}_${RegionCode}` | CN_HB |\n",
    "| **CountryCode** | ISO 3166-1 code of the country | CN |\n",
    "| **CountryName** | American English name of the country, subject to change | China |\n",
    "| **RegionCode** | (Optional) ISO 3166-2 or NUTS 2 code of the region | HB |\n",
    "| **RegionName** | (Optional) American English name of the region, subject to change | Hubei |\n",
    "| **Confirmed**\\*\\* | Total number of cases confirmed after positive test | 67800 |\n",
    "| **Deaths**\\*\\* | Total number of deaths from a positive COVID-19 case | 3139 |\n",
    "| **Latitude** | Floating point representing the geographic coordinate | 30.9756 |\n",
    "| **Longitude** | Floating point representing the geographic coordinate | 112.2707 |\n",
    "| **Population** | Total count of humans living in the region | 1.153933e+07 |\n",
    "\n",
    "\\*Date used is **reporting** date, which generally lags a day from the actual\n",
    "date and is subject to timezone adjustments. Whenever possible, dates\n",
    "consistent with the ECDC daily reports are used.\n",
    "\n",
    "\\*\\*Missing values will be represented as nulls, whereas zeroes are used when\n",
    "a true value of zero is reported. For example, US states where deaths are not\n",
    "being reported have null values.\n",
    "\n",
    "For countries where both country-level and region-level data is available, the\n",
    "entry which has a null value for the `RegionCode` and `RegionName` columns\n",
    "indicates country-level aggregation. Please note that, sometimes, the\n",
    "country-level data and the region-level data come from different sources so\n",
    "adding up all region-level values may not equal exactly to the reported\n",
    "country-level value. See the [data loading tutorial][7] for more information.\n",
    "\n",
    "The `CountryName` and `RegionName` values are subject to change. You may use\n",
    "them for labels in your application, but you should not assume that they will\n",
    "remain the same in future updates. Instead, use `CountryCode` and `RegionCode`\n",
    "to perform joins with other data sources or for filtering within your\n",
    "application."
   ]
  },
  {
   "cell_type": "markdown",
   "metadata": {},
   "source": [
    "For this analysis we will look at only a few countries. We can use the `Key` column to select these countries:"
   ]
  },
  {
   "cell_type": "code",
   "execution_count": 158,
   "metadata": {},
   "outputs": [],
   "source": [
    "countries = [\"FR\",\"BE\",\"SE\",\"CH\",\"AU\",\"NL\",\"CN\",\"JP\",\"GB\",\"ES\",\"IT\",\"US\"]\n",
    "\n",
    "data_covid19 = data_covid19[data_covid19[\"Key\"].isin(countries)]"
   ]
  },
  {
   "cell_type": "markdown",
   "metadata": {},
   "source": [
    "*Print the last 10 rows in the dataset where `Key` is BE*."
   ]
  },
  {
   "cell_type": "code",
   "execution_count": 159,
   "metadata": {},
   "outputs": [
    {
     "data": {
      "text/html": [
       "<div>\n",
       "<style scoped>\n",
       "    .dataframe tbody tr th:only-of-type {\n",
       "        vertical-align: middle;\n",
       "    }\n",
       "\n",
       "    .dataframe tbody tr th {\n",
       "        vertical-align: top;\n",
       "    }\n",
       "\n",
       "    .dataframe thead th {\n",
       "        text-align: right;\n",
       "    }\n",
       "</style>\n",
       "<table border=\"1\" class=\"dataframe\">\n",
       "  <thead>\n",
       "    <tr style=\"text-align: right;\">\n",
       "      <th></th>\n",
       "      <th>Key</th>\n",
       "      <th>CountryCode</th>\n",
       "      <th>CountryName</th>\n",
       "      <th>RegionCode</th>\n",
       "      <th>RegionName</th>\n",
       "      <th>Confirmed</th>\n",
       "      <th>Deaths</th>\n",
       "      <th>Latitude</th>\n",
       "      <th>Longitude</th>\n",
       "      <th>Population</th>\n",
       "    </tr>\n",
       "    <tr>\n",
       "      <th>Date</th>\n",
       "      <th></th>\n",
       "      <th></th>\n",
       "      <th></th>\n",
       "      <th></th>\n",
       "      <th></th>\n",
       "      <th></th>\n",
       "      <th></th>\n",
       "      <th></th>\n",
       "      <th></th>\n",
       "      <th></th>\n",
       "    </tr>\n",
       "  </thead>\n",
       "  <tbody>\n",
       "    <tr>\n",
       "      <th>2020-03-28</th>\n",
       "      <td>BE</td>\n",
       "      <td>BE</td>\n",
       "      <td>Belgium</td>\n",
       "      <td>NaN</td>\n",
       "      <td>NaN</td>\n",
       "      <td>7284.0</td>\n",
       "      <td>289.0</td>\n",
       "      <td>50.503887</td>\n",
       "      <td>4.469936</td>\n",
       "      <td>11539328.0</td>\n",
       "    </tr>\n",
       "    <tr>\n",
       "      <th>2020-03-29</th>\n",
       "      <td>BE</td>\n",
       "      <td>BE</td>\n",
       "      <td>Belgium</td>\n",
       "      <td>NaN</td>\n",
       "      <td>NaN</td>\n",
       "      <td>9134.0</td>\n",
       "      <td>353.0</td>\n",
       "      <td>50.503887</td>\n",
       "      <td>4.469936</td>\n",
       "      <td>11539328.0</td>\n",
       "    </tr>\n",
       "    <tr>\n",
       "      <th>2020-03-30</th>\n",
       "      <td>BE</td>\n",
       "      <td>BE</td>\n",
       "      <td>Belgium</td>\n",
       "      <td>NaN</td>\n",
       "      <td>NaN</td>\n",
       "      <td>10836.0</td>\n",
       "      <td>431.0</td>\n",
       "      <td>50.503887</td>\n",
       "      <td>4.469936</td>\n",
       "      <td>11539328.0</td>\n",
       "    </tr>\n",
       "    <tr>\n",
       "      <th>2020-03-31</th>\n",
       "      <td>BE</td>\n",
       "      <td>BE</td>\n",
       "      <td>Belgium</td>\n",
       "      <td>NaN</td>\n",
       "      <td>NaN</td>\n",
       "      <td>11899.0</td>\n",
       "      <td>513.0</td>\n",
       "      <td>50.503887</td>\n",
       "      <td>4.469936</td>\n",
       "      <td>11539328.0</td>\n",
       "    </tr>\n",
       "    <tr>\n",
       "      <th>2020-04-01</th>\n",
       "      <td>BE</td>\n",
       "      <td>BE</td>\n",
       "      <td>Belgium</td>\n",
       "      <td>NaN</td>\n",
       "      <td>NaN</td>\n",
       "      <td>12775.0</td>\n",
       "      <td>705.0</td>\n",
       "      <td>50.503887</td>\n",
       "      <td>4.469936</td>\n",
       "      <td>11539328.0</td>\n",
       "    </tr>\n",
       "    <tr>\n",
       "      <th>2020-04-02</th>\n",
       "      <td>BE</td>\n",
       "      <td>BE</td>\n",
       "      <td>Belgium</td>\n",
       "      <td>NaN</td>\n",
       "      <td>NaN</td>\n",
       "      <td>13964.0</td>\n",
       "      <td>828.0</td>\n",
       "      <td>50.503887</td>\n",
       "      <td>4.469936</td>\n",
       "      <td>11539328.0</td>\n",
       "    </tr>\n",
       "    <tr>\n",
       "      <th>2020-04-03</th>\n",
       "      <td>BE</td>\n",
       "      <td>BE</td>\n",
       "      <td>Belgium</td>\n",
       "      <td>NaN</td>\n",
       "      <td>NaN</td>\n",
       "      <td>15348.0</td>\n",
       "      <td>1011.0</td>\n",
       "      <td>50.503887</td>\n",
       "      <td>4.469936</td>\n",
       "      <td>11539328.0</td>\n",
       "    </tr>\n",
       "    <tr>\n",
       "      <th>2020-04-04</th>\n",
       "      <td>BE</td>\n",
       "      <td>BE</td>\n",
       "      <td>Belgium</td>\n",
       "      <td>NaN</td>\n",
       "      <td>NaN</td>\n",
       "      <td>16770.0</td>\n",
       "      <td>1143.0</td>\n",
       "      <td>50.503887</td>\n",
       "      <td>4.469936</td>\n",
       "      <td>11539328.0</td>\n",
       "    </tr>\n",
       "    <tr>\n",
       "      <th>2020-04-05</th>\n",
       "      <td>BE</td>\n",
       "      <td>BE</td>\n",
       "      <td>Belgium</td>\n",
       "      <td>NaN</td>\n",
       "      <td>NaN</td>\n",
       "      <td>18431.0</td>\n",
       "      <td>1283.0</td>\n",
       "      <td>50.503887</td>\n",
       "      <td>4.469936</td>\n",
       "      <td>11539328.0</td>\n",
       "    </tr>\n",
       "    <tr>\n",
       "      <th>2020-04-06</th>\n",
       "      <td>BE</td>\n",
       "      <td>BE</td>\n",
       "      <td>Belgium</td>\n",
       "      <td>NaN</td>\n",
       "      <td>NaN</td>\n",
       "      <td>19691.0</td>\n",
       "      <td>1447.0</td>\n",
       "      <td>50.503887</td>\n",
       "      <td>4.469936</td>\n",
       "      <td>11539328.0</td>\n",
       "    </tr>\n",
       "  </tbody>\n",
       "</table>\n",
       "</div>"
      ],
      "text/plain": [
       "           Key CountryCode CountryName RegionCode RegionName  Confirmed  \\\n",
       "Date                                                                      \n",
       "2020-03-28  BE          BE     Belgium        NaN        NaN     7284.0   \n",
       "2020-03-29  BE          BE     Belgium        NaN        NaN     9134.0   \n",
       "2020-03-30  BE          BE     Belgium        NaN        NaN    10836.0   \n",
       "2020-03-31  BE          BE     Belgium        NaN        NaN    11899.0   \n",
       "2020-04-01  BE          BE     Belgium        NaN        NaN    12775.0   \n",
       "2020-04-02  BE          BE     Belgium        NaN        NaN    13964.0   \n",
       "2020-04-03  BE          BE     Belgium        NaN        NaN    15348.0   \n",
       "2020-04-04  BE          BE     Belgium        NaN        NaN    16770.0   \n",
       "2020-04-05  BE          BE     Belgium        NaN        NaN    18431.0   \n",
       "2020-04-06  BE          BE     Belgium        NaN        NaN    19691.0   \n",
       "\n",
       "            Deaths   Latitude  Longitude  Population  \n",
       "Date                                                  \n",
       "2020-03-28   289.0  50.503887   4.469936  11539328.0  \n",
       "2020-03-29   353.0  50.503887   4.469936  11539328.0  \n",
       "2020-03-30   431.0  50.503887   4.469936  11539328.0  \n",
       "2020-03-31   513.0  50.503887   4.469936  11539328.0  \n",
       "2020-04-01   705.0  50.503887   4.469936  11539328.0  \n",
       "2020-04-02   828.0  50.503887   4.469936  11539328.0  \n",
       "2020-04-03  1011.0  50.503887   4.469936  11539328.0  \n",
       "2020-04-04  1143.0  50.503887   4.469936  11539328.0  \n",
       "2020-04-05  1283.0  50.503887   4.469936  11539328.0  \n",
       "2020-04-06  1447.0  50.503887   4.469936  11539328.0  "
      ]
     },
     "execution_count": 159,
     "metadata": {},
     "output_type": "execute_result"
    }
   ],
   "source": [
    "data_covid19[data_covid19[\"Key\"]==\"BE\"].tail(10)"
   ]
  },
  {
   "cell_type": "markdown",
   "metadata": {},
   "source": [
    "*Use the Pandas DataFrame `.describe()` method to print statistics about the confirmed cases for Belgium.*"
   ]
  },
  {
   "cell_type": "code",
   "execution_count": 160,
   "metadata": {},
   "outputs": [
    {
     "data": {
      "text/plain": [
       "count       98.000000\n",
       "mean      1768.897959\n",
       "std       4333.444846\n",
       "min          0.000000\n",
       "25%          0.000000\n",
       "50%          1.000000\n",
       "75%        377.750000\n",
       "max      19691.000000\n",
       "Name: Confirmed, dtype: float64"
      ]
     },
     "execution_count": 160,
     "metadata": {},
     "output_type": "execute_result"
    }
   ],
   "source": [
    "data_covid19[data_covid19[\"Key\"]==\"BE\"][\"Confirmed\"].describe()"
   ]
  },
  {
   "cell_type": "markdown",
   "metadata": {},
   "source": [
    "Each row in the dataset represents a day and contains the number of confirmed cases in a region (country) for that day. You will plot the number of confirmed cases for each country up until today. To do so will first creaye a new DataFrame that contains the data to plot. \n",
    "\n",
    "In Pandas the `.groupby` method can group rows by the values in a certain column \"A\" such that the values in another column \"B\" can be aggegated. \n",
    "\n",
    "*Use these methods to print the total number confirmed cases for each country by assigning the correct columns to variables \"A\" and \"B\":*"
   ]
  },
  {
   "cell_type": "code",
   "execution_count": 161,
   "metadata": {},
   "outputs": [
    {
     "name": "stdout",
     "output_type": "stream",
     "text": [
      "Key\n",
      "AU      65910.0\n",
      "BE     173352.0\n",
      "CH     243212.0\n",
      "CN    4644500.0\n",
      "ES    1444373.0\n",
      "FR     727154.0\n",
      "GB     355711.0\n",
      "IT    1812873.0\n",
      "JP      45083.0\n",
      "NL     162335.0\n",
      "SE      73408.0\n",
      "US    2506355.0\n",
      "Name: Confirmed, dtype: float64\n"
     ]
    }
   ],
   "source": [
    "A = \"Key\"\n",
    "B = \"Confirmed\"\n",
    "\n",
    "total_confirmed = data_covid19.groupby(A)[B].sum()\n",
    "print(total_confirmed)"
   ]
  },
  {
   "cell_type": "markdown",
   "metadata": {},
   "source": [
    "To plot the result of the aggregagtion we need to transform the result in to a DataFrame was follows:"
   ]
  },
  {
   "cell_type": "code",
   "execution_count": 162,
   "metadata": {},
   "outputs": [
    {
     "name": "stdout",
     "output_type": "stream",
     "text": [
      "   Key  Confirmed\n",
      "0   AU    65910.0\n",
      "1   BE   173352.0\n",
      "2   CH   243212.0\n",
      "3   CN  4644500.0\n",
      "4   ES  1444373.0\n",
      "5   FR   727154.0\n",
      "6   GB   355711.0\n",
      "7   IT  1812873.0\n",
      "8   JP    45083.0\n",
      "9   NL   162335.0\n",
      "10  SE    73408.0\n",
      "11  US  2506355.0\n"
     ]
    }
   ],
   "source": [
    "total_confirmed = total_confirmed.reset_index(name = \"Confirmed\")\n",
    "print(total_confirmed)"
   ]
  },
  {
   "cell_type": "markdown",
   "metadata": {},
   "source": [
    "*Sort the countries in `total_confirmed` by confirmed cases in descending order.*"
   ]
  },
  {
   "cell_type": "code",
   "execution_count": 163,
   "metadata": {},
   "outputs": [
    {
     "name": "stdout",
     "output_type": "stream",
     "text": [
      "   Key  Confirmed\n",
      "3   CN  4644500.0\n",
      "11  US  2506355.0\n",
      "7   IT  1812873.0\n",
      "4   ES  1444373.0\n",
      "5   FR   727154.0\n",
      "6   GB   355711.0\n",
      "2   CH   243212.0\n",
      "1   BE   173352.0\n",
      "9   NL   162335.0\n",
      "10  SE    73408.0\n",
      "0   AU    65910.0\n",
      "8   JP    45083.0\n"
     ]
    }
   ],
   "source": [
    "total_confirmed = total_confirmed.sort_values(\"Confirmed\",ascending=False)\n",
    "print(total_confirmed)"
   ]
  },
  {
   "cell_type": "markdown",
   "metadata": {},
   "source": [
    "We are now ready to make a nice looking barplot using the Seaborn module.\n",
    "\n",
    "*Assign the correct data to the x and y-axis to plot this barplot:*"
   ]
  },
  {
   "cell_type": "code",
   "execution_count": 164,
   "metadata": {},
   "outputs": [
    {
     "data": {
      "image/png": "[encoded data removed]",
      "text/plain": [
       "<Figure size 864x576 with 1 Axes>"
      ]
     },
     "metadata": {},
     "output_type": "display_data"
    }
   ],
   "source": [
    "x = total_confirmed[\"Key\"]\n",
    "y = total_confirmed[\"Confirmed\"]\n",
    "\n",
    "plt.figure(figsize=(12,8))\n",
    "plt.title(\"#confirmed cases/country\")\n",
    "sns.barplot(x=x,y=y,palette=\"Paired\")\n",
    "plt.xlabel(\"Country\")\n",
    "plt.show()"
   ]
  },
  {
   "cell_type": "markdown",
   "metadata": {},
   "source": [
    "The `Confirmed` column in the `data_covid19` dataset contains the number of confirmed cases foreach day. We will add a new column `Confirmed_total` to the dataset that contains the number of confirmed cases up unitl that day:"
   ]
  },
  {
   "cell_type": "code",
   "execution_count": 165,
   "metadata": {},
   "outputs": [],
   "source": [
    "data_covid19[\"Confirmed_total\"] = data_covid19.groupby('Key')['Confirmed'].transform(pd.Series.cumsum)"
   ]
  },
  {
   "cell_type": "markdown",
   "metadata": {},
   "source": [
    "*Use the `.lineplot` method in Seaborn to plot, for each country (on the sample plot), the total number of confirmed cases (x-axis) against the confirmed cases for each day (y-axis):*"
   ]
  },
  {
   "cell_type": "code",
   "execution_count": 166,
   "metadata": {},
   "outputs": [
    {
     "data": {
      "image/png": "[encoded data removed]",
      "text/plain": [
       "<Figure size 864x576 with 1 Axes>"
      ]
     },
     "metadata": {},
     "output_type": "display_data"
    }
   ],
   "source": [
    "plt.figure(figsize=(12,8))\n",
    "sns.lineplot(x=\"Confirmed_total\",y=\"Confirmed\",hue=\"Key\",data=data_covid19,palette=\"Paired\")\n",
    "plt.show()"
   ]
  },
  {
   "cell_type": "markdown",
   "metadata": {},
   "source": [
    "*Add a new column to `data_covid19` called  `Deaths_total` that contains the number of deaths up unitl that day:*"
   ]
  },
  {
   "cell_type": "code",
   "execution_count": 167,
   "metadata": {},
   "outputs": [],
   "source": [
    "data_covid19[\"Deaths_total\"] = data_covid19.groupby('Key')['Deaths'].transform(pd.Series.cumsum)"
   ]
  },
  {
   "cell_type": "markdown",
   "metadata": {},
   "source": [
    "*Use the `.lineplot` method to plot these two new columns with a line for each country:*"
   ]
  },
  {
   "cell_type": "code",
   "execution_count": 168,
   "metadata": {},
   "outputs": [
    {
     "data": {
      "image/png": "[encoded data removed]",
      "text/plain": [
       "<Figure size 864x576 with 1 Axes>"
      ]
     },
     "metadata": {},
     "output_type": "display_data"
    }
   ],
   "source": [
    "plt.figure(figsize=(12,8))\n",
    "sns.lineplot(x=\"Confirmed_total\",y=\"Deaths_total\",hue=\"Key\",data=data_covid19,palette=\"Paired\")\n",
    "plt.show()"
   ]
  },
  {
   "cell_type": "markdown",
   "metadata": {},
   "source": [
    "Fnally you will make a scatter plot with the Seaborn `lmplot()` method. For this you need the [`drop_duplicates()`](https://pandas.pydata.org/pandas-docs/version/0.24.2/reference/api/pandas.DataFrame.drop_duplicates.html) method in Pandas to filter to the rows we need for plotting. \n",
    "\n",
    "*Use the `drop_duplicates()` method to select, for each country (`Key`), the last row in the dataset:* "
   ]
  },
  {
   "cell_type": "code",
   "execution_count": 169,
   "metadata": {},
   "outputs": [],
   "source": [
    "data_covid19_filtered = data_covid19.drop_duplicates([\"Key\"],keep=\"last\")"
   ]
  },
  {
   "cell_type": "markdown",
   "metadata": {},
   "source": [
    "*Now create a scatter plot with `Deaths_total` on the x-axis and `Population` on the y-axis:*"
   ]
  },
  {
   "cell_type": "code",
   "execution_count": 170,
   "metadata": {},
   "outputs": [
    {
     "data": {
      "text/plain": [
       "<seaborn.axisgrid.FacetGrid at 0x1977e9d1b70>"
      ]
     },
     "execution_count": 170,
     "metadata": {},
     "output_type": "execute_result"
    },
    {
     "data": {
      "image/png": "[encoded data removed]",
      "text/plain": [
       "<Figure size 770.375x360 with 1 Axes>"
      ]
     },
     "metadata": {},
     "output_type": "display_data"
    }
   ],
   "source": [
    "sns.lmplot(y=\"Population\",x=\"Deaths_total\",hue=\"Key\",\n",
    "           data=data_covid19_filtered,\n",
    "           fit_reg=False,palette=\"Paired\",aspect=2)"
   ]
  },
  {
   "cell_type": "markdown",
   "metadata": {},
   "source": [
    "*Make the same plot but with the x and y-axis in log-scale.*"
   ]
  },
  {
   "cell_type": "code",
   "execution_count": 171,
   "metadata": {},
   "outputs": [
    {
     "name": "stderr",
     "output_type": "stream",
     "text": [
      "C:\\Users\\Work\\Anaconda3\\lib\\site-packages\\ipykernel_launcher.py:1: RuntimeWarning: divide by zero encountered in log\n",
      "  \"\"\"Entry point for launching an IPython kernel.\n"
     ]
    }
   ],
   "source": [
    "data_covid19[\"Deaths_total_log\"] = np.log(data_covid19[\"Deaths_total\"])\n",
    "data_covid19[\"Population_log\"] = np.log(data_covid19[\"Population\"])"
   ]
  },
  {
   "cell_type": "code",
   "execution_count": 172,
   "metadata": {},
   "outputs": [
    {
     "data": {
      "text/plain": [
       "<seaborn.axisgrid.FacetGrid at 0x1970108a828>"
      ]
     },
     "execution_count": 172,
     "metadata": {},
     "output_type": "execute_result"
    },
    {
     "data": {
      "image/png": "[encoded data removed]",
      "text/plain": [
       "<Figure size 770.375x360 with 1 Axes>"
      ]
     },
     "metadata": {},
     "output_type": "display_data"
    }
   ],
   "source": [
    "sns.lmplot(y=\"Population\",x=\"Deaths_total_log\",hue=\"Key\",\n",
    "           data=data_covid19.drop_duplicates([\"Key\"],keep=\"last\"),\n",
    "           fit_reg=False,palette=\"Paired\",aspect=2)"
   ]
  }
 ],
 "metadata": {
  "kernelspec": {
   "display_name": "Python 3",
   "language": "python",
   "name": "python3"
  },
  "language_info": {
   "codemirror_mode": {
    "name": "ipython",
    "version": 3
   },
   "file_extension": ".py",
   "mimetype": "text/x-python",
   "name": "python",
   "nbconvert_exporter": "python",
   "pygments_lexer": "ipython3",
   "version": "3.7.3"
  }
 },
 "nbformat": 4,
 "nbformat_minor": 2
}
