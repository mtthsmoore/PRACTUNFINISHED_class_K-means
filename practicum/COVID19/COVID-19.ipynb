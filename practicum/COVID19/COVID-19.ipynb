{
  "nbformat": 4,
  "nbformat_minor": 0,
  "metadata": {
    "kernelspec": {
      "display_name": "Python 3",
      "language": "python",
      "name": "python3"
    },
    "language_info": {
      "codemirror_mode": {
        "name": "ipython",
        "version": 3
      },
      "file_extension": ".py",
      "mimetype": "text/x-python",
      "name": "python",
      "nbconvert_exporter": "python",
      "pygments_lexer": "ipython3",
      "version": "3.7.3"
    },
    "colab": {
      "name": "COVID-19.ipynb",
      "provenance": []
    }
  },
  "cells": [
    {
      "cell_type": "markdown",
      "metadata": {
        "id": "ZLta-Y0PmOFd",
        "colab_type": "text"
      },
      "source": [
        "# COVID-19 Pandas + Seaborn\n",
        "\n",
        "\n",
        "In this project you will apply your Python Pandas and Seaborn skills to obtain useful insights into the live COVID-19 data. The [dataset](https://github.com/open-covid-19/data) is a processed version of the main [COVID-19 data repository](https://github.com/CSSEGISandData/COVID-19) for the 2019 Novel Coronavirus Visual Dashboard that is operated by the Johns Hopkins University Center for Systems Science and Engineering (JHU CSSE). Also, Supported by ESRI Living Atlas Team and the Johns Hopkins University Applied Physics Lab (JHU APL).\n",
        "\n",
        "The dataset is updated on a public GitHub repository, so we can donwload the most recent verion as follows:"
      ]
    },
    {
      "cell_type": "code",
      "metadata": {
        "id": "RzmEGE3GmOFf",
        "colab_type": "code",
        "colab": {}
      },
      "source": [
        "import pandas as pd\n",
        "data_covid19 = pd.read_csv(\"https://open-covid-19.github.io/data/data.csv\",parse_dates=[\"Date\"],index_col=\"Date\")"
      ],
      "execution_count": 0,
      "outputs": []
    },
    {
      "cell_type": "markdown",
      "metadata": {
        "id": "sWas313MmOFk",
        "colab_type": "text"
      },
      "source": [
        "*How many rows and how many columns does this dataset have?*"
      ]
    },
    {
      "cell_type": "code",
      "metadata": {
        "id": "GeGGt--KmOFl",
        "colab_type": "code",
        "colab": {}
      },
      "source": [
        "###Start code here\n",
        "\n",
        "###End code here"
      ],
      "execution_count": 0,
      "outputs": []
    },
    {
      "cell_type": "markdown",
      "metadata": {
        "id": "N_E6PaDCmOFt",
        "colab_type": "text"
      },
      "source": [
        "*Print the first 20 rows in the dataset.*"
      ]
    },
    {
      "cell_type": "code",
      "metadata": {
        "id": "CQcEo-gVmOFv",
        "colab_type": "code",
        "colab": {}
      },
      "source": [
        "###Start code here\n",
        "\n",
        "###End code here"
      ],
      "execution_count": 0,
      "outputs": []
    },
    {
      "cell_type": "markdown",
      "metadata": {
        "id": "Ntai-SM2mOF2",
        "colab_type": "text"
      },
      "source": [
        "The columns of\n",
        "[data_covid19](https://open-covid-19.github.io/data/data.csv) are:\n",
        "\n",
        "| Name | Description | Example |\n",
        "| ---- | ----------- | ------- |\n",
        "| **Date**\\* | ISO 8601 date (YYYY-MM-DD) of the datapoint | 2020-03-21 |\n",
        "| **Key** | `CountryCode` if country-level data, otherwise `${CountryCode}_${RegionCode}` | CN_HB |\n",
        "| **CountryCode** | ISO 3166-1 code of the country | CN |\n",
        "| **CountryName** | American English name of the country, subject to change | China |\n",
        "| **RegionCode** | (Optional) ISO 3166-2 or NUTS 2 code of the region | HB |\n",
        "| **RegionName** | (Optional) American English name of the region, subject to change | Hubei |\n",
        "| **Confirmed**\\*\\* | Total number of cases confirmed after positive test | 67800 |\n",
        "| **Deaths**\\*\\* | Total number of deaths from a positive COVID-19 case | 3139 |\n",
        "| **Latitude** | Floating point representing the geographic coordinate | 30.9756 |\n",
        "| **Longitude** | Floating point representing the geographic coordinate | 112.2707 |\n",
        "| **Population** | Total count of humans living in the region | 1.153933e+07 |\n",
        "\n",
        "\\*Date used is **reporting** date, which generally lags a day from the actual\n",
        "date and is subject to timezone adjustments. Whenever possible, dates\n",
        "consistent with the ECDC daily reports are used.\n",
        "\n",
        "\\*\\*Missing values will be represented as nulls, whereas zeroes are used when\n",
        "a true value of zero is reported. For example, US states where deaths are not\n",
        "being reported have null values.\n",
        "\n",
        "For countries where both country-level and region-level data is available, the\n",
        "entry which has a null value for the `RegionCode` and `RegionName` columns\n",
        "indicates country-level aggregation. Please note that, sometimes, the\n",
        "country-level data and the region-level data come from different sources so\n",
        "adding up all region-level values may not equal exactly to the reported\n",
        "country-level value. See the [data loading tutorial][7] for more information.\n",
        "\n",
        "The `CountryName` and `RegionName` values are subject to change. You may use\n",
        "them for labels in your application, but you should not assume that they will\n",
        "remain the same in future updates. Instead, use `CountryCode` and `RegionCode`\n",
        "to perform joins with other data sources or for filtering within your\n",
        "application."
      ]
    },
    {
      "cell_type": "markdown",
      "metadata": {
        "id": "lX3q1bmFmOF3",
        "colab_type": "text"
      },
      "source": [
        "For this analysis we will look at only a few countries. We can use the `Key` column to select these countries:"
      ]
    },
    {
      "cell_type": "code",
      "metadata": {
        "id": "IQsD8i8GmOF4",
        "colab_type": "code",
        "colab": {}
      },
      "source": [
        "countries = [\"FR\",\"BE\",\"SE\",\"CH\",\"AU\",\"NL\",\"CN\",\"JP\",\"GB\",\"ES\",\"IT\",\"US\"]\n",
        "\n",
        "data_covid19 = data_covid19[data_covid19[\"Key\"].isin(countries)]"
      ],
      "execution_count": 0,
      "outputs": []
    },
    {
      "cell_type": "markdown",
      "metadata": {
        "id": "d6PKhHUymOF-",
        "colab_type": "text"
      },
      "source": [
        "*Print the last 10 rows in the dataset where `Key` is BE*."
      ]
    },
    {
      "cell_type": "code",
      "metadata": {
        "id": "AqIdut0RmOGA",
        "colab_type": "code",
        "colab": {}
      },
      "source": [
        "###Start code here\n",
        "\n",
        "###End code here"
      ],
      "execution_count": 0,
      "outputs": []
    },
    {
      "cell_type": "markdown",
      "metadata": {
        "id": "mCTUUks9mOGM",
        "colab_type": "text"
      },
      "source": [
        "*Use the Pandas DataFrame `.describe()` method to print statistics about the confirmed cases for Belgium.*"
      ]
    },
    {
      "cell_type": "code",
      "metadata": {
        "id": "VwXftvsRmOGN",
        "colab_type": "code",
        "colab": {}
      },
      "source": [
        "###Start code here\n",
        "\n",
        "###End code here"
      ],
      "execution_count": 0,
      "outputs": []
    },
    {
      "cell_type": "markdown",
      "metadata": {
        "id": "j_FV0ViKmOGS",
        "colab_type": "text"
      },
      "source": [
        "Each row in the dataset represents a day and contains the number of confirmed cases in a region (country) for that day. You will plot the number of confirmed cases for each country up until today. To do so you will first create a new DataFrame that contains the data to plot. \n",
        "\n",
        "In Pandas the `.groupby` method can group rows by the values in a certain column \"A\" such that the values in another column \"B\" can be aggegated. \n",
        "\n",
        "*Use these methods to print the total number confirmed cases for each country by assigning the correct columns to variables \"A\" and \"B\":*"
      ]
    },
    {
      "cell_type": "code",
      "metadata": {
        "id": "FP_iA6VSmOGT",
        "colab_type": "code",
        "colab": {}
      },
      "source": [
        "###Start code here\n",
        "A = \n",
        "B = \n",
        "###End code here\n",
        "\n",
        "total_confirmed = data_covid19.groupby(A)[B].sum()\n",
        "print(total_confirmed)"
      ],
      "execution_count": 0,
      "outputs": []
    },
    {
      "cell_type": "markdown",
      "metadata": {
        "id": "NaEz503-mOGY",
        "colab_type": "text"
      },
      "source": [
        "To plot the result of the aggregagtion we need to transform the result into a DataFrame as follows:"
      ]
    },
    {
      "cell_type": "code",
      "metadata": {
        "id": "J5iBX_ltmOGZ",
        "colab_type": "code",
        "colab": {}
      },
      "source": [
        "total_confirmed = total_confirmed.reset_index(name = \"Confirmed\")\n",
        "print(total_confirmed)"
      ],
      "execution_count": 0,
      "outputs": []
    },
    {
      "cell_type": "markdown",
      "metadata": {
        "id": "vD6ktDSYmOGf",
        "colab_type": "text"
      },
      "source": [
        "*Sort the countries in `total_confirmed` by confirmed cases in descending order.*"
      ]
    },
    {
      "cell_type": "code",
      "metadata": {
        "id": "a7eCUUTemOGg",
        "colab_type": "code",
        "colab": {}
      },
      "source": [
        "###Start code here\n",
        "total_confirmed = \n",
        "###End code here\n",
        "\n",
        "print(total_confirmed)"
      ],
      "execution_count": 0,
      "outputs": []
    },
    {
      "cell_type": "markdown",
      "metadata": {
        "id": "f0BGpXTcmOGm",
        "colab_type": "text"
      },
      "source": [
        "We are now ready to make a nice looking barplot using the Seaborn module.\n",
        "\n",
        "*Assign the correct data to the x and y-axis to plot this barplot:*"
      ]
    },
    {
      "cell_type": "code",
      "metadata": {
        "id": "S3uiDpJImOGn",
        "colab_type": "code",
        "colab": {}
      },
      "source": [
        "%matplotlib inline\n",
        "import matplotlib.pyplot as plt\n",
        "import seaborn as sns\n",
        "sns.set_style(\"white\")\n",
        "\n",
        "###Start code here\n",
        "x = \n",
        "y = \n",
        "###End code here\n",
        "\n",
        "plt.figure(figsize=(12,8))\n",
        "plt.title(\"#confirmed cases/country\")\n",
        "sns.barplot(x=x,y=y,palette=\"Paired\")\n",
        "plt.xlabel(\"Country\")\n",
        "plt.show()"
      ],
      "execution_count": 0,
      "outputs": []
    },
    {
      "cell_type": "markdown",
      "metadata": {
        "id": "_qs8l_htmOGs",
        "colab_type": "text"
      },
      "source": [
        "The `Confirmed` column in the `data_covid19` dataset contains the number of confirmed cases for each day. We will add a new column `Confirmed_total` to the dataset that contains the number of confirmed cases up until that day:"
      ]
    },
    {
      "cell_type": "code",
      "metadata": {
        "id": "aqburFdhmOGt",
        "colab_type": "code",
        "colab": {}
      },
      "source": [
        "data_covid19[\"Confirmed_total\"] = data_covid19.groupby('Key')['Confirmed'].transform(pd.Series.cumsum)"
      ],
      "execution_count": 0,
      "outputs": []
    },
    {
      "cell_type": "markdown",
      "metadata": {
        "id": "hDO3-fZOmOGy",
        "colab_type": "text"
      },
      "source": [
        "*Use the `.lineplot` method in Seaborn to plot, for each country (on the sample plot), the total number of confirmed cases (x-axis) against the confirmed cases for each day (y-axis):*"
      ]
    },
    {
      "cell_type": "code",
      "metadata": {
        "id": "JAvb7EXwmOGz",
        "colab_type": "code",
        "colab": {}
      },
      "source": [
        "plt.figure(figsize=(12,8))\n",
        "\n",
        "###Start code here\n",
        "sns.lineplot(...,palette=\"Paired\")\n",
        "###End code here\n",
        "\n",
        "plt.show()"
      ],
      "execution_count": 0,
      "outputs": []
    },
    {
      "cell_type": "markdown",
      "metadata": {
        "id": "A68obAvkmOG5",
        "colab_type": "text"
      },
      "source": [
        "*Add a new column to `data_covid19` called  `Deaths_total` that contains the number of deaths up unitl that day:*"
      ]
    },
    {
      "cell_type": "code",
      "metadata": {
        "id": "NMEUKKK2mOG6",
        "colab_type": "code",
        "colab": {}
      },
      "source": [
        "###Start code here\n",
        "data_covid19[\"Deaths_total\"] = \n",
        "###End code here"
      ],
      "execution_count": 0,
      "outputs": []
    },
    {
      "cell_type": "markdown",
      "metadata": {
        "id": "gINrpimmmOHC",
        "colab_type": "text"
      },
      "source": [
        "*Use the `.lineplot` method to plot these two new columns with a line for each country:*"
      ]
    },
    {
      "cell_type": "code",
      "metadata": {
        "id": "B50ORqNImOHD",
        "colab_type": "code",
        "colab": {}
      },
      "source": [
        "plt.figure(figsize=(12,8))\n",
        "\n",
        "###Start code here\n",
        "sns.lineplot(...,palette=\"Paired\")\n",
        "###End code here\n",
        "\n",
        "plt.show()"
      ],
      "execution_count": 0,
      "outputs": []
    },
    {
      "cell_type": "markdown",
      "metadata": {
        "id": "tT8bOffymOHJ",
        "colab_type": "text"
      },
      "source": [
        "*Create one more interesting plot from this dataset:*"
      ]
    },
    {
      "cell_type": "code",
      "metadata": {
        "id": "e9L_ssX3okDv",
        "colab_type": "code",
        "colab": {}
      },
      "source": [
        "###Start code here\n",
        "\n",
        "###End code here"
      ],
      "execution_count": 0,
      "outputs": []
    }
  ]
}