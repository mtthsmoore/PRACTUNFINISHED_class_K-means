{
  "nbformat": 4,
  "nbformat_minor": 0,
  "metadata": {
    "kernelspec": {
      "display_name": "Python 3",
      "language": "python",
      "name": "python3"
    },
    "language_info": {
      "codemirror_mode": {
        "name": "ipython",
        "version": 3
      },
      "file_extension": ".py",
      "mimetype": "text/x-python",
      "name": "python",
      "nbconvert_exporter": "python",
      "pygments_lexer": "ipython3",
      "version": "3.7.3"
    },
    "colab": {
      "name": "6b_Bias-variance.ipynb",
      "provenance": []
    }
  },
  "cells": [
    {
      "cell_type": "markdown",
      "metadata": {
        "id": "mYXSmAOY4FGz",
        "colab_type": "text"
      },
      "source": [
        "# 6b. Bias / variance tradeoff"
      ]
    },
    {
      "cell_type": "code",
      "metadata": {
        "id": "fDYetE1s4FG2",
        "colab_type": "code",
        "colab": {},
        "outputId": "63875d75-8f05-4c4d-c296-8d544e8c920f"
      },
      "source": [
        "%matplotlib inline\n",
        "import warnings;\n",
        "warnings.filterwarnings('ignore');\n",
        "import matplotlib.pyplot as plt;\n",
        "import numpy as np;\n",
        "import pandas as pd;\n",
        "import seaborn as sns;\n",
        "sns.set_context(\"notebook\", font_scale=1.4);\n",
        "sns.set_style(\"whitegrid\");"
      ],
      "execution_count": 0,
      "outputs": [
        {
          "output_type": "execute_result",
          "data": {
            "text/html": [
              "<link href='http://fonts.googleapis.com/css?family=Alegreya+Sans:100,300,400,500,700,800,900,100italic,300italic,400italic,500italic,700italic,800italic,900italic' rel='stylesheet' type='text/css'>\n",
              "<link href='http://fonts.googleapis.com/css?family=Arvo:400,700,400italic' rel='stylesheet' type='text/css'>\n",
              "<link href='http://fonts.googleapis.com/css?family=PT+Mono' rel='stylesheet' type='text/css'>\n",
              "<link href='http://fonts.googleapis.com/css?family=Shadows+Into+Light' rel='stylesheet' type='text/css'>\n",
              "<link href='http://fonts.googleapis.com/css?family=Philosopher:400,700,400italic,700italic' rel='stylesheet' type='text/css'>\n",
              "<link href='http://fonts.googleapis.com/css?family=Open+Sans' rel='stylesheet' type='text/css'>\n",
              "\n",
              "<style>\n",
              "\n",
              "@font-face {\n",
              "    font-family: \"Computer Modern\";\n",
              "    src: url('http://mirrors.ctan.org/fonts/cm-unicode/fonts/otf/cmunss.otf');\n",
              "}\n",
              "\n",
              "\n",
              "#notebook_panel { /* main background */\n",
              "    background: #888;\n",
              "    color: #f6f6f6;\n",
              "}\n",
              "\n",
              "div.cell { /* set cell width to about 80 chars */\n",
              "}\n",
              "\n",
              "div #notebook { /* centre the content */\n",
              "    background: #fff; /* white background for content */\n",
              "    margin: auto;\n",
              "}\n",
              "\n",
              "#notebook li { /* More space between bullet points */\n",
              "margin-top:0.8em;\n",
              "}\n",
              "\n",
              "/* draw border around running cells */\n",
              "div.cell.border-box-sizing.code_cell.running {\n",
              "    border: 3px solid #111;\n",
              "}\n",
              "\n",
              "/* Put a solid color box around each cell and its output, visually linking them together */\n",
              "div.cell.code_cell {\n",
              "    /*background-color: rgba(171,165,131,0.3); /*\n",
              "    border-radius: 10px; /* rounded borders */\n",
              "    padding: 1em;\n",
              "    /*margin-top: 1em;*/\n",
              "}\n",
              "\n",
              "div.text_cell_render{\n",
              "    font-family: 'Open Sans', Helvetica;\n",
              "    line-height: 140%;\n",
              "    font-size: 105%;\n",
              "    /*margin-top:15px;*/\n",
              "    margin-bottom:8px;\n",
              "    text-align:justify;\n",
              "}\n",
              "\n",
              "/* Formatting for header cells */\n",
              ".text_cell_render h1 {\n",
              "    font-family: 'Open Sans',sans-serif;\n",
              "    font-weight: 100;\n",
              "    font-size: 30pt;\n",
              "    line-height: 100%;\n",
              "    display: block;\n",
              "}\n",
              "\n",
              ".text_cell_render h2 {\n",
              "    font-family: 'Philosopher', serif;\n",
              "    font-weight: 700;\n",
              "    font-size: 24pt;\n",
              "    line-height: 100%;\n",
              "    color: rgb(171,165,131);\n",
              "    margin-bottom: 0.1em;\n",
              "    margin-top: 0.1em;\n",
              "    display: block;\n",
              "}    \n",
              "\n",
              ".text_cell_render h3 {\n",
              "    font-family: 'Philosopher', serif;\n",
              "    margin-top:12px;\n",
              "    margin-bottom: 3px;\n",
              "    font-style: italic;\n",
              "    color: rgb(95,92,72);\n",
              "}\n",
              "\n",
              ".text_cell_render h4 {\n",
              "    font-family: 'Philosopher', serif;\n",
              "}\n",
              "\n",
              ".text_cell_render h5 {\n",
              "    font-family: 'Alegreya Sans', sans-serif;\n",
              "    font-weight: 300;\n",
              "    font-size: 16pt;\n",
              "    color: grey;\n",
              "    font-style: italic;\n",
              "    margin-bottom: .1em;\n",
              "    margin-top: 0.1em;\n",
              "    display: block;\n",
              "}\n",
              "\n",
              ".text_cell_render h6 {\n",
              "    font-family: 'PT Mono', sans-serif;\n",
              "    font-weight: 300;\n",
              "    font-size: 10pt;\n",
              "    color: grey;\n",
              "    margin-bottom: 1px;\n",
              "    margin-top: 1px;\n",
              "}\n",
              "\n",
              ".CodeMirror{\n",
              "        font-family: \"PT Mono\";\n",
              "        font-size: 100%;\n",
              "}\n",
              "\n",
              ".output_area {\n",
              "\tmargin-top:20px;\n",
              "}\n",
              "\n",
              ".output_stderr {\n",
              "\tdisplay:none;\n",
              "\t}\n",
              "\n",
              ".output_subarea {\n",
              "\tdisplay: block;\n",
              "    margin: 0 auto;\n",
              "}\n",
              "\n",
              ".output_png img {\n",
              "    display: block;\n",
              "    margin-left: auto;\n",
              "    margin-right: auto;\n",
              "}\n",
              "\n",
              ".prompt {\n",
              "\tvisible: false;\n",
              "\t}\n",
              "\n",
              "</style>\n",
              "\n"
            ],
            "text/plain": [
              "<IPython.core.display.HTML object>"
            ]
          },
          "metadata": {
            "tags": []
          },
          "execution_count": 1
        }
      ]
    },
    {
      "cell_type": "markdown",
      "metadata": {
        "id": "KsG9jpJs4FG_",
        "colab_type": "text"
      },
      "source": [
        "So far we have discussed several supervised machine learning algorithms that each learn a predictive model from a train set using a certain model representation and a certain objective function. Machine learning theory has shown that the prediction error such a model makes can be broken down into three parts: **the bias, the variance, and the irreducible error**.\n",
        "\n",
        "To explain these concepts we need to first understand that the train set used to learn a model is typically a very small subset of all possible data points. This means that the generalization performance (i.e. prediction error on unseen test set) depends, to a certain extend, on the particular choice of the train set sample (which is something we don’t control). \n",
        "\n",
        "Imagine a dartboard where the goal is to hit the bullseye in the middle of the board. Now we throw several darts that try to hit the bullseye. The figure below shows several possible scenarios. \n",
        "\n",
        "<br/>\n",
        "<center>\n",
        "<img src=\"https://github.com/sdgroeve/Machine_Learning_course_UGent_D012554/raw/master/notebooks/6_ensemble_learning/bias-and-variance.jpg\" />\n",
        "</center>\n",
        "<br/>\n",
        "<br/>"
      ]
    },
    {
      "cell_type": "markdown",
      "metadata": {
        "id": "_0YkB_Fi4FHC",
        "colab_type": "text"
      },
      "source": [
        "In our context, the bullseye represents the correct value we want to predict. Each dart is a predictive model, trained on a different train set sample, that tries to predict the correct value.\n",
        " \n",
        "**The error due to bias** is the difference between the expected prediction of our model and the correct value that we try to predict. By expected prediction we mean the average prediction of models trained on different train set samples. In the figure above we can see that for low bias models the average (center point of the dart locations) is very close to the correct value. These models are able to predict the correct value. High bias models are not able to predict the correct value for any of the train set samples.\n",
        "\n",
        "**The error due to variance** is the variability of a model prediction for a given data point. The variance does not care about the correct value that we try to predict but instead looks at the variance of the prediction for different train set samples. In the figure above we can see that low variance models tend to hit the same (or very close) location for each train set sample, while predictions of high variance models are much more dependant on the actual choice of the train set sample.\n",
        "\n",
        "**The irreducible error** is a stochastic error that we cannot reduce by choosing a better model and is typically due to randomness or natural variability in a system. For instance, when describing a protein sequence by a feature vector to train a model that predicts the function of a protein based on these features then the randomness (or unknown) comes from the environment (or context) in which a protein acts that can also influence the function of a protein. \n",
        "\n",
        "Examples of low variance high bias algorithms are linear regression and logistic regression. They assume a relatively simple (not very flexible) model representation and as such are known to possess **low complexity**.\n",
        "\n",
        "Examples of high variance low bias algorithms are SVMs with Gaussian kernel and decision tree learning algorithms. They have a much more flexible model representation and as such are known to possess **high complexity**.\n",
        "\n",
        "This means that there is a **tradeoff** between the bias of a model and its variance. When minimizing one, the other will increase and *vice versa*. This is true because a model cannot possess low complexity and high complexity at the same time.  \n",
        "\n",
        "This tradeoff can be visualized as follows: \n",
        "\n",
        "<br/>\n",
        "<center>\n",
        "<img src=\"https://github.com/sdgroeve/Machine_Learning_course_UGent_D012554/raw/master/notebooks/6_ensemble_learning/biasvariance.png\" />\n",
        "</center>\n",
        "<br/>\n",
        "<br/>"
      ]
    },
    {
      "cell_type": "markdown",
      "metadata": {
        "id": "mI3f1fz34FHH",
        "colab_type": "text"
      },
      "source": [
        "The x-axis represents the complexity of a model. The y-axis shows the prediction error. As the model complexity increases the bias is reduced (the model is more flexible) but the variance will increase. The optimum model complexity is obtained when the increase in variance is equivalent to the reduction in bias.\n",
        "\n",
        "Note that the regularization term introduced for linear and logistic regression (as well as for the SVM) follows the same principle. High regularization means decreasing the complexity of the model representation by constraining the model parameters. This leads to higher bias and lower variance. Similarly, low regularization means increasing model complexity and results in lower bias with higher variance."
      ]
    }
  ]
}