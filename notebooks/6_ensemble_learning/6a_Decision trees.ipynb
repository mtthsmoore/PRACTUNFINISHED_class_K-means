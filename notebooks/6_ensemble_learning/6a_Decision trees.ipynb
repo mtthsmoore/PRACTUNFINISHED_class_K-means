{
  "nbformat": 4,
  "nbformat_minor": 0,
  "metadata": {
    "kernelspec": {
      "display_name": "Python 3",
      "language": "python",
      "name": "python3"
    },
    "language_info": {
      "codemirror_mode": {
        "name": "ipython",
        "version": 3
      },
      "file_extension": ".py",
      "mimetype": "text/x-python",
      "name": "python",
      "nbconvert_exporter": "python",
      "pygments_lexer": "ipython3",
      "version": "3.7.7"
    },
    "colab": {
      "name": "6a_Decision trees.ipynb",
      "provenance": []
    }
  },
  "cells": [
    {
      "cell_type": "code",
      "metadata": {
        "id": "p_EO_W7l0b6y",
        "colab_type": "code",
        "colab": {}
      },
      "source": [
        "%matplotlib inline\n",
        "import warnings;\n",
        "warnings.filterwarnings('ignore');\n",
        "import matplotlib.pyplot as plt;\n",
        "import numpy as np;\n",
        "import pandas as pd;\n",
        "import seaborn as sns;\n",
        "sns.set_context(\"notebook\", font_scale=1.2);\n",
        "sns.set_style(\"whitegrid\");"
      ],
      "execution_count": 0,
      "outputs": []
    },
    {
      "cell_type": "code",
      "metadata": {
        "id": "_KATxZbf3AoG",
        "colab_type": "code",
        "colab": {}
      },
      "source": [
        "###util methods\n",
        "def plot_entropy_function():\n",
        "\tpvals = np.linspace(0, 1)        \n",
        "\tplt.plot(pvals, [entropy([p,1-p]) for p in pvals])\n",
        "\tplt.xlabel(r'$p_1=1-p_2$',fontsize=18)\n",
        "\tplt.ylabel('entropy')"
      ],
      "execution_count": 0,
      "outputs": []
    },
    {
      "cell_type": "markdown",
      "metadata": {
        "id": "FPyEHtsn0b6x",
        "colab_type": "text"
      },
      "source": [
        "# 6a. Decision trees"
      ]
    },
    {
      "cell_type": "markdown",
      "metadata": {
        "id": "kAWUAwYp0b64",
        "colab_type": "text"
      },
      "source": [
        "A **decision tree** is a flowchart-like structure in which each **internal node** represents a test on a feature, each **branch** represents a possible outcome of the test and each **leaf node** represents a target. The paths from root to leaf represent prediction rules. Decision trees can be used to solve both classification and regression tasks, but here we will restrict the description to classification trees. Here is an example of a decision tree:\n",
        "\n",
        "<br/>\n",
        "<center>\n",
        "<img src=\"https://github.com/sdgroeve/Machine_Learning_course_UGent_D012554_data/raw/master/notebooks/6_ensemble_learning/decisiontree.png\"/>\n",
        "</center>\n",
        "<br/>\n",
        "<br/>"
      ]
    },
    {
      "cell_type": "markdown",
      "metadata": {
        "id": "-H3YsDbz0b7F",
        "colab_type": "text"
      },
      "source": [
        "The first test is performed in the **root node** (top node) and checks if feature \"X[9]\" has a value smaller than or equal to -0.5350. If it is then we follow the left branch in the flowchart, if it isn't we follow the right branch. This process is repeated until we reach a leaf node from which we obtain predicted class probabilities. \n",
        "\n",
        "The decision tree is built in a **top-down** fashion where the main question is how to choose which feature to split at each node? The answer is to find the feature that best splits the target class into the purest possible children nodes. This **measure of purity** is typically computed as the opposite of the **entropy** (which is a measure of impurity) of the class label probabilities in the data set. \n",
        "\n",
        "The idea behind classification decision tree construction is to assign an **entropy value to a set of data label probabilities** and use this entropy to find the **best split** at each node in the decision tree. Suppose we have a data set with 100 samples of which 20 belong to class 1 and 80 belong to class 2. For this data set the probability $p_1$ that a data point belongs to class 1 is 0.2, the probability $p_2$ that a data point belongs to class 2 is 0.8. \n",
        "\n",
        "The entropy $H$ of these two class label probabilities is computed as\n",
        "\n",
        "$$H(p_1,p_2) = -p_1 log_2(p_1) -p_2 log_2(p_2).$$ \n",
        "\n",
        "More general the entropy of any number of probabilities is computed as\n",
        "\n",
        "$$H(p_i) = -\\sum_i p_i log_2(p_i),$$\n",
        "\n",
        "where $i$ ranges over the class probabilities. Let's compute the entropy for the probability of the classes in our data set:"
      ]
    },
    {
      "cell_type": "code",
      "metadata": {
        "id": "ZoQr8w9w0b7F",
        "colab_type": "code",
        "outputId": "6d4ca433-cc72-45f8-feff-4cac245748fc",
        "colab": {
          "base_uri": "https://localhost:8080/",
          "height": 36
        }
      },
      "source": [
        "from scipy.stats import entropy\n",
        "\n",
        "print(entropy([.2,.8],base=2))"
      ],
      "execution_count": 3,
      "outputs": [
        {
          "output_type": "stream",
          "text": [
            "0.7219280948873623\n"
          ],
          "name": "stdout"
        }
      ]
    },
    {
      "cell_type": "markdown",
      "metadata": {
        "id": "tBWPQJ_m0b7K",
        "colab_type": "text"
      },
      "source": [
        "Now suppose our data set contains only one sample for class 1 and 99 for class 2:"
      ]
    },
    {
      "cell_type": "code",
      "metadata": {
        "id": "ZNXzgDHW0b7K",
        "colab_type": "code",
        "outputId": "ac0a1e5c-2a42-4af5-94ba-b2928ccf6031",
        "colab": {
          "base_uri": "https://localhost:8080/",
          "height": 36
        }
      },
      "source": [
        "print(entropy([.01,.99],base=2))"
      ],
      "execution_count": 4,
      "outputs": [
        {
          "output_type": "stream",
          "text": [
            "0.08079313589591118\n"
          ],
          "name": "stdout"
        }
      ]
    },
    {
      "cell_type": "markdown",
      "metadata": {
        "id": "L0QXG2_00b7O",
        "colab_type": "text"
      },
      "source": [
        "The entropy for this data set is much lower. To maximize the entropy of a data set we have to create one with an equal number of samples for class 1 and 2:"
      ]
    },
    {
      "cell_type": "code",
      "metadata": {
        "id": "HJXvipe30b7O",
        "colab_type": "code",
        "outputId": "c188033b-d612-4d5f-f8e8-ccc6818df4d3",
        "colab": {
          "base_uri": "https://localhost:8080/",
          "height": 36
        }
      },
      "source": [
        "print(entropy([.5,.5],base=2))"
      ],
      "execution_count": 5,
      "outputs": [
        {
          "output_type": "stream",
          "text": [
            "1.0\n"
          ],
          "name": "stdout"
        }
      ]
    },
    {
      "cell_type": "markdown",
      "metadata": {
        "id": "9qy-QRd80b7R",
        "colab_type": "text"
      },
      "source": [
        "In this case the uncertainty about the classes is maximal. The **binary entropy function** for two classes looks like this:"
      ]
    },
    {
      "cell_type": "code",
      "metadata": {
        "id": "17m-hEJd0b7S",
        "colab_type": "code",
        "outputId": "4b53f8c4-86b1-406d-d9ca-e7dee2b2f35f",
        "colab": {
          "base_uri": "https://localhost:8080/",
          "height": 405
        }
      },
      "source": [
        "plt.figure(figsize=(6,6))\n",
        "plot_entropy_function()\n",
        "plt.show()"
      ],
      "execution_count": 6,
      "outputs": [
        {
          "output_type": "display_data",
          "data": {
            "image/png": "[encoded data removed]",
            "text/plain": [
              "<Figure size 432x432 with 1 Axes>"
            ]
          },
          "metadata": {
            "tags": [],
            "needs_background": "light"
          }
        }
      ]
    },
    {
      "cell_type": "markdown",
      "metadata": {
        "id": "8WYyG8Yq0b7Z",
        "colab_type": "text"
      },
      "source": [
        "A decision tree is constructed by **recursively splitting** (partitioning) a data set $D$. For each split the learning algorithm finds the feature that *best* partitioned the data set. To find this feature we can use several criteria, one of them is called **information gain**.\n",
        "\n",
        "Information gain is the difference between the current entropy of a system and the entropy measured after a feature is chosen. If $D$ is a set of samples and $x$ is a possible feature that partitions $D$ in subsets $D_v$, then:\n",
        "\n",
        "<br>\n",
        "$$G(D,x) = \\text{Entropy}(D) - \\sum\\frac{|D_v|}{|D|} \\text{Entropy}(D_v).$$\n",
        "<br>"
      ]
    },
    {
      "cell_type": "markdown",
      "metadata": {
        "id": "Zs-yM7TP0b7a",
        "colab_type": "text"
      },
      "source": [
        "The **decision tree learning algorithm** computes the information gain for each feature and selects the one with the highest value. In this way, it searches the \"tree space\" according to a greedy strategy, i.e. not all possible trees are evaluated.\n",
        "\n",
        "A tree is constructed by recursively selecting the feature from the current data set with the largest information gain and adding a test to the decision tree. Refer to \"Informatica II\" for the details on how to construct a decision tree using the information gain criterion.\n",
        "\n",
        "Decision trees can become very complex which makes them prone to overfitting the train set. To prevent this, the decision tree learning algorithm stops growing the tree if the information gain is not sufficient to justify the extra complexity of adding another node. Other **stopping criteria** exist such as limiting the number of samples in a node or limiting the depth of the tree.\n",
        "\n",
        "Let's load a data set that contains information about translation initiation sites (TIS) in genes [1]. The data set contains feature vectors that each represent a nucleotide sequence of length 203. The middle three nucleotides in these sequences are always ATG (i.e. candidate TIS) and are labeled '1' (positive class) if they form the start of a translation of a gene and '0' (negative class) otherwise: "
      ]
    },
    {
      "cell_type": "code",
      "metadata": {
        "id": "25dkw4450b7b",
        "colab_type": "code",
        "outputId": "31f4fd7e-c148-4976-ebef-229ed0fb1d6b",
        "colab": {
          "base_uri": "https://localhost:8080/",
          "height": 166
        }
      },
      "source": [
        "dataset = pd.read_csv(\"https://raw.githubusercontent.com/sdgroeve/Machine_Learning_course_UGent_D012554_data/master/notebooks/6_ensemble_learning/TIS.csv\")\n",
        "print(dataset.head())"
      ],
      "execution_count": 7,
      "outputs": [
        {
          "output_type": "stream",
          "text": [
            "   UP_A  DOWN_A  UP_R  DOWN_R  UP_N  ...  UP_Y  DOWN_Y  UP_V  DOWN_V  label\n",
            "0     0       3     0       1     0  ...     0       0     0       1      0\n",
            "1     5       2     3       3     0  ...     0       0     2       3      1\n",
            "2     4       3     3       3     1  ...     0       0     0       4      0\n",
            "3     1       0     0       1     0  ...     0       1     0       1      1\n",
            "4     0       0     1       1     0  ...     0       1     0       1      0\n",
            "\n",
            "[5 rows x 41 columns]\n"
          ],
          "name": "stdout"
        }
      ]
    },
    {
      "cell_type": "markdown",
      "metadata": {
        "id": "RCayQqli0b7h",
        "colab_type": "text"
      },
      "source": [
        "The features are straightforward. For instance the feature \"UP_A\" counts the number of codons coding for amino acid A that are found in the upstream region of the sequence (relative to the candidate TIS), while feature \"DOWN_V\" counts the number of codons coding for amino acid V that are found in the downstream region of the sequence. So, there are 40 features (+1 column for the label):"
      ]
    },
    {
      "cell_type": "code",
      "metadata": {
        "id": "nS5g1DMk0b7i",
        "colab_type": "code",
        "outputId": "02f34635-70ee-49f7-a4d3-d9d273c8855a",
        "colab": {
          "base_uri": "https://localhost:8080/",
          "height": 36
        }
      },
      "source": [
        "print(dataset.shape)"
      ],
      "execution_count": 8,
      "outputs": [
        {
          "output_type": "stream",
          "text": [
            "(1000, 41)\n"
          ],
          "name": "stdout"
        }
      ]
    },
    {
      "cell_type": "markdown",
      "metadata": {
        "id": "SjrqRSt20b7n",
        "colab_type": "text"
      },
      "source": [
        "About 25% of the data points are labeled as positive:"
      ]
    },
    {
      "cell_type": "code",
      "metadata": {
        "id": "my8jBLyq0b7o",
        "colab_type": "code",
        "outputId": "a1cfabac-6125-43a9-ee09-75c39dc3b751",
        "colab": {
          "base_uri": "https://localhost:8080/",
          "height": 73
        }
      },
      "source": [
        "print(dataset['label'].value_counts() / dataset['label'].count())"
      ],
      "execution_count": 9,
      "outputs": [
        {
          "output_type": "stream",
          "text": [
            "0    0.729\n",
            "1    0.271\n",
            "Name: label, dtype: float64\n"
          ],
          "name": "stdout"
        }
      ]
    },
    {
      "cell_type": "markdown",
      "metadata": {
        "id": "8R1TV0z30b7s",
        "colab_type": "text"
      },
      "source": [
        "In scikit-learn there is the `DecisionTreeClassifier` module that computes a decision tree. Here we optimize the maximum tree depth for the decision tree using `GridSearchCV` and estimate the generalization performance using nested cross-validation:"
      ]
    },
    {
      "cell_type": "code",
      "metadata": {
        "id": "RKE6VL-A0b7t",
        "colab_type": "code",
        "outputId": "2bec1016-2b1c-41a8-de00-aa6c02dc7ce9",
        "colab": {
          "base_uri": "https://localhost:8080/",
          "height": 36
        }
      },
      "source": [
        "from sklearn.model_selection import cross_val_predict\n",
        "from sklearn.model_selection import GridSearchCV\n",
        "from sklearn.tree import DecisionTreeClassifier\n",
        "from sklearn import metrics\n",
        "\n",
        "X = dataset.copy()\n",
        "y = X.pop('label')\n",
        "\n",
        "np.random.seed(1)\n",
        "\n",
        "search_space = {'max_depth':[4,8,16]}\n",
        "model = DecisionTreeClassifier(criterion='entropy')\n",
        "grid_search = GridSearchCV(model, param_grid=search_space, cv=5)\n",
        "\n",
        "cv_predictions = cross_val_predict(grid_search, X, y, method=\"predict_proba\")\n",
        "\n",
        "fpr, tpr, thresholds = metrics.roc_curve(y, cv_predictions[:,1])\n",
        "print(metrics.auc(fpr, tpr))"
      ],
      "execution_count": 10,
      "outputs": [
        {
          "output_type": "stream",
          "text": [
            "0.7264564003664729\n"
          ],
          "name": "stdout"
        }
      ]
    },
    {
      "cell_type": "markdown",
      "metadata": {
        "id": "uJcMCC2A0b7x",
        "colab_type": "text"
      },
      "source": [
        "Decision trees have several advantages: \n",
        "\n",
        "* ease of interpretation\n",
        "* handles continuous and discrete features\n",
        "* invariant to monotone transformation of features\n",
        "* variable selection automated\n",
        "* low bias (for deep trees)\n",
        "\n",
        "The disadvantage is that decision trees show high variance and a are prone to overfitting.\n",
        "\n",
        "In the next chapter we will discuss the meaning of bias and variance in the context of a machine learning algorithm."
      ]
    },
    {
      "cell_type": "markdown",
      "metadata": {
        "id": "yxd0HFls0b7z",
        "colab_type": "text"
      },
      "source": [
        "**Reference**\n",
        "\n",
        "[1] Pedersen AG, Nielsen H. Proceedings 5th International Conference on Intelligent Systems for Molecular Biology. 1997. Neural network prediction of translation initiation sites in eukaryotes: perspectives for EST and genome analysis; pp. 226–233."
      ]
    }
  ]
}