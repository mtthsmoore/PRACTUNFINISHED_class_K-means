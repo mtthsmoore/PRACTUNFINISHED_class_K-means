{
  "nbformat": 4,
  "nbformat_minor": 0,
  "metadata": {
    "kernelspec": {
      "display_name": "Python 3",
      "language": "python",
      "name": "python3"
    },
    "language_info": {
      "codemirror_mode": {
        "name": "ipython",
        "version": 3
      },
      "file_extension": ".py",
      "mimetype": "text/x-python",
      "name": "python",
      "nbconvert_exporter": "python",
      "pygments_lexer": "ipython3",
      "version": "3.7.3"
    },
    "colab": {
      "name": "8._Dimensionality_reduction.ipynb",
      "provenance": []
    }
  },
  "cells": [
    {
      "cell_type": "code",
      "metadata": {
        "id": "Z96s2Yva82B-",
        "colab_type": "code",
        "colab": {}
      },
      "source": [
        "%matplotlib inline\n",
        "import warnings;\n",
        "warnings.filterwarnings('ignore');\n",
        "import matplotlib.pyplot as plt;\n",
        "import numpy as np;\n",
        "import pandas as pd;\n",
        "import seaborn as sns;\n",
        "sns.set_context(\"notebook\", font_scale=1.2);\n",
        "sns.set_style(\"whitegrid\");"
      ],
      "execution_count": 0,
      "outputs": []
    },
    {
      "cell_type": "code",
      "metadata": {
        "id": "ZXrbcy8L9Jki",
        "colab_type": "code",
        "colab": {}
      },
      "source": [
        "###util methods\n",
        "def plot_eigenvectors(dataset,w,v):\n",
        "\tplt.plot(dataset['x1'],dataset['x2'],'bo',markersize=5)\n",
        "\tplt.arrow(0,0,10*v[0,0],10*v[1,0],color='r',linewidth=2,head_width=1,head_length=1)\n",
        "\tplt.arrow(0,0,10*v[0,1],10*v[1,1],color='r',linewidth=2,head_width=1,head_length=1)\n",
        "\tplt.text(12*v[0,0],10*v[1,0],r'PC1, $\\vec{v_1}$ =  %.2f $\\vec{x_1}$ + %.2f $\\vec{x_2}$' % (v[0,0],v[1,0]), fontsize=15)\n",
        "\tplt.text(26*v[0,1],8*v[1,1],r'PC2, $\\vec{v_2}$ =  %.2f $\\vec{x_&}$ + %.2f $\\vec{x_2}$' % (v[0,1],v[1,1]), fontsize=15)\n",
        "def plot_scatter_annotated(dataset,labels):\n",
        "  X = dataset.values\n",
        "  plt.figure(figsize=(12,12))\n",
        "  plt.scatter(X[:,0], X[:,1],s=100)\n",
        "  for i, (x, y) in enumerate(zip(X[:, 0], X[:, 1])):\n",
        "      plt.annotate(\n",
        "          labels[i], \n",
        "          xy = (x, y), xytext = (-20, 20),\n",
        "          textcoords = 'offset points', ha = 'right', va = 'bottom',\n",
        "          bbox = dict(boxstyle = 'round,pad=0.5', fc = 'white', alpha = 0.5),\n",
        "          arrowprops = dict(arrowstyle = '->', connectionstyle = 'arc3,rad=0'))\t"
      ],
      "execution_count": 0,
      "outputs": []
    },
    {
      "cell_type": "markdown",
      "metadata": {
        "id": "OZq6177K82B8",
        "colab_type": "text"
      },
      "source": [
        "# 8. Dimensionality reduction\n"
      ]
    },
    {
      "cell_type": "markdown",
      "metadata": {
        "id": "jZEOvec-82CD",
        "colab_type": "text"
      },
      "source": [
        "In many cases it can be useful to **reduce the number of features (dimensions)** in a data set before building a classification or regression model. Removing noisy features or decorrelating correlated features can prevent data overfitting. In addition it improves training times and decreases computer memory requirements. Finally when reducing the number of features to less than four we can actually take a look the data in for instance a scatterplot. \n",
        "\n",
        "In these final two chapters we take a look at some popular **dimensionality reduction** algorithms which can be roughly divided into two types: **feature extraction** and **feature selection**. The key idea for all of these approaches however is the same: while reducing the number of features try to preserve as much information as possible. For feature extraction we will discuss **Principle Components Analysis (PCA)** and **Multidimensional Scaling (MDS)**. These approaches compute a new set of features that does not include any of the original features. This is typically achieved by mapping the original data into a lower-dimensional space using some kind of transformation. In contrast feature selection reduces the number of features by selecting only those features that are relevant for the classification or regression task. \n",
        "\n",
        "PCA decomposes a data set in its principal components (PC) through a **linear** transformation. PC's (also called eigenvectors) are **orthogonal** to each other and point in the direction of **largest variance**. So what does this mean? Let's say we have a data set with two features and we want to reduce this data to one feature."
      ]
    },
    {
      "cell_type": "code",
      "metadata": {
        "id": "dDHP7sjs82CE",
        "colab_type": "code",
        "outputId": "a9700ead-8cef-4a20-a6cd-97fa985001fe",
        "colab": {
          "base_uri": "https://localhost:8080/",
          "height": 585
        }
      },
      "source": [
        "dataset = pd.read_csv('https://raw.githubusercontent.com/sdgroeve/Machine_Learning_course_UGent_D012554_data/master/notebooks/8_dimensionality_reduction/pca.csv')\n",
        "sns.lmplot(x=\"x1\", y=\"x2\", data=dataset, fit_reg=False, height=8, scatter_kws={\"s\": 80})\n",
        "plt.show()"
      ],
      "execution_count": 3,
      "outputs": [
        {
          "output_type": "display_data",
          "data": {
            "image/png": "[encoded data removed]",
            "text/plain": [
              "<Figure size 576x576 with 1 Axes>"
            ]
          },
          "metadata": {
            "tags": [],
            "needs_background": "light"
          }
        }
      ]
    },
    {
      "cell_type": "markdown",
      "metadata": {
        "id": "DMvl1tFw82CI",
        "colab_type": "text"
      },
      "source": [
        "To apply PCA the data needs to be **centered** first. In this case it was centered already. PCA will search for the direction that preserves the most of the original variance. This is vector PC1 in the plot below."
      ]
    },
    {
      "cell_type": "code",
      "metadata": {
        "id": "pZpDJ_Oz82CJ",
        "colab_type": "code",
        "outputId": "72a07316-64e9-4aad-a563-705c2673a968",
        "colab": {
          "base_uri": "https://localhost:8080/",
          "height": 488
        }
      },
      "source": [
        "w,v=np.linalg.eig(np.cov(dataset.values.T)) #finds the eigenvalues and principle components (eigenvectors)\n",
        "\n",
        "plt.figure(figsize=(8,8))\n",
        "plot_eigenvectors(dataset,w,v)\n",
        "plt.show()"
      ],
      "execution_count": 4,
      "outputs": [
        {
          "output_type": "display_data",
          "data": {
            "image/png": "[encoded data removed]",
            "text/plain": [
              "<Figure size 576x576 with 1 Axes>"
            ]
          },
          "metadata": {
            "tags": [],
            "needs_background": "light"
          }
        }
      ]
    },
    {
      "cell_type": "markdown",
      "metadata": {
        "id": "XsU5SiKf82CM",
        "colab_type": "text"
      },
      "source": [
        "The second principle component PC2 is orthogonal to PC1. These two new dimensions PC1 and PC2 now form a new space for the data points in which PC1 preserves (or explains) most of the variance in the data set. In general for a $n$-dimensional data set PCA will compute $n$ PCs such that PC1 explains most of the variance in the data set, PC2 explains most of the variance while being orthogonal to PC1, PC3 explains most of the variance while being orthogonal to PC1 and PC2, etc.\n",
        "\n",
        "Each $i$-th PC has an **eigenvalue** $w_i$ that represents the variance (which was maximized) observed for the corresponding PC."
      ]
    },
    {
      "cell_type": "code",
      "metadata": {
        "id": "n6Ll9jF682CN",
        "colab_type": "code",
        "outputId": "835fb147-e7a0-4b43-9a27-d87a92ca725b",
        "colab": {
          "base_uri": "https://localhost:8080/",
          "height": 54
        }
      },
      "source": [
        "print(\"Eigenvalue for PC1 (w_0): {:.2f}\".format(w[0]))\n",
        "print(\"Eigenvalue for PC2 (w_1): {:.2f}\".format(w[1]))"
      ],
      "execution_count": 5,
      "outputs": [
        {
          "output_type": "stream",
          "text": [
            "Eigenvalue for PC1 (w_0): 38.81\n",
            "Eigenvalue for PC2 (w_1): 3.48\n"
          ],
          "name": "stdout"
        }
      ]
    },
    {
      "cell_type": "markdown",
      "metadata": {
        "id": "6x96hBsH82CQ",
        "colab_type": "text"
      },
      "source": [
        "The amount of variance explained by each PC$i$ is given by\n",
        "\n",
        "$$\\frac{w_i}{\\sum_j w_j},$$\n",
        "\n",
        "where $j$ ranges over all PCs."
      ]
    },
    {
      "cell_type": "code",
      "metadata": {
        "id": "c9JVM6nR82CR",
        "colab_type": "code",
        "outputId": "96371281-f025-412d-e85a-8b7846efb187",
        "colab": {
          "base_uri": "https://localhost:8080/",
          "height": 54
        }
      },
      "source": [
        "var_explained=100*w/sum(w)\n",
        "print(\"Variance explained by PC1: {}\".format(var_explained[0]))\n",
        "print(\"Variance explained by PC2: {}\".format(var_explained[1]))"
      ],
      "execution_count": 6,
      "outputs": [
        {
          "output_type": "stream",
          "text": [
            "Variance explained by PC1: 91.77589516379089\n",
            "Variance explained by PC2: 8.224104836209115\n"
          ],
          "name": "stdout"
        }
      ]
    },
    {
      "cell_type": "markdown",
      "metadata": {
        "id": "cUjiTf-o82Cf",
        "colab_type": "text"
      },
      "source": [
        "The first principle component does indeed explain most variance in the original data set. The next step is to actually reduce the number of dimensions. If we would remove PC2 and project all data points to PC1 then we preserve 91.78% of the variance in the data set. If we remove PC1 and project all data points to PC2 we preserve only 8.22%. Clearly we want to project the original data set onto the top ranked PCs. For instance to visualize a $n$-dimensional data set we can project the data onto the first two or three PCs. \n",
        "\n",
        "\n",
        "Let's remove PC2 and project the data onto PC1. From the plot above we know that we can compute the data points for PC1 from the original features $x_1$ and $x_2$ as\n",
        "\n",
        "<br>\n",
        "$$\\vec{v_1} =  0.85 \\vec{x_1} + 0.53 \\vec{x_2}.$$\n",
        "<br>\n",
        "\n",
        "We now replaced the features $x_1$ and $x_2$ by the feature $v_1$. This one dimensional data set can be plotted as a histogram:"
      ]
    },
    {
      "cell_type": "code",
      "metadata": {
        "id": "e3gvqZDJ82Cf",
        "colab_type": "code",
        "outputId": "6cc0423a-5a15-461b-de72-341d487914a7",
        "colab": {
          "base_uri": "https://localhost:8080/",
          "height": 434
        }
      },
      "source": [
        "plt.figure(figsize=(7,7))\n",
        "sns.distplot(v[0,0]*dataset['x1']+v[1,0]*dataset['x2'], color=\"b\")\n",
        "plt.show()"
      ],
      "execution_count": 7,
      "outputs": [
        {
          "output_type": "display_data",
          "data": {
            "image/png": "[encoded data removed]",
            "text/plain": [
              "<Figure size 504x504 with 1 Axes>"
            ]
          },
          "metadata": {
            "tags": [],
            "needs_background": "light"
          }
        }
      ]
    },
    {
      "cell_type": "markdown",
      "metadata": {
        "id": "aUkVD-gt82Cj",
        "colab_type": "text"
      },
      "source": [
        "The variance of this distribution is thus 38.81. To show how PCA is applied using the PCA module in scikit-learn we first create an artificial data set with 100 samples in two classes. There are 100 features of which 10 are informative:"
      ]
    },
    {
      "cell_type": "code",
      "metadata": {
        "id": "LHujIwDN82Cj",
        "colab_type": "code",
        "colab": {}
      },
      "source": [
        "import sklearn.datasets as datasets\n",
        "\n",
        "(dataset_big,targets) = datasets.make_classification(\n",
        "n_samples=100,\n",
        "n_features=100,\n",
        "n_classes=2,\n",
        "n_informative=10,\n",
        "n_redundant=0,\n",
        "n_repeated=0,\n",
        "class_sep=2,\n",
        "n_clusters_per_class=1,\n",
        "random_state=2,\n",
        ")"
      ],
      "execution_count": 0,
      "outputs": []
    },
    {
      "cell_type": "markdown",
      "metadata": {
        "id": "5ZBS3QE-82Cn",
        "colab_type": "text"
      },
      "source": [
        "Now we apply PCA and keep only the two top principle components. The data set is projected (or transformed) onto these two new dimensions and plotted:"
      ]
    },
    {
      "cell_type": "code",
      "metadata": {
        "id": "FGLD1jBi82Cn",
        "colab_type": "code",
        "outputId": "593a5606-26f7-499e-e625-56ab40af6137",
        "colab": {
          "base_uri": "https://localhost:8080/",
          "height": 513
        }
      },
      "source": [
        "from sklearn.decomposition import PCA\n",
        "\n",
        "pca = PCA(n_components=2)\n",
        "dataset_big_projected = pd.DataFrame(pca.fit(dataset_big).transform(dataset_big),\n",
        "                                     columns=['PC1','PC2'])\n",
        "dataset_big_projected['label'] = targets\n",
        "\n",
        "sns.lmplot(x=\"PC1\", y=\"PC2\", data=dataset_big_projected, hue='label', markers=['+','o'],\n",
        "           fit_reg=False, height=7, scatter_kws={\"s\": 80})\n",
        "plt.show()"
      ],
      "execution_count": 9,
      "outputs": [
        {
          "output_type": "display_data",
          "data": {
            "image/png": "[encoded data removed]",
            "text/plain": [
              "<Figure size 560.02x504 with 1 Axes>"
            ]
          },
          "metadata": {
            "tags": [],
            "needs_background": "light"
          }
        }
      ]
    },
    {
      "cell_type": "markdown",
      "metadata": {
        "id": "OXoTWMSe82Cr",
        "colab_type": "text"
      },
      "source": [
        "The plots reveals the two classes (remember these were not known to the PCA algorithm) and also reveals possible outliers in both classes. We can look at the explained variance for each PC:"
      ]
    },
    {
      "cell_type": "code",
      "metadata": {
        "id": "Z90wRK1l82Cr",
        "colab_type": "code",
        "outputId": "37e333a4-05cb-4ff2-c562-394def631671",
        "colab": {
          "base_uri": "https://localhost:8080/",
          "height": 54
        }
      },
      "source": [
        "print(\"Variance explained by PC1: {}\".format(pca.explained_variance_ratio_[0]))\n",
        "print(\"Variance explained by PC2: {}\".format(pca.explained_variance_ratio_[1]))"
      ],
      "execution_count": 10,
      "outputs": [
        {
          "output_type": "stream",
          "text": [
            "Variance explained by PC1: 0.21411594016511112\n",
            "Variance explained by PC2: 0.05657021538352139\n"
          ],
          "name": "stdout"
        }
      ]
    },
    {
      "cell_type": "markdown",
      "metadata": {
        "id": "581tHRZe82Cu",
        "colab_type": "text"
      },
      "source": [
        "We observe how PC1 and PC2 together only explain about 27% of the original variance while still providing useful structural information about the 100-dimensional data set."
      ]
    },
    {
      "cell_type": "markdown",
      "metadata": {
        "id": "ZgFoNrsL82Cv",
        "colab_type": "text"
      },
      "source": [
        "MDS seeks a low-dimensional representation of the data in which the low-dimensional distances respect well the distances in the original high-dimensional space.\n",
        "\n",
        "In general, it is a technique used for analyzing similarity or dissimilarity data. The algorithm starts from **distance matrix** rather then from a data set with feature vectors. This distance matrix contains the distances (dissimilarity) between the objects in a data set (e.g. interaction frequencies of molecules). So we don't necessarily have to represent the objects in the data set as feature vectors."
      ]
    },
    {
      "cell_type": "markdown",
      "metadata": {
        "id": "vVSbPpzz82Cw",
        "colab_type": "text"
      },
      "source": [
        "Let $\\delta_{i,j}$ be the distance between object $i$ and object $j$ in the data set with $n$ objects. The distance matrix $\\Delta$ can the be written as\n",
        "\n",
        "<br>\n",
        "\\begin{pmatrix}\n",
        "\\delta_{1,1} & \\delta_{1,2} & \\cdots & \\delta_{1,n} \\\\\n",
        "\\delta_{2,1} & \\delta_{2,2} & \\cdots & \\delta_{2,n} \\\\\n",
        "\\vdots & \\vdots & & \\vdots \\\\\n",
        "\\delta_{n,1} & \\delta_{n,2} & \\cdots & \\delta_{n,n}\n",
        "\\end{pmatrix}\n",
        "<br>\n",
        "\n",
        "The goal of MDS is, given $\\Delta$, to find $n$ vectors $x^{(1)},\\ldots,x^{(n)} \\in \\mathbb{R}^N$ such that\n",
        "\n",
        "<br>\n",
        "$$\\|x^{(i)} - x^{(j)}\\| \\approx \\delta_{i,j}$$ \n",
        "\n",
        "for all \n",
        "\n",
        "$$i,j\\in {1,\\dots,n},$$\n",
        "\n",
        "where $\\|\\cdot\\|$ is a vector norm. In classical MDS, this norm is the Euclidean distance, but it may be any metric or arbitrary distance function."
      ]
    },
    {
      "cell_type": "markdown",
      "metadata": {
        "id": "dRDwBpj682Cx",
        "colab_type": "text"
      },
      "source": [
        "Let's look at a typical example in which we don't want (or can't) represent the objects in the data set as feature vectors. Imagine we have collected car GPS tracking data and used it to compute a distance matrix $\\Delta$ in which the distance between two US cities is estimated by the average time a car required to travel between the cities. \n",
        "\n",
        "In this case we will be reading a distance matrix:"
      ]
    },
    {
      "cell_type": "code",
      "metadata": {
        "id": "KSV-iC5B82Cy",
        "colab_type": "code",
        "outputId": "61d8f526-31c6-495d-ee1a-c17cb5ee8bdf",
        "colab": {
          "base_uri": "https://localhost:8080/",
          "height": 363
        }
      },
      "source": [
        "sim_matrix_cities = pd.read_csv('https://raw.githubusercontent.com/sdgroeve/Machine_Learning_course_UGent_D012554_data/master/notebooks/8_dimensionality_reduction/cities_us.csv',sep=' ')\n",
        "sim_matrix_cities"
      ],
      "execution_count": 11,
      "outputs": [
        {
          "output_type": "execute_result",
          "data": {
            "text/html": [
              "<div>\n",
              "<style scoped>\n",
              "    .dataframe tbody tr th:only-of-type {\n",
              "        vertical-align: middle;\n",
              "    }\n",
              "\n",
              "    .dataframe tbody tr th {\n",
              "        vertical-align: top;\n",
              "    }\n",
              "\n",
              "    .dataframe thead th {\n",
              "        text-align: right;\n",
              "    }\n",
              "</style>\n",
              "<table border=\"1\" class=\"dataframe\">\n",
              "  <thead>\n",
              "    <tr style=\"text-align: right;\">\n",
              "      <th></th>\n",
              "      <th>Atlanta</th>\n",
              "      <th>Chicago</th>\n",
              "      <th>Denver</th>\n",
              "      <th>Houston</th>\n",
              "      <th>LA</th>\n",
              "      <th>Miami</th>\n",
              "      <th>NYC</th>\n",
              "      <th>SF</th>\n",
              "      <th>Seattle</th>\n",
              "      <th>DC</th>\n",
              "    </tr>\n",
              "  </thead>\n",
              "  <tbody>\n",
              "    <tr>\n",
              "      <th>0</th>\n",
              "      <td>0.000</td>\n",
              "      <td>0.587</td>\n",
              "      <td>1.212</td>\n",
              "      <td>0.701</td>\n",
              "      <td>1.936</td>\n",
              "      <td>0.604</td>\n",
              "      <td>0.748</td>\n",
              "      <td>2.139</td>\n",
              "      <td>2.182</td>\n",
              "      <td>0.543</td>\n",
              "    </tr>\n",
              "    <tr>\n",
              "      <th>1</th>\n",
              "      <td>0.587</td>\n",
              "      <td>0.000</td>\n",
              "      <td>0.920</td>\n",
              "      <td>0.940</td>\n",
              "      <td>1.745</td>\n",
              "      <td>1.188</td>\n",
              "      <td>0.713</td>\n",
              "      <td>1.858</td>\n",
              "      <td>1.737</td>\n",
              "      <td>0.597</td>\n",
              "    </tr>\n",
              "    <tr>\n",
              "      <th>2</th>\n",
              "      <td>1.212</td>\n",
              "      <td>0.920</td>\n",
              "      <td>0.000</td>\n",
              "      <td>0.879</td>\n",
              "      <td>0.831</td>\n",
              "      <td>1.726</td>\n",
              "      <td>1.631</td>\n",
              "      <td>0.949</td>\n",
              "      <td>1.021</td>\n",
              "      <td>1.494</td>\n",
              "    </tr>\n",
              "    <tr>\n",
              "      <th>3</th>\n",
              "      <td>0.701</td>\n",
              "      <td>0.940</td>\n",
              "      <td>0.879</td>\n",
              "      <td>0.000</td>\n",
              "      <td>1.374</td>\n",
              "      <td>0.968</td>\n",
              "      <td>1.420</td>\n",
              "      <td>1.645</td>\n",
              "      <td>1.891</td>\n",
              "      <td>1.225</td>\n",
              "    </tr>\n",
              "    <tr>\n",
              "      <th>4</th>\n",
              "      <td>1.936</td>\n",
              "      <td>1.745</td>\n",
              "      <td>0.831</td>\n",
              "      <td>1.374</td>\n",
              "      <td>0.000</td>\n",
              "      <td>2.339</td>\n",
              "      <td>2.451</td>\n",
              "      <td>0.347</td>\n",
              "      <td>0.959</td>\n",
              "      <td>2.500</td>\n",
              "    </tr>\n",
              "    <tr>\n",
              "      <th>5</th>\n",
              "      <td>0.604</td>\n",
              "      <td>1.188</td>\n",
              "      <td>1.726</td>\n",
              "      <td>0.968</td>\n",
              "      <td>2.339</td>\n",
              "      <td>0.000</td>\n",
              "      <td>1.092</td>\n",
              "      <td>2.594</td>\n",
              "      <td>2.734</td>\n",
              "      <td>0.923</td>\n",
              "    </tr>\n",
              "    <tr>\n",
              "      <th>6</th>\n",
              "      <td>0.748</td>\n",
              "      <td>0.713</td>\n",
              "      <td>1.631</td>\n",
              "      <td>1.420</td>\n",
              "      <td>2.451</td>\n",
              "      <td>1.092</td>\n",
              "      <td>0.000</td>\n",
              "      <td>2.571</td>\n",
              "      <td>2.408</td>\n",
              "      <td>0.205</td>\n",
              "    </tr>\n",
              "    <tr>\n",
              "      <th>7</th>\n",
              "      <td>2.139</td>\n",
              "      <td>1.858</td>\n",
              "      <td>0.949</td>\n",
              "      <td>1.645</td>\n",
              "      <td>0.347</td>\n",
              "      <td>2.594</td>\n",
              "      <td>2.571</td>\n",
              "      <td>0.000</td>\n",
              "      <td>0.678</td>\n",
              "      <td>2.442</td>\n",
              "    </tr>\n",
              "    <tr>\n",
              "      <th>8</th>\n",
              "      <td>2.182</td>\n",
              "      <td>1.737</td>\n",
              "      <td>1.021</td>\n",
              "      <td>1.891</td>\n",
              "      <td>0.959</td>\n",
              "      <td>2.734</td>\n",
              "      <td>2.408</td>\n",
              "      <td>0.678</td>\n",
              "      <td>0.000</td>\n",
              "      <td>2.329</td>\n",
              "    </tr>\n",
              "    <tr>\n",
              "      <th>9</th>\n",
              "      <td>0.543</td>\n",
              "      <td>0.597</td>\n",
              "      <td>1.494</td>\n",
              "      <td>1.225</td>\n",
              "      <td>2.500</td>\n",
              "      <td>0.923</td>\n",
              "      <td>0.205</td>\n",
              "      <td>2.442</td>\n",
              "      <td>2.329</td>\n",
              "      <td>0.000</td>\n",
              "    </tr>\n",
              "  </tbody>\n",
              "</table>\n",
              "</div>"
            ],
            "text/plain": [
              "   Atlanta  Chicago  Denver  Houston  ...    NYC     SF  Seattle     DC\n",
              "0    0.000    0.587   1.212    0.701  ...  0.748  2.139    2.182  0.543\n",
              "1    0.587    0.000   0.920    0.940  ...  0.713  1.858    1.737  0.597\n",
              "2    1.212    0.920   0.000    0.879  ...  1.631  0.949    1.021  1.494\n",
              "3    0.701    0.940   0.879    0.000  ...  1.420  1.645    1.891  1.225\n",
              "4    1.936    1.745   0.831    1.374  ...  2.451  0.347    0.959  2.500\n",
              "5    0.604    1.188   1.726    0.968  ...  1.092  2.594    2.734  0.923\n",
              "6    0.748    0.713   1.631    1.420  ...  0.000  2.571    2.408  0.205\n",
              "7    2.139    1.858   0.949    1.645  ...  2.571  0.000    0.678  2.442\n",
              "8    2.182    1.737   1.021    1.891  ...  2.408  0.678    0.000  2.329\n",
              "9    0.543    0.597   1.494    1.225  ...  0.205  2.442    2.329  0.000\n",
              "\n",
              "[10 rows x 10 columns]"
            ]
          },
          "metadata": {
            "tags": []
          },
          "execution_count": 11
        }
      ]
    },
    {
      "cell_type": "markdown",
      "metadata": {
        "id": "DUWq-h_782C0",
        "colab_type": "text"
      },
      "source": [
        "MDS will plot these distances on a 2D map such that cities that require longer average driving times are positioned further away in the map. We should thus be able to reconstruct the US map:"
      ]
    },
    {
      "cell_type": "code",
      "metadata": {
        "id": "Fy0gILcA82C1",
        "colab_type": "code",
        "outputId": "a72b19f2-87bc-4836-e44b-e760149f8698",
        "colab": {
          "base_uri": "https://localhost:8080/",
          "height": 706
        }
      },
      "source": [
        "from sklearn import manifold\n",
        "\n",
        "mds = manifold.MDS(n_components=2, max_iter=3000, eps=1e-9, random_state=2,\n",
        "                   dissimilarity=\"precomputed\", n_jobs=1)\n",
        "mds_coordinates = mds.fit(sim_matrix_cities).embedding_\n",
        "\n",
        "plot_scatter_annotated(pd.DataFrame(mds_coordinates),\n",
        "                                    sim_matrix_cities.columns.values)\n",
        "plt.show()"
      ],
      "execution_count": 12,
      "outputs": [
        {
          "output_type": "display_data",
          "data": {
            "image/png": "[encoded data removed]",
            "text/plain": [
              "<Figure size 864x864 with 1 Axes>"
            ]
          },
          "metadata": {
            "tags": [],
            "needs_background": "light"
          }
        }
      ]
    },
    {
      "cell_type": "markdown",
      "metadata": {
        "id": "F5vpl4wH82C4",
        "colab_type": "text"
      },
      "source": [
        "We can see that the relative distances between the cities in the map are indeed correct. However, the map is rotated compared to the real map of the US. This is because the algorithm that computes the MDS coordinates starts with a random initialization of its model parameters, so every time you run MDS you well get a different rotation of the data. The MDS coordinates thus have no meaning other than representing distances between objects."
      ]
    }
  ]
}